{
 "cells": [
  {
   "cell_type": "markdown",
   "metadata": {},
   "source": [
    "#### Author: Alexis Geslin"
   ]
  },
  {
   "cell_type": "code",
   "execution_count": 1,
   "metadata": {
    "executionInfo": {
     "elapsed": 3730,
     "status": "ok",
     "timestamp": 1741728790307,
     "user": {
      "displayName": "Alexis Geslin",
      "userId": "05368027719046732967"
     },
     "user_tz": 420
    },
    "id": "uTikNgInxK28"
   },
   "outputs": [],
   "source": [
    "import re\n",
    "import time\n",
    "import glob\n",
    "import pandas as pd\n",
    "import numpy as np\n",
    "import argparse\n",
    "from statistics import stdev\n",
    "import matplotlib.pyplot as plt\n",
    "\n",
    "import torch\n",
    "import torch.nn as nn\n",
    "import torch.optim as optim\n",
    "from torch.utils.data import DataLoader, Dataset"
   ]
  },
  {
   "cell_type": "code",
   "execution_count": 2,
   "metadata": {
    "colab": {
     "base_uri": "https://localhost:8080/"
    },
    "executionInfo": {
     "elapsed": 13121,
     "status": "ok",
     "timestamp": 1741728803430,
     "user": {
      "displayName": "Alexis Geslin",
      "userId": "05368027719046732967"
     },
     "user_tz": 420
    },
    "id": "JoUFIvSxxRAn",
    "outputId": "096bd4bc-c691-493a-f237-274e230bcfc8"
   },
   "outputs": [
    {
     "name": "stdout",
     "output_type": "stream",
     "text": [
      "Mounted at /content/drive\n"
     ]
    }
   ],
   "source": [
    "from google.colab import drive\n",
    "drive.mount('/content/drive')"
   ]
  },
  {
   "cell_type": "code",
   "execution_count": 3,
   "metadata": {
    "colab": {
     "base_uri": "https://localhost:8080/"
    },
    "executionInfo": {
     "elapsed": 293,
     "status": "ok",
     "timestamp": 1741728803723,
     "user": {
      "displayName": "Alexis Geslin",
      "userId": "05368027719046732967"
     },
     "user_tz": 420
    },
    "id": "kxjSCeMxxqGc",
    "outputId": "7023903c-fb91-4e59-ce29-ea68d27abf9d"
   },
   "outputs": [
    {
     "name": "stdout",
     "output_type": "stream",
     "text": [
      "/content/drive/MyDrive/cours/cs224n/project/LLM-Prop\n"
     ]
    }
   ],
   "source": [
    "%cd drive/MyDrive/cours/cs224n/project/LLM-Prop/\n"
   ]
  },
  {
   "cell_type": "code",
   "execution_count": 4,
   "metadata": {
    "colab": {
     "base_uri": "https://localhost:8080/"
    },
    "executionInfo": {
     "elapsed": 133,
     "status": "ok",
     "timestamp": 1741728803922,
     "user": {
      "displayName": "Alexis Geslin",
      "userId": "05368027719046732967"
     },
     "user_tz": 420
    },
    "id": "WPW9SCD0xxh3",
    "outputId": "6d272fd2-8aee-4633-cd84-108ab60375a1"
   },
   "outputs": [
    {
     "name": "stdout",
     "output_type": "stream",
     "text": [
      "--------------------\n",
      "I have 1 devices, currently on 0\n",
      "--------------------\n"
     ]
    }
   ],
   "source": [
    "if torch.cuda.is_available():\n",
    "    device = torch.device(\"cuda\")\n",
    "    print('-'*20)\n",
    "    print(f'I have {torch.cuda.device_count()} devices, currently on {torch.cuda.current_device()}')\n",
    "    print('-'*20)\n",
    "else:\n",
    "    print('-'*20)\n",
    "    print(\"You are running on CPU only\")\n",
    "    print('-'*20)\n",
    "    device = torch.device(\"cpu\")"
   ]
  },
  {
   "cell_type": "code",
   "execution_count": 5,
   "metadata": {
    "executionInfo": {
     "elapsed": 35398,
     "status": "ok",
     "timestamp": 1741728839322,
     "user": {
      "displayName": "Alexis Geslin",
      "userId": "05368027719046732967"
     },
     "user_tz": 420
    },
    "id": "Fgue-5Hxx0vZ"
   },
   "outputs": [],
   "source": [
    "train_labels_data = pd.read_csv(f'./embeddings/pred_labels_train_train15000_200epoch_125098.csv')\n",
    "valid_labels_data = pd.read_csv(f'./embeddings/pred_labels_valid_train15000_200epoch_9945.csv')\n",
    "test_labels_data = pd.read_csv(f'./embeddings/pred_labels_test_train15000_200epoch_11531.csv')\n",
    "\n",
    "train_embeddings  = pd.read_csv(f'./embeddings/e5large_train_125098.csv', header=None)\n",
    "valid_embeddings  = pd.read_csv(f'./embeddings/e5large_valid_9945.csv', header=None)\n",
    "test_embeddings  = pd.read_csv(f'./embeddings/e5large_test_11531.csv', header=None)\n"
   ]
  },
  {
   "cell_type": "code",
   "execution_count": 6,
   "metadata": {
    "colab": {
     "base_uri": "https://localhost:8080/"
    },
    "executionInfo": {
     "elapsed": 670,
     "status": "ok",
     "timestamp": 1741728958177,
     "user": {
      "displayName": "Alexis Geslin",
      "userId": "05368027719046732967"
     },
     "user_tz": 420
    },
    "id": "tCUP6xFoBgiM",
    "outputId": "4819da21-c751-4caa-94c6-1b350d07b805"
   },
   "outputs": [
    {
     "name": "stdout",
     "output_type": "stream",
     "text": [
      "torch.Size([125098, 1024]) torch.Size([125098, 1]) cuda:0 cuda:0\n",
      "torch.Size([9945, 1024]) torch.Size([9945, 1]) cuda:0 cuda:0\n",
      "torch.Size([11531, 1024]) torch.Size([11531, 1]) cuda:0 cuda:0\n"
     ]
    }
   ],
   "source": [
    "#concat embeddings and numerical tokens and make it a tensor\n",
    "X_train = torch.tensor(train_embeddings.values).float().to(device)\n",
    "X_valid = torch.tensor(valid_embeddings.values).float().to(device)\n",
    "X_test = torch.tensor(test_embeddings.values).float().to(device)\n",
    "\n",
    "\n",
    "Y_train = torch.tensor(train_labels_data.label.values).float().reshape(-1,1).to(device)\n",
    "Y_valid = torch.tensor(valid_labels_data.label.values).float().reshape(-1,1).to(device)\n",
    "Y_test = torch.tensor(test_labels_data.label.values).float().reshape(-1,1).to(device)\n",
    "\n",
    "#print shapes\n",
    "print(X_train.shape, Y_train.shape,X_train.device,Y_train.device)\n",
    "print(X_valid.shape, Y_valid.shape,X_valid.device,Y_valid.device)\n",
    "print(X_test.shape, Y_test.shape,X_test.device,Y_test.device)"
   ]
  },
  {
   "cell_type": "code",
   "execution_count": 7,
   "metadata": {
    "executionInfo": {
     "elapsed": 1,
     "status": "ok",
     "timestamp": 1741728959812,
     "user": {
      "displayName": "Alexis Geslin",
      "userId": "05368027719046732967"
     },
     "user_tz": 420
    },
    "id": "metr3R6-ytNG"
   },
   "outputs": [],
   "source": [
    "\n",
    "dim_embeddings = train_embeddings.shape[1]\n",
    "mae_loss_function = nn.L1Loss()\n",
    "mseloss = nn.MSELoss()\n"
   ]
  },
  {
   "cell_type": "code",
   "execution_count": 8,
   "metadata": {
    "colab": {
     "base_uri": "https://localhost:8080/"
    },
    "executionInfo": {
     "elapsed": 5,
     "status": "ok",
     "timestamp": 1741728960333,
     "user": {
      "displayName": "Alexis Geslin",
      "userId": "05368027719046732967"
     },
     "user_tz": 420
    },
    "id": "9x2LCJBiytKy",
    "outputId": "dafdde14-994d-497f-84e6-12c33a5b0cd8"
   },
   "outputs": [
    {
     "name": "stdout",
     "output_type": "stream",
     "text": [
      "256\n"
     ]
    }
   ],
   "source": [
    "X_train_mini = X_train[:15000]\n",
    "Y_train_mini = Y_train[:15000]\n",
    "bs = 256 if torch.cuda.is_available() else 32\n",
    "print(bs)\n",
    "\n",
    "train_dataset = torch.utils.data.TensorDataset(X_train, Y_train)\n",
    "train_dataset_mini = torch.utils.data.TensorDataset(X_train_mini, Y_train_mini)\n",
    "valid_dataset = torch.utils.data.TensorDataset(X_valid, Y_valid)\n",
    "test_dataset = torch.utils.data.TensorDataset(X_test, Y_test)\n",
    "\n",
    "train_dataloader = torch.utils.data.DataLoader(train_dataset, batch_size=bs, shuffle=False)\n",
    "train_dataloader_mini = torch.utils.data.DataLoader(train_dataset_mini, batch_size=bs, shuffle=False)\n",
    "valid_dataloader = torch.utils.data.DataLoader(valid_dataset, batch_size=bs, shuffle=False)\n",
    "test_dataloader = torch.utils.data.DataLoader(test_dataset, batch_size=bs, shuffle=False)"
   ]
  },
  {
   "cell_type": "code",
   "execution_count": 15,
   "metadata": {
    "executionInfo": {
     "elapsed": 10,
     "status": "ok",
     "timestamp": 1741732434608,
     "user": {
      "displayName": "Alexis Geslin",
      "userId": "05368027719046732967"
     },
     "user_tz": 420
    },
    "id": "N0g_HPzpBqn1"
   },
   "outputs": [],
   "source": [
    "\n",
    "def init_weights(m):\n",
    "    if isinstance(m, torch.nn.Linear):\n",
    "        torch.nn.init.kaiming_uniform_(m.weight, nonlinearity='relu')\n",
    "        if m.bias is not None:\n",
    "            torch.nn.init.zeros_(m.bias)\n",
    "\n",
    "class ResidualBlock(nn.Module):\n",
    "    def __init__(self, in_features):\n",
    "        super().__init__()\n",
    "        self.fc = nn.Linear(in_features, in_features)\n",
    "        self.bn = nn.BatchNorm1d(in_features)\n",
    "\n",
    "    def forward(self, x):\n",
    "        return nn.functional.relu(self.bn(self.fc(x)) + x)\n",
    "\n",
    "class ResidualBlock2(nn.Module):\n",
    "    def __init__(self, in_features):\n",
    "        super().__init__()\n",
    "        self.fc = nn.Linear(in_features, in_features)\n",
    "        self.bn = nn.BatchNorm1d(in_features)\n",
    "\n",
    "    def forward(self, x):\n",
    "        return self.bn(self.fc(x)) + x\n",
    "\n",
    "class perceptronHead(nn.Module):\n",
    "    def __init__(self, embeddings_dim,mydroprate = 0.1):\n",
    "        super(perceptronHead, self).__init__()\n",
    "\n",
    "        self.MLP_embedding = nn.Sequential(\n",
    "            nn.Dropout(mydroprate),\n",
    "            nn.Linear(embeddings_dim, 512),\n",
    "            nn.ReLU(),\n",
    "            ResidualBlock(512),\n",
    "            nn.ReLU(),\n",
    "            nn.Linear(512, 128),\n",
    "            nn.ReLU(),\n",
    "            ResidualBlock(128),\n",
    "            nn.ReLU(),\n",
    "            nn.Linear(128, 8),\n",
    "            nn.ReLU(),\n",
    "            nn.Linear(8, 1)\n",
    "        )\n",
    "        # initialize weights with Kaiming\n",
    "        for m in self.MLP_embedding:\n",
    "            if isinstance(m, nn.Linear):\n",
    "                nn.init.kaiming_normal_(m.weight)\n",
    "                print(f'initialized {m}')\n",
    "\n",
    "\n",
    "    def forward(self, X):\n",
    "        x_out = self.MLP_embedding(X)\n",
    "        return x_out\n",
    "\n",
    "\n",
    "\n",
    "class perceptronHead2(nn.Module):\n",
    "    def __init__(self, embeddings_dim,mydroprate = 0.1):\n",
    "        super(perceptronHead2, self).__init__()\n",
    "\n",
    "        self.MLP_embedding = nn.Sequential(\n",
    "            nn.Dropout(mydroprate),\n",
    "            ResidualBlock(embeddings_dim),\n",
    "            nn.ReLU(),\n",
    "            nn.Linear(embeddings_dim, 512),\n",
    "            nn.ReLU(),\n",
    "            ResidualBlock(512),\n",
    "            nn.ReLU(),\n",
    "            nn.Linear(512, 128),\n",
    "            nn.ReLU(),\n",
    "            nn.Linear(128, 8),\n",
    "            nn.ReLU(),\n",
    "            nn.Linear(8, 1),\n",
    "        )\n",
    "        # initialize weights with Kaiming\n",
    "        for m in self.MLP_embedding:\n",
    "            if isinstance(m, nn.Linear):\n",
    "                nn.init.kaiming_normal_(m.weight)\n",
    "                print(f'initialized {m}')\n",
    "\n",
    "\n",
    "    def forward(self, X):\n",
    "        x_out = self.MLP_embedding(X)\n",
    "        return x_out\n",
    "\n",
    "class perceptronHead3(nn.Module):\n",
    "    def __init__(self, embeddings_dim,mydroprate = 0.1):\n",
    "        super(perceptronHead3, self).__init__()\n",
    "\n",
    "        self.MLP_embedding = nn.Sequential(\n",
    "            nn.Dropout(mydroprate),\n",
    "            ResidualBlock(embeddings_dim),\n",
    "            nn.LeakyReLU(),\n",
    "            nn.Linear(embeddings_dim, 512),\n",
    "            nn.LeakyReLU(),\n",
    "            nn.Dropout(mydroprate),\n",
    "            ResidualBlock(512),\n",
    "            nn.LeakyReLU(),\n",
    "            nn.Linear(512, 128),\n",
    "            nn.LeakyReLU(),\n",
    "            nn.Dropout(mydroprate),\n",
    "            ResidualBlock(128),\n",
    "            nn.LeakyReLU(),\n",
    "            nn.Linear(128, 1),\n",
    "        )\n",
    "        # initialize weights with Kaiming\n",
    "        for m in self.MLP_embedding:\n",
    "            if isinstance(m, nn.Linear):\n",
    "                nn.init.kaiming_normal_(m.weight)\n",
    "                print(f'initialized {m}')\n",
    "\n",
    "\n",
    "    def forward(self, X):\n",
    "        x_out = self.MLP_embedding(X)\n",
    "        return x_out\n",
    "\n",
    "class perceptronHead4(nn.Module):\n",
    "    def __init__(self, embeddings_dim,mydroprate = 0.1):\n",
    "        super(perceptronHead4, self).__init__()\n",
    "\n",
    "        self.MLP_embedding = nn.Sequential(\n",
    "            nn.Dropout(mydroprate),\n",
    "            ResidualBlock2(embeddings_dim),\n",
    "            nn.LeakyReLU(),\n",
    "            nn.Linear(embeddings_dim, 512),\n",
    "            nn.LeakyReLU(),\n",
    "            nn.Dropout(mydroprate),\n",
    "            ResidualBlock2(512),\n",
    "            nn.LeakyReLU(),\n",
    "            nn.Linear(512, 128),\n",
    "            nn.LeakyReLU(),\n",
    "            nn.Dropout(mydroprate),\n",
    "            ResidualBlock2(128),\n",
    "            nn.LeakyReLU(),\n",
    "            nn.Linear(128, 1),\n",
    "        )\n",
    "        # initialize weights with Kaiming\n",
    "        for m in self.MLP_embedding:\n",
    "            if isinstance(m, nn.Linear):\n",
    "                nn.init.kaiming_normal_(m.weight)\n",
    "                print(f'initialized {m}')\n",
    "\n",
    "\n",
    "    def forward(self, X):\n",
    "        x_out = self.MLP_embedding(X)\n",
    "        return x_out\n"
   ]
  },
  {
   "cell_type": "code",
   "execution_count": 16,
   "metadata": {
    "colab": {
     "base_uri": "https://localhost:8080/"
    },
    "executionInfo": {
     "elapsed": 26,
     "status": "ok",
     "timestamp": 1741732437097,
     "user": {
      "displayName": "Alexis Geslin",
      "userId": "05368027719046732967"
     },
     "user_tz": 420
    },
    "id": "f3cF7atQB6MT",
    "outputId": "dc2a56f2-59d2-4f7e-d64c-0612e481e190"
   },
   "outputs": [
    {
     "name": "stdout",
     "output_type": "stream",
     "text": [
      "initialized Linear(in_features=1024, out_features=512, bias=True)\n",
      "initialized Linear(in_features=512, out_features=128, bias=True)\n",
      "initialized Linear(in_features=128, out_features=1, bias=True)\n"
     ]
    },
    {
     "name": "stderr",
     "output_type": "stream",
     "text": [
      "/usr/local/lib/python3.11/dist-packages/torch/optim/lr_scheduler.py:62: UserWarning: The verbose parameter is deprecated. Please use get_last_lr() to access the learning rate.\n",
      "  warnings.warn(\n"
     ]
    }
   ],
   "source": [
    "model = perceptronHead4(dim_embeddings,mydroprate=0.1)\n",
    "model.to(device)\n",
    "\n",
    "# optimizer = optim.Adam(model.parameters(), lr=0.0015,weight_decay=0.01)\n",
    "optimizer = optim.Adam(model.parameters(), lr=0.0015)\n",
    "scheduler = optim.lr_scheduler.ReduceLROnPlateau(optimizer, mode='min', factor=0.5, patience=5, verbose=True)\n",
    "my_training_loader = train_dataloader_mini\n",
    "my_training_loader = train_dataloader"
   ]
  },
  {
   "cell_type": "code",
   "execution_count": 19,
   "metadata": {
    "colab": {
     "base_uri": "https://localhost:8080/"
    },
    "collapsed": true,
    "executionInfo": {
     "elapsed": 270208,
     "status": "ok",
     "timestamp": 1741733136247,
     "user": {
      "displayName": "Alexis Geslin",
      "userId": "05368027719046732967"
     },
     "user_tz": 420
    },
    "id": "oFLp4f7MCCOc",
    "outputId": "83221e14-235c-4969-e567-4f404f415d62"
   },
   "outputs": [
    {
     "name": "stdout",
     "output_type": "stream",
     "text": [
      "Epoch 0, Training Loss 0.181\n",
      "Saving a new best model\n",
      "Epoch 0, Validation Loss 0.3694521188735962\n",
      "Epoch 1, Training Loss 0.181\n",
      "Epoch 1, Validation Loss 0.369646281003952\n",
      "Epoch 2, Training Loss 0.18\n",
      "Saving a new best model\n",
      "Epoch 2, Validation Loss 0.3689213693141937\n",
      "Epoch 3, Training Loss 0.181\n",
      "Saving a new best model\n",
      "Epoch 3, Validation Loss 0.36836007237434387\n",
      "Epoch 4, Training Loss 0.18\n",
      "Epoch 4, Validation Loss 0.3683904707431793\n",
      "Epoch 5, Training Loss 0.181\n",
      "Epoch 5, Validation Loss 0.36886852979660034\n",
      "Epoch 6, Training Loss 0.179\n",
      "Epoch 6, Validation Loss 0.3687830865383148\n",
      "Epoch 7, Training Loss 0.179\n",
      "Epoch 7, Validation Loss 0.3694976270198822\n",
      "Epoch 8, Training Loss 0.18\n",
      "Epoch 8, Validation Loss 0.369441956281662\n",
      "Epoch 9, Training Loss 0.18\n",
      "Epoch 9, Validation Loss 0.3695423901081085\n",
      "Epoch 10, Training Loss 0.18\n",
      "Epoch 10, Validation Loss 0.3691067099571228\n",
      "Epoch 11, Training Loss 0.178\n",
      "Epoch 11, Validation Loss 0.36951878666877747\n",
      "Epoch 12, Training Loss 0.18\n",
      "Epoch 12, Validation Loss 0.3688516318798065\n",
      "Epoch 13, Training Loss 0.179\n",
      "Epoch 13, Validation Loss 0.3693820536136627\n",
      "Epoch 14, Training Loss 0.179\n",
      "Epoch 14, Validation Loss 0.368947833776474\n",
      "Epoch 15, Training Loss 0.179\n",
      "Epoch 15, Validation Loss 0.36894017457962036\n",
      "Epoch 16, Training Loss 0.179\n",
      "Epoch 16, Validation Loss 0.36906689405441284\n",
      "Epoch 17, Training Loss 0.179\n",
      "Epoch 17, Validation Loss 0.3692867159843445\n",
      "Epoch 18, Training Loss 0.18\n",
      "Epoch 18, Validation Loss 0.3695521652698517\n",
      "Epoch 19, Training Loss 0.179\n",
      "Epoch 19, Validation Loss 0.36897796392440796\n",
      "Epoch 20, Training Loss 0.178\n",
      "Epoch 20, Validation Loss 0.36887460947036743\n",
      "Epoch 21, Training Loss 0.178\n",
      "Epoch 21, Validation Loss 0.3683792054653168\n",
      "Epoch 22, Training Loss 0.179\n",
      "Epoch 22, Validation Loss 0.3685254156589508\n",
      "Epoch 23, Training Loss 0.179\n",
      "Epoch 23, Validation Loss 0.3685966730117798\n",
      "Epoch 24, Training Loss 0.178\n",
      "Epoch 24, Validation Loss 0.3685589134693146\n",
      "Epoch 25, Training Loss 0.18\n",
      "Saving a new best model\n",
      "Epoch 25, Validation Loss 0.36832839250564575\n",
      "Epoch 26, Training Loss 0.178\n",
      "Epoch 26, Validation Loss 0.3685725927352905\n",
      "Epoch 27, Training Loss 0.178\n",
      "Epoch 27, Validation Loss 0.36922505497932434\n",
      "Epoch 28, Training Loss 0.179\n",
      "Epoch 28, Validation Loss 0.36878350377082825\n",
      "Epoch 29, Training Loss 0.179\n",
      "Epoch 29, Validation Loss 0.3686971962451935\n",
      "Epoch 30, Training Loss 0.179\n",
      "Epoch 30, Validation Loss 0.36894237995147705\n",
      "Epoch 31, Training Loss 0.178\n",
      "Epoch 31, Validation Loss 0.3688103258609772\n",
      "Epoch 32, Training Loss 0.178\n",
      "Saving a new best model\n",
      "Epoch 32, Validation Loss 0.36827266216278076\n",
      "Epoch 33, Training Loss 0.179\n",
      "Epoch 33, Validation Loss 0.36869966983795166\n",
      "Epoch 34, Training Loss 0.179\n",
      "Epoch 34, Validation Loss 0.36883941292762756\n",
      "Epoch 35, Training Loss 0.179\n",
      "Epoch 35, Validation Loss 0.3688415288925171\n",
      "Epoch 36, Training Loss 0.179\n",
      "Epoch 36, Validation Loss 0.36861979961395264\n",
      "Epoch 37, Training Loss 0.179\n",
      "Epoch 37, Validation Loss 0.3686583936214447\n",
      "Epoch 38, Training Loss 0.179\n",
      "Epoch 38, Validation Loss 0.3689206838607788\n",
      "Epoch 39, Training Loss 0.179\n",
      "Epoch 39, Validation Loss 0.3686853349208832\n",
      "Epoch 40, Training Loss 0.179\n",
      "Epoch 40, Validation Loss 0.36883053183555603\n",
      "Epoch 41, Training Loss 0.178\n",
      "Epoch 41, Validation Loss 0.36886340379714966\n",
      "Epoch 42, Training Loss 0.178\n",
      "Epoch 42, Validation Loss 0.3686358630657196\n",
      "Epoch 43, Training Loss 0.179\n",
      "Epoch 43, Validation Loss 0.3689689338207245\n",
      "Epoch 44, Training Loss 0.179\n",
      "Epoch 44, Validation Loss 0.36851680278778076\n",
      "Epoch 45, Training Loss 0.178\n",
      "Epoch 45, Validation Loss 0.36910632252693176\n",
      "Epoch 46, Training Loss 0.179\n",
      "Epoch 46, Validation Loss 0.36886322498321533\n",
      "Epoch 47, Training Loss 0.178\n",
      "Epoch 47, Validation Loss 0.36891070008277893\n",
      "Epoch 48, Training Loss 0.178\n",
      "Epoch 48, Validation Loss 0.3683888018131256\n",
      "Epoch 49, Training Loss 0.179\n",
      "Epoch 49, Validation Loss 0.36865970492362976\n",
      "Epoch 50, Training Loss 0.178\n",
      "Epoch 50, Validation Loss 0.3691754639148712\n",
      "Epoch 51, Training Loss 0.178\n",
      "Epoch 51, Validation Loss 0.36905837059020996\n",
      "Epoch 52, Training Loss 0.179\n",
      "Epoch 52, Validation Loss 0.36883407831192017\n",
      "Epoch 53, Training Loss 0.178\n",
      "Epoch 53, Validation Loss 0.36868947744369507\n",
      "Epoch 54, Training Loss 0.178\n",
      "Epoch 54, Validation Loss 0.3686319887638092\n",
      "Epoch 55, Training Loss 0.179\n",
      "Epoch 55, Validation Loss 0.36884942650794983\n",
      "Epoch 56, Training Loss 0.179\n",
      "Epoch 56, Validation Loss 0.36898863315582275\n",
      "Epoch 57, Training Loss 0.177\n",
      "Epoch 57, Validation Loss 0.36857250332832336\n",
      "Epoch 58, Training Loss 0.178\n",
      "Epoch 58, Validation Loss 0.36901119351387024\n",
      "Epoch 59, Training Loss 0.178\n",
      "Epoch 59, Validation Loss 0.36854323744773865\n",
      "Epoch 60, Training Loss 0.179\n",
      "Epoch 60, Validation Loss 0.3686552047729492\n",
      "Epoch 61, Training Loss 0.179\n",
      "Epoch 61, Validation Loss 0.36897045373916626\n",
      "Epoch 62, Training Loss 0.179\n",
      "Epoch 62, Validation Loss 0.3686540126800537\n",
      "Epoch 63, Training Loss 0.179\n",
      "Epoch 63, Validation Loss 0.3691503703594208\n",
      "Epoch 64, Training Loss 0.179\n",
      "Epoch 64, Validation Loss 0.3684757947921753\n",
      "Epoch 65, Training Loss 0.179\n",
      "Epoch 65, Validation Loss 0.3684978485107422\n",
      "Epoch 66, Training Loss 0.178\n",
      "Epoch 66, Validation Loss 0.36872830986976624\n",
      "Epoch 67, Training Loss 0.179\n",
      "Epoch 67, Validation Loss 0.3686092495918274\n",
      "Epoch 68, Training Loss 0.179\n",
      "Epoch 68, Validation Loss 0.36899513006210327\n",
      "Epoch 69, Training Loss 0.178\n",
      "Epoch 69, Validation Loss 0.3687383830547333\n",
      "Epoch 70, Training Loss 0.179\n",
      "Epoch 70, Validation Loss 0.3688768744468689\n",
      "Epoch 71, Training Loss 0.18\n",
      "Epoch 71, Validation Loss 0.36872556805610657\n",
      "Epoch 72, Training Loss 0.179\n",
      "Epoch 72, Validation Loss 0.36885327100753784\n",
      "Epoch 73, Training Loss 0.179\n",
      "Epoch 73, Validation Loss 0.36881887912750244\n",
      "Epoch 74, Training Loss 0.179\n",
      "Epoch 74, Validation Loss 0.36846739053726196\n",
      "Epoch 75, Training Loss 0.178\n",
      "Epoch 75, Validation Loss 0.3687591850757599\n",
      "Epoch 76, Training Loss 0.179\n",
      "Epoch 76, Validation Loss 0.3686995208263397\n",
      "Epoch 77, Training Loss 0.178\n",
      "Epoch 77, Validation Loss 0.3688829243183136\n",
      "Epoch 78, Training Loss 0.178\n",
      "Epoch 78, Validation Loss 0.36856263875961304\n",
      "Epoch 79, Training Loss 0.178\n",
      "Epoch 79, Validation Loss 0.3687710165977478\n",
      "Epoch 80, Training Loss 0.178\n",
      "Epoch 80, Validation Loss 0.36885783076286316\n",
      "Epoch 81, Training Loss 0.178\n",
      "Epoch 81, Validation Loss 0.3691759407520294\n",
      "Epoch 82, Training Loss 0.179\n",
      "Epoch 82, Validation Loss 0.3690389096736908\n",
      "Epoch 83, Training Loss 0.18\n",
      "Epoch 83, Validation Loss 0.36887475848197937\n",
      "Epoch 84, Training Loss 0.178\n",
      "Epoch 84, Validation Loss 0.36846238374710083\n",
      "Epoch 85, Training Loss 0.179\n",
      "Epoch 85, Validation Loss 0.36870867013931274\n",
      "Epoch 86, Training Loss 0.179\n",
      "Epoch 86, Validation Loss 0.3689746856689453\n",
      "Epoch 87, Training Loss 0.179\n",
      "Epoch 87, Validation Loss 0.3687586486339569\n",
      "Epoch 88, Training Loss 0.179\n",
      "Epoch 88, Validation Loss 0.36891210079193115\n",
      "Epoch 89, Training Loss 0.178\n",
      "Epoch 89, Validation Loss 0.368556410074234\n",
      "Epoch 90, Training Loss 0.179\n",
      "Epoch 90, Validation Loss 0.3684677183628082\n",
      "Epoch 91, Training Loss 0.179\n",
      "Epoch 91, Validation Loss 0.3686416745185852\n",
      "Epoch 92, Training Loss 0.178\n",
      "Epoch 92, Validation Loss 0.36866235733032227\n",
      "Epoch 93, Training Loss 0.179\n",
      "Epoch 93, Validation Loss 0.3691575825214386\n",
      "Epoch 94, Training Loss 0.178\n",
      "Epoch 94, Validation Loss 0.3687227666378021\n",
      "Epoch 95, Training Loss 0.179\n",
      "Epoch 95, Validation Loss 0.36835992336273193\n",
      "Epoch 96, Training Loss 0.178\n",
      "Epoch 96, Validation Loss 0.368623822927475\n",
      "Epoch 97, Training Loss 0.179\n",
      "Epoch 97, Validation Loss 0.3689912259578705\n",
      "Epoch 98, Training Loss 0.178\n",
      "Epoch 98, Validation Loss 0.369077205657959\n",
      "Epoch 99, Training Loss 0.178\n",
      "Epoch 99, Validation Loss 0.368807315826416\n"
     ]
    }
   ],
   "source": [
    "epochs =100\n",
    "\n",
    "best_valid_loss = 1000000000\n",
    "for epoch in range(epochs):\n",
    "    model.train()\n",
    "    train_loss = 0\n",
    "    for i, (x, y) in enumerate(my_training_loader):\n",
    "        optimizer.zero_grad()\n",
    "        y_pred = model(x)\n",
    "        loss = mae_loss_function(y_pred, y)\n",
    "        train_loss += loss.item()\n",
    "        before_update = {name: param.clone().detach() for name, param in model.named_parameters()}\n",
    "        loss.backward()\n",
    "        # for name, param in model.named_parameters():\n",
    "        #     if param.grad is not None and torch.all(param.grad == 0):\n",
    "        #         print(f\"All-zero gradient for {name}\")\n",
    "        optimizer.step()\n",
    "\n",
    "        # for name, param in model.named_parameters():\n",
    "        #     if torch.equal(before_update[name], param):\n",
    "        #         print(f\"No update for {name}\")\n",
    "        # if i % 10000 == 0:\n",
    "    train_loss /= len(my_training_loader)\n",
    "    print(f'Epoch {epoch}, Training Loss {round((train_loss),3)}')\n",
    "\n",
    "\n",
    "\n",
    "\n",
    "    model.eval()\n",
    "\n",
    "    valid_preds = []\n",
    "    valid_labels = []\n",
    "    with torch.no_grad():\n",
    "        for i, (x, y) in enumerate(valid_dataloader):\n",
    "            y_pred = model(x)\n",
    "            valid_preds.append(y_pred)\n",
    "            # valid_preds.append(y_pred.detach().cpu())\n",
    "            valid_labels.append(y)\n",
    "    valid_preds = torch.cat(valid_preds)\n",
    "    valid_labels = torch.cat(valid_labels)\n",
    "    valid_loss = mae_loss_function(valid_preds, valid_labels)\n",
    "\n",
    "    if valid_loss < best_valid_loss:\n",
    "        best_valid_loss = valid_loss\n",
    "        torch.save(model.state_dict(), './AG_checkpoints/best_model_e5large.pth')\n",
    "        print(\"Saving a new best model\")\n",
    "    scheduler.step(best_valid_loss)\n",
    "    print(f'Epoch {epoch}, Validation Loss {valid_loss.item()}')"
   ]
  },
  {
   "cell_type": "code",
   "execution_count": 20,
   "metadata": {
    "colab": {
     "base_uri": "https://localhost:8080/"
    },
    "executionInfo": {
     "elapsed": 167,
     "status": "ok",
     "timestamp": 1741733581582,
     "user": {
      "displayName": "Alexis Geslin",
      "userId": "05368027719046732967"
     },
     "user_tz": 420
    },
    "id": "WASKGkmECEMQ",
    "outputId": "03eed238-6cfb-4bf0-8323-41039e25bbef"
   },
   "outputs": [
    {
     "name": "stdout",
     "output_type": "stream",
     "text": [
      "initialized Linear(in_features=1024, out_features=512, bias=True)\n",
      "initialized Linear(in_features=512, out_features=128, bias=True)\n",
      "initialized Linear(in_features=128, out_features=1, bias=True)\n",
      "Test Loss 0.375470370054245\n"
     ]
    },
    {
     "name": "stderr",
     "output_type": "stream",
     "text": [
      "<ipython-input-20-4e386a6aa63a>:3: FutureWarning: You are using `torch.load` with `weights_only=False` (the current default value), which uses the default pickle module implicitly. It is possible to construct malicious pickle data which will execute arbitrary code during unpickling (See https://github.com/pytorch/pytorch/blob/main/SECURITY.md#untrusted-models for more details). In a future release, the default value for `weights_only` will be flipped to `True`. This limits the functions that could be executed during unpickling. Arbitrary objects will no longer be allowed to be loaded via this mode unless they are explicitly allowlisted by the user via `torch.serialization.add_safe_globals`. We recommend you start setting `weights_only=True` for any use case where you don't have full control of the loaded file. Please open an issue on GitHub for any issues related to this experimental feature.\n",
      "  best_model.load_state_dict(torch.load('./AG_checkpoints/best_model_e5large.pth'))\n"
     ]
    }
   ],
   "source": [
    "best_model = perceptronHead4(dim_embeddings)\n",
    "best_model.to(device)\n",
    "best_model.load_state_dict(torch.load('./AG_checkpoints/best_model_e5large.pth'))\n",
    "# best_model = model\n",
    "\n",
    "best_model.eval()\n",
    "with torch.no_grad():\n",
    "    test_preds = []\n",
    "    test_labels = []\n",
    "    for i, (x, y) in enumerate(test_dataloader):\n",
    "        y_pred = best_model(x)\n",
    "        test_preds.append(y_pred)\n",
    "        test_labels.append(y)\n",
    "    test_preds = torch.cat(test_preds)\n",
    "    test_labels = torch.cat(test_labels)\n",
    "    test_loss = mae_loss_function(test_preds, test_labels)\n",
    "    print(f'Test Loss {test_loss.item()}')"
   ]
  },
  {
   "cell_type": "code",
   "execution_count": null,
   "metadata": {
    "colab": {
     "base_uri": "https://localhost:8080/"
    },
    "executionInfo": {
     "elapsed": 40,
     "status": "ok",
     "timestamp": 1741647741175,
     "user": {
      "displayName": "Alexis Geslin",
      "userId": "05368027719046732967"
     },
     "user_tz": 420
    },
    "id": "FNd8pkfGH34B",
    "outputId": "4d4f3abd-a3fd-4831-ee92-da4175a443fd"
   },
   "outputs": [
    {
     "name": "stdout",
     "output_type": "stream",
     "text": [
      "Device for best_model and x: cuda\n"
     ]
    }
   ],
   "source": [
    "# prompt: # get the device best_model and x are on\n",
    "\n",
    "print(f\"Device for best_model and x: {device}\")\n"
   ]
  },
  {
   "cell_type": "code",
   "execution_count": null,
   "metadata": {
    "colab": {
     "base_uri": "https://localhost:8080/"
    },
    "executionInfo": {
     "elapsed": 3,
     "status": "ok",
     "timestamp": 1741647791726,
     "user": {
      "displayName": "Alexis Geslin",
      "userId": "05368027719046732967"
     },
     "user_tz": 420
    },
    "id": "bf828vtvS-te",
    "outputId": "69459d8d-2eff-4866-91f0-ee84887de5c1"
   },
   "outputs": [
    {
     "name": "stdout",
     "output_type": "stream",
     "text": [
      "cuda:0\n"
     ]
    }
   ],
   "source": [
    "print(next(best_model.parameters()).device)"
   ]
  },
  {
   "cell_type": "markdown",
   "metadata": {
    "id": "Jo5l6TeUH4X5"
   },
   "source": [
    "Training with scheduler, for 200 epochs,  lr=0.01)\n",
    "scheduler = optim.lr_scheduler.ReduceLROnPlateau(optimizer, mode='min', factor=0.5, patience=5, verbose=True)"
   ]
  },
  {
   "cell_type": "markdown",
   "metadata": {
    "id": "eAeI3IVcXFmU"
   },
   "source": [
    "### TESTING BEST MODEL"
   ]
  },
  {
   "cell_type": "code",
   "execution_count": 24,
   "metadata": {
    "colab": {
     "base_uri": "https://localhost:8080/"
    },
    "executionInfo": {
     "elapsed": 1882,
     "status": "ok",
     "timestamp": 1741733749018,
     "user": {
      "displayName": "Alexis Geslin",
      "userId": "05368027719046732967"
     },
     "user_tz": 420
    },
    "id": "WgPsg-omXIMB",
    "outputId": "81483acd-81b5-4550-ed78-7494aca46226"
   },
   "outputs": [
    {
     "name": "stdout",
     "output_type": "stream",
     "text": [
      "initialized Linear(in_features=1024, out_features=512, bias=True)\n",
      "initialized Linear(in_features=512, out_features=128, bias=True)\n",
      "initialized Linear(in_features=128, out_features=1, bias=True)\n"
     ]
    },
    {
     "name": "stderr",
     "output_type": "stream",
     "text": [
      "<ipython-input-24-31c6a636de98>:4: FutureWarning: You are using `torch.load` with `weights_only=False` (the current default value), which uses the default pickle module implicitly. It is possible to construct malicious pickle data which will execute arbitrary code during unpickling (See https://github.com/pytorch/pytorch/blob/main/SECURITY.md#untrusted-models for more details). In a future release, the default value for `weights_only` will be flipped to `True`. This limits the functions that could be executed during unpickling. Arbitrary objects will no longer be allowed to be loaded via this mode unless they are explicitly allowlisted by the user via `torch.serialization.add_safe_globals`. We recommend you start setting `weights_only=True` for any use case where you don't have full control of the loaded file. Please open an issue on GitHub for any issues related to this experimental feature.\n",
      "  best_model.load_state_dict(torch.load(f'./AG_checkpoints/best_model_012_e5large.pth'))\n"
     ]
    },
    {
     "name": "stdout",
     "output_type": "stream",
     "text": [
      "Training Loss 0.181\n",
      "Validation Loss 0.369\n",
      "Test Loss 0.377\n"
     ]
    }
   ],
   "source": [
    "#model loading\n",
    "best_model = perceptronHead4(dim_embeddings)\n",
    "best_model.to(device)\n",
    "best_model.load_state_dict(torch.load(f'./AG_checkpoints/best_model_012_e5large.pth'))\n",
    "# best_model.load_state_dict(torch.load(f'./AG_checkpoints/best_model_e5large.pth'))\n",
    "\n",
    "\n",
    "best_model.train()\n",
    "#train\n",
    "with torch.no_grad():\n",
    "    train_preds = []\n",
    "    train_labels = []\n",
    "    for i, (x, y) in enumerate(train_dataloader):\n",
    "        y_pred = best_model(x)\n",
    "        train_preds.append(y_pred)\n",
    "        train_labels.append(y)\n",
    "    train_preds = torch.cat(train_preds)\n",
    "    train_labels = torch.cat(train_labels)\n",
    "    train_loss = mae_loss_function(train_preds, train_labels)\n",
    "    print(f'Training Loss {round(train_loss.item(),3)}')\n",
    "\n",
    "#valid\n",
    "best_model.eval()\n",
    "with torch.no_grad():\n",
    "    valid_preds = []\n",
    "    valid_labels = []\n",
    "    for i, (x, y) in enumerate(valid_dataloader):\n",
    "        y_pred = best_model(x)\n",
    "        valid_preds.append(y_pred)\n",
    "        valid_labels.append(y)\n",
    "    valid_preds = torch.cat(valid_preds)\n",
    "    valid_labels = torch.cat(valid_labels)\n",
    "    valid_loss = mae_loss_function(valid_preds, valid_labels)\n",
    "    print(f'Validation Loss {round(valid_loss.item(),3)}')\n",
    "\n",
    "#train\n",
    "with torch.no_grad():\n",
    "    test_preds = []\n",
    "    test_labels = []\n",
    "    for i, (x, y) in enumerate(test_dataloader):\n",
    "        y_pred = best_model(x)\n",
    "        test_preds.append(y_pred)\n",
    "        test_labels.append(y)\n",
    "    test_preds = torch.cat(test_preds)\n",
    "    test_labels = torch.cat(test_labels)\n",
    "    test_loss = mae_loss_function(test_preds, test_labels)\n",
    "    print(f'Test Loss {round(test_loss.item(),3)}')"
   ]
  },
  {
   "cell_type": "code",
   "execution_count": null,
   "metadata": {
    "id": "GvUCyt1Uys9e"
   },
   "outputs": [],
   "source": []
  },
  {
   "cell_type": "code",
   "execution_count": null,
   "metadata": {
    "id": "tUlafEH0ys6o"
   },
   "outputs": [],
   "source": []
  },
  {
   "cell_type": "code",
   "execution_count": null,
   "metadata": {
    "id": "MIKT2FWHys4A"
   },
   "outputs": [],
   "source": []
  },
  {
   "cell_type": "code",
   "execution_count": null,
   "metadata": {
    "id": "3c14RQJoys1b"
   },
   "outputs": [],
   "source": []
  },
  {
   "cell_type": "code",
   "execution_count": null,
   "metadata": {
    "id": "HrYysqgkysvJ"
   },
   "outputs": [],
   "source": []
  },
  {
   "cell_type": "code",
   "execution_count": null,
   "metadata": {
    "id": "i-nPoH4Pysgk"
   },
   "outputs": [],
   "source": []
  }
 ],
 "metadata": {
  "accelerator": "GPU",
  "colab": {
   "authorship_tag": "ABX9TyN6mSKRHMp8n/r3OkL8ZXUN",
   "gpuType": "A100",
   "machine_shape": "hm",
   "provenance": []
  },
  "kernelspec": {
   "display_name": "Python 3",
   "name": "python3"
  },
  "language_info": {
   "name": "python"
  }
 },
 "nbformat": 4,
 "nbformat_minor": 0
}
