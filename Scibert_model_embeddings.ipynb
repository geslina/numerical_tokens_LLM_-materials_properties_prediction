{
 "cells": [
  {
   "cell_type": "markdown",
   "metadata": {},
   "source": [
    "#### Author: Alexis Geslin"
   ]
  },
  {
   "cell_type": "code",
   "execution_count": 1,
   "metadata": {
    "colab": {
     "base_uri": "https://localhost:8080/"
    },
    "executionInfo": {
     "elapsed": 21028,
     "status": "ok",
     "timestamp": 1741713727094,
     "user": {
      "displayName": "Alexis Geslin",
      "userId": "05368027719046732967"
     },
     "user_tz": 420
    },
    "id": "hgyWr9z0ICtB",
    "outputId": "c43acf85-1491-4cee-9d53-22391d9b1ae4"
   },
   "outputs": [
    {
     "name": "stdout",
     "output_type": "stream",
     "text": [
      "Mounted at /content/drive\n"
     ]
    }
   ],
   "source": [
    "from google.colab import drive\n",
    "drive.mount('/content/drive')"
   ]
  },
  {
   "cell_type": "code",
   "execution_count": 2,
   "metadata": {
    "colab": {
     "base_uri": "https://localhost:8080/"
    },
    "executionInfo": {
     "elapsed": 909,
     "status": "ok",
     "timestamp": 1741713728003,
     "user": {
      "displayName": "Alexis Geslin",
      "userId": "05368027719046732967"
     },
     "user_tz": 420
    },
    "id": "LjDw42OsIG7w",
    "outputId": "21ba9255-bf5a-460d-a76b-e7accef06186"
   },
   "outputs": [
    {
     "name": "stdout",
     "output_type": "stream",
     "text": [
      "/content/drive/MyDrive/cours/cs224n/project/LLM-Prop\n"
     ]
    }
   ],
   "source": [
    "%cd drive/MyDrive/cours/cs224n/project/LLM-Prop/"
   ]
  },
  {
   "cell_type": "code",
   "execution_count": 3,
   "metadata": {
    "executionInfo": {
     "elapsed": 13015,
     "status": "ok",
     "timestamp": 1741713741066,
     "user": {
      "displayName": "Alexis Geslin",
      "userId": "05368027719046732967"
     },
     "user_tz": 420
    },
    "id": "lQIqlj3nHx8I"
   },
   "outputs": [],
   "source": [
    "import re\n",
    "import time\n",
    "import glob\n",
    "import pandas as pd\n",
    "import numpy as np\n",
    "import argparse\n",
    "from statistics import stdev\n",
    "\n",
    "import torch\n",
    "from transformers import AutoTokenizer, AutoModel\n",
    "import numpy as np\n",
    "from tqdm import tqdm\n"
   ]
  },
  {
   "cell_type": "code",
   "execution_count": 4,
   "metadata": {
    "colab": {
     "base_uri": "https://localhost:8080/"
    },
    "executionInfo": {
     "elapsed": 29,
     "status": "ok",
     "timestamp": 1741713741116,
     "user": {
      "displayName": "Alexis Geslin",
      "userId": "05368027719046732967"
     },
     "user_tz": 420
    },
    "id": "FEhTUlcUJABc",
    "outputId": "e4afb813-d2ec-4e5a-d0c4-790975ee9d62"
   },
   "outputs": [
    {
     "name": "stdout",
     "output_type": "stream",
     "text": [
      "--------------------\n",
      "I have 1 devices, currently on 0\n",
      "--------------------\n"
     ]
    }
   ],
   "source": [
    "if torch.cuda.is_available():\n",
    "    device = torch.device(\"cuda\")\n",
    "    print('-'*20)\n",
    "    print(f'I have {torch.cuda.device_count()} devices, currently on {torch.cuda.current_device()}')\n",
    "    print('-'*20)\n",
    "else:\n",
    "    print('-'*20)\n",
    "    print(\"You are running on CPU only\")\n",
    "    print('-'*20)\n",
    "    device = torch.device(\"cpu\")"
   ]
  },
  {
   "cell_type": "code",
   "execution_count": 5,
   "metadata": {
    "executionInfo": {
     "elapsed": 14416,
     "status": "ok",
     "timestamp": 1741713755576,
     "user": {
      "displayName": "Alexis Geslin",
      "userId": "05368027719046732967"
     },
     "user_tz": 420
    },
    "id": "pW6DSe8WIJ2q"
   },
   "outputs": [],
   "source": [
    "np_train = pd.read_csv('data/train_no_stopwords.csv')\n",
    "np_valid = pd.read_csv('data/validation_no_stopwords.csv')\n",
    "np_test = pd.read_csv('data/test_no_stopwords.csv')\n",
    "\n"
   ]
  },
  {
   "cell_type": "code",
   "execution_count": 6,
   "metadata": {
    "executionInfo": {
     "elapsed": 3,
     "status": "ok",
     "timestamp": 1741713777829,
     "user": {
      "displayName": "Alexis Geslin",
      "userId": "05368027719046732967"
     },
     "user_tz": 420
    },
    "id": "h8Uc1iLmKCco"
   },
   "outputs": [],
   "source": [
    "my_model_name = 'scibert'"
   ]
  },
  {
   "cell_type": "code",
   "execution_count": 10,
   "metadata": {
    "colab": {
     "base_uri": "https://localhost:8080/"
    },
    "collapsed": true,
    "executionInfo": {
     "elapsed": 2116,
     "status": "ok",
     "timestamp": 1741713875524,
     "user": {
      "displayName": "Alexis Geslin",
      "userId": "05368027719046732967"
     },
     "user_tz": 420
    },
    "id": "5YLy4OmBH7qR",
    "outputId": "c07d272e-ed93-4239-a502-0431336c9957"
   },
   "outputs": [
    {
     "data": {
      "text/plain": [
       "BertModel(\n",
       "  (embeddings): BertEmbeddings(\n",
       "    (word_embeddings): Embedding(31090, 768, padding_idx=0)\n",
       "    (position_embeddings): Embedding(512, 768)\n",
       "    (token_type_embeddings): Embedding(2, 768)\n",
       "    (LayerNorm): LayerNorm((768,), eps=1e-12, elementwise_affine=True)\n",
       "    (dropout): Dropout(p=0.1, inplace=False)\n",
       "  )\n",
       "  (encoder): BertEncoder(\n",
       "    (layer): ModuleList(\n",
       "      (0-11): 12 x BertLayer(\n",
       "        (attention): BertAttention(\n",
       "          (self): BertSdpaSelfAttention(\n",
       "            (query): Linear(in_features=768, out_features=768, bias=True)\n",
       "            (key): Linear(in_features=768, out_features=768, bias=True)\n",
       "            (value): Linear(in_features=768, out_features=768, bias=True)\n",
       "            (dropout): Dropout(p=0.1, inplace=False)\n",
       "          )\n",
       "          (output): BertSelfOutput(\n",
       "            (dense): Linear(in_features=768, out_features=768, bias=True)\n",
       "            (LayerNorm): LayerNorm((768,), eps=1e-12, elementwise_affine=True)\n",
       "            (dropout): Dropout(p=0.1, inplace=False)\n",
       "          )\n",
       "        )\n",
       "        (intermediate): BertIntermediate(\n",
       "          (dense): Linear(in_features=768, out_features=3072, bias=True)\n",
       "          (intermediate_act_fn): GELUActivation()\n",
       "        )\n",
       "        (output): BertOutput(\n",
       "          (dense): Linear(in_features=3072, out_features=768, bias=True)\n",
       "          (LayerNorm): LayerNorm((768,), eps=1e-12, elementwise_affine=True)\n",
       "          (dropout): Dropout(p=0.1, inplace=False)\n",
       "        )\n",
       "      )\n",
       "    )\n",
       "  )\n",
       "  (pooler): BertPooler(\n",
       "    (dense): Linear(in_features=768, out_features=768, bias=True)\n",
       "    (activation): Tanh()\n",
       "  )\n",
       ")"
      ]
     },
     "execution_count": 10,
     "metadata": {},
     "output_type": "execute_result"
    }
   ],
   "source": [
    "model_name = \"allenai/scibert_scivocab_uncased\"\n",
    "tokenizer = AutoTokenizer.from_pretrained(model_name)\n",
    "model = AutoModel.from_pretrained(model_name)\n",
    "model.to(device)"
   ]
  },
  {
   "cell_type": "code",
   "execution_count": 7,
   "metadata": {
    "colab": {
     "base_uri": "https://localhost:8080/"
    },
    "executionInfo": {
     "elapsed": 11,
     "status": "ok",
     "timestamp": 1741713781740,
     "user": {
      "displayName": "Alexis Geslin",
      "userId": "05368027719046732967"
     },
     "user_tz": 420
    },
    "id": "xWc3OlJjIZ6X",
    "outputId": "f8074877-7ad6-46d3-b505-f458cf216bb4"
   },
   "outputs": [
    {
     "name": "stdout",
     "output_type": "stream",
     "text": [
      "(11531, 7) (125098, 7) (9945, 7)\n"
     ]
    }
   ],
   "source": [
    "#print the shapes\n",
    "print(np_test.shape, np_train.shape, np_valid.shape)"
   ]
  },
  {
   "cell_type": "code",
   "execution_count": 11,
   "metadata": {
    "executionInfo": {
     "elapsed": 6,
     "status": "ok",
     "timestamp": 1741713889210,
     "user": {
      "displayName": "Alexis Geslin",
      "userId": "05368027719046732967"
     },
     "user_tz": 420
    },
    "id": "zyjzE_aCI4wW"
   },
   "outputs": [],
   "source": [
    "def get_sentence_embedding(text):\n",
    "    \"\"\"Convert text to numerical embeddings.\"\"\"\n",
    "    inputs = tokenizer(text, return_tensors=\"pt\", truncation=True, padding=True, max_length=512)\n",
    "    inputs = {key: value.to(device) for key, value in inputs.items()}\n",
    "\n",
    "    with torch.no_grad():\n",
    "        outputs = model(**inputs)\n",
    "\n",
    "    # Mean pooling of last hidden state\n",
    "    embeddings = outputs.last_hidden_state.mean(dim=1).cpu().numpy()\n",
    "    return embeddings\n",
    "\n",
    "def embed_batch(text_list):\n",
    "    inputs = tokenizer(text_list, return_tensors=\"pt\", truncation=True, padding=True, max_length=512)\n",
    "    inputs = {key: value.to(device) for key, value in inputs.items()}\n",
    "    #print the values of the inputs\n",
    "    with torch.no_grad():\n",
    "        outputs = model(**inputs)\n",
    "\n",
    "    embeddings = outputs.last_hidden_state.mean(dim=1).cpu().numpy()\n",
    "    return embeddings\n",
    "\n",
    "def embed_dataset(dataset):\n",
    "  sentences = dataset['description'].tolist()\n",
    "  batch_size = 256  if device.type ==  \"cuda\" else 8\n",
    "  print(f'batch size: {batch_size}')\n",
    "  all_embeddings = []\n",
    "\n",
    "  for i in tqdm(range(0, len(sentences), batch_size)):\n",
    "      batch = sentences[i:i+batch_size]\n",
    "      embeddings = embed_batch(batch)\n",
    "      all_embeddings.append(embeddings)\n",
    "\n",
    "  all_embeddings = np.vstack(all_embeddings)\n",
    "\n",
    "  return all_embeddings"
   ]
  },
  {
   "cell_type": "code",
   "execution_count": 12,
   "metadata": {
    "executionInfo": {
     "elapsed": 12,
     "status": "ok",
     "timestamp": 1741713891989,
     "user": {
      "displayName": "Alexis Geslin",
      "userId": "05368027719046732967"
     },
     "user_tz": 420
    },
    "id": "ykW9eDe6I63b"
   },
   "outputs": [],
   "source": [
    "#testing stuff\n",
    "\n",
    "# sentence   = np_test['description'][0]\n",
    "# embeddings = get_sentence_embedding(sentence)\n",
    "# embeddings.shape\n",
    "\n",
    "# sentences = np_test['description'][:10].tolist()\n",
    "# batch_size = 128  if device ==  \"cuda\" else 8\n",
    "# print(batch_size)\n",
    "# all_embeddings = []\n",
    "\n",
    "# for i in tqdm(range(0, len(sentences), batch_size)):\n",
    "#     batch = sentences[i:i+batch_size]\n",
    "#     embeddings = embed_batch(batch)\n",
    "#     all_embeddings.append(embeddings)\n",
    "\n",
    "# all_embeddings = np.vstack(all_embeddings)\n",
    "\n",
    "# all_embeddings.shape"
   ]
  },
  {
   "cell_type": "code",
   "execution_count": 13,
   "metadata": {
    "colab": {
     "base_uri": "https://localhost:8080/"
    },
    "executionInfo": {
     "elapsed": 1566,
     "status": "ok",
     "timestamp": 1741713894380,
     "user": {
      "displayName": "Alexis Geslin",
      "userId": "05368027719046732967"
     },
     "user_tz": 420
    },
    "id": "Ynik9KVlK7Wk",
    "outputId": "59695bfc-685a-4ad2-d91e-6cf05bd383d9"
   },
   "outputs": [
    {
     "name": "stdout",
     "output_type": "stream",
     "text": [
      "(100, 7)\n",
      "batch size: 256\n"
     ]
    },
    {
     "name": "stderr",
     "output_type": "stream",
     "text": [
      "100%|██████████| 1/1 [00:01<00:00,  1.56s/it]"
     ]
    },
    {
     "name": "stdout",
     "output_type": "stream",
     "text": [
      "\n",
      " (100, 768)\n"
     ]
    },
    {
     "name": "stderr",
     "output_type": "stream",
     "text": [
      "\n"
     ]
    }
   ],
   "source": [
    "#testing\n",
    "dataset_to_embed = np_train[:100]\n",
    "print(dataset_to_embed.shape)\n",
    "\n",
    "all_embeddings = embed_dataset(dataset_to_embed)\n",
    "print('\\n',all_embeddings.shape)"
   ]
  },
  {
   "cell_type": "markdown",
   "metadata": {
    "id": "9KTm7rHxJjR1"
   },
   "source": [
    "## Embedding the validation dataset"
   ]
  },
  {
   "cell_type": "code",
   "execution_count": 14,
   "metadata": {
    "colab": {
     "base_uri": "https://localhost:8080/"
    },
    "executionInfo": {
     "elapsed": 3,
     "status": "ok",
     "timestamp": 1741713900256,
     "user": {
      "displayName": "Alexis Geslin",
      "userId": "05368027719046732967"
     },
     "user_tz": 420
    },
    "id": "Hh7i_SmaKRov",
    "outputId": "c1d93e6d-87a1-4f46-a69f-dbab07b6559a"
   },
   "outputs": [
    {
     "name": "stdout",
     "output_type": "stream",
     "text": [
      "scibert\n"
     ]
    }
   ],
   "source": [
    "print(my_model_name)"
   ]
  },
  {
   "cell_type": "code",
   "execution_count": 15,
   "metadata": {
    "colab": {
     "base_uri": "https://localhost:8080/"
    },
    "executionInfo": {
     "elapsed": 119096,
     "status": "ok",
     "timestamp": 1741714025409,
     "user": {
      "displayName": "Alexis Geslin",
      "userId": "05368027719046732967"
     },
     "user_tz": 420
    },
    "id": "Mu7deqPMJpUA",
    "outputId": "b3a16028-51be-4ad4-8aaf-ab47b1972236"
   },
   "outputs": [
    {
     "name": "stdout",
     "output_type": "stream",
     "text": [
      "(9945, 7)\n",
      "batch size: 256\n"
     ]
    },
    {
     "name": "stderr",
     "output_type": "stream",
     "text": [
      "100%|██████████| 39/39 [01:51<00:00,  2.85s/it]\n"
     ]
    },
    {
     "name": "stdout",
     "output_type": "stream",
     "text": [
      "(9945, 768) valid\n"
     ]
    }
   ],
   "source": [
    "dataset_to_embed = np_valid\n",
    "print(dataset_to_embed.shape)\n",
    "\n",
    "#actually embedding:\n",
    "all_embeddings = embed_dataset(dataset_to_embed)\n",
    "df = pd.DataFrame(all_embeddings)\n",
    "\n",
    "#recovering metadata\n",
    "if (dataset_to_embed[:3] == np_train[:3]).all().all():\n",
    "  dataset_used =\"train\"\n",
    "elif (dataset_to_embed[:3] == np_valid[:3]).all().all():\n",
    "  dataset_used =\"valid\"\n",
    "elif (dataset_to_embed[:3] == np_test[:3]).all().all():\n",
    "  dataset_used =\"test\"\n",
    "print(df.shape, dataset_used)\n",
    "\n",
    "#saving\n",
    "df.to_csv(f'./embeddings/{my_model_name}_{dataset_used}_{df.shape[0]}.csv',index=False,header = False)"
   ]
  },
  {
   "cell_type": "markdown",
   "metadata": {
    "id": "tsCVhbFpKb77"
   },
   "source": [
    "## Embedding the test dataset"
   ]
  },
  {
   "cell_type": "code",
   "execution_count": 16,
   "metadata": {
    "colab": {
     "base_uri": "https://localhost:8080/"
    },
    "executionInfo": {
     "elapsed": 138996,
     "status": "ok",
     "timestamp": 1741714229986,
     "user": {
      "displayName": "Alexis Geslin",
      "userId": "05368027719046732967"
     },
     "user_tz": 420
    },
    "id": "TrTkS-hNKb78",
    "outputId": "0e4c0845-db7c-4cb7-c2db-00cb36b8967d"
   },
   "outputs": [
    {
     "name": "stdout",
     "output_type": "stream",
     "text": [
      "(11531, 7)\n",
      "batch size: 256\n"
     ]
    },
    {
     "name": "stderr",
     "output_type": "stream",
     "text": [
      "100%|██████████| 46/46 [02:09<00:00,  2.82s/it]\n"
     ]
    },
    {
     "name": "stdout",
     "output_type": "stream",
     "text": [
      "(11531, 768) test\n"
     ]
    }
   ],
   "source": [
    "dataset_to_embed = np_test\n",
    "print(dataset_to_embed.shape)\n",
    "\n",
    "#actually embedding:\n",
    "all_embeddings = embed_dataset(dataset_to_embed)\n",
    "df = pd.DataFrame(all_embeddings)\n",
    "\n",
    "#recovering metadata\n",
    "if (dataset_to_embed[:3] == np_train[:3]).all().all():\n",
    "  dataset_used =\"train\"\n",
    "elif (dataset_to_embed[:3] == np_valid[:3]).all().all():\n",
    "  dataset_used =\"valid\"\n",
    "elif (dataset_to_embed[:3] == np_test[:3]).all().all():\n",
    "  dataset_used =\"test\"\n",
    "print(df.shape, dataset_used)\n",
    "\n",
    "#saving\n",
    "df.to_csv(f'./embeddings/{my_model_name}_{dataset_used}_{df.shape[0]}.csv',index=False,header = False)"
   ]
  },
  {
   "cell_type": "code",
   "execution_count": null,
   "metadata": {
    "id": "_1vfEh1SKnz3"
   },
   "outputs": [],
   "source": []
  },
  {
   "cell_type": "markdown",
   "metadata": {
    "id": "7EZX1UksKt1M"
   },
   "source": [
    "## Embedding the train dataset"
   ]
  },
  {
   "cell_type": "code",
   "execution_count": 17,
   "metadata": {
    "colab": {
     "base_uri": "https://localhost:8080/"
    },
    "executionInfo": {
     "elapsed": 1565633,
     "status": "ok",
     "timestamp": 1741717170220,
     "user": {
      "displayName": "Alexis Geslin",
      "userId": "05368027719046732967"
     },
     "user_tz": 420
    },
    "id": "9yMQfre_KjTk",
    "outputId": "eea5ea6e-7384-43c9-bd23-5a9958ae8fa7"
   },
   "outputs": [
    {
     "name": "stdout",
     "output_type": "stream",
     "text": [
      "(125098, 7)\n",
      "batch size: 256\n"
     ]
    },
    {
     "name": "stderr",
     "output_type": "stream",
     "text": [
      "100%|██████████| 489/489 [24:30<00:00,  3.01s/it]\n"
     ]
    },
    {
     "name": "stdout",
     "output_type": "stream",
     "text": [
      "(125098, 768) train\n"
     ]
    }
   ],
   "source": [
    "dataset_to_embed = np_train\n",
    "print(dataset_to_embed.shape)\n",
    "\n",
    "#actually embedding:\n",
    "all_embeddings = embed_dataset(dataset_to_embed)\n",
    "df = pd.DataFrame(all_embeddings)\n",
    "\n",
    "#recovering metadata\n",
    "if (dataset_to_embed[:3] == np_train[:3]).all().all():\n",
    "  dataset_used =\"train\"\n",
    "elif (dataset_to_embed[:3] == np_valid[:3]).all().all():\n",
    "  dataset_used =\"valid\"\n",
    "elif (dataset_to_embed[:3] == np_test[:3]).all().all():\n",
    "  dataset_used =\"test\"\n",
    "print(df.shape, dataset_used)\n",
    "\n",
    "#saving\n",
    "df.to_csv(f'./embeddings/{my_model_name}_{dataset_used}_{df.shape[0]}.csv',index=False,header = False)"
   ]
  },
  {
   "cell_type": "code",
   "execution_count": null,
   "metadata": {
    "id": "dSR3Zi63Kitl"
   },
   "outputs": [],
   "source": []
  },
  {
   "cell_type": "markdown",
   "metadata": {
    "id": "b5NLSV9cKrKW"
   },
   "source": []
  },
  {
   "cell_type": "code",
   "execution_count": null,
   "metadata": {
    "id": "BOcLtbuKKqvZ"
   },
   "outputs": [],
   "source": []
  },
  {
   "cell_type": "code",
   "execution_count": null,
   "metadata": {
    "id": "ccS9in3fKqsn"
   },
   "outputs": [],
   "source": []
  },
  {
   "cell_type": "code",
   "execution_count": null,
   "metadata": {
    "id": "AvbmOsGQKqqI"
   },
   "outputs": [],
   "source": []
  },
  {
   "cell_type": "code",
   "execution_count": null,
   "metadata": {
    "id": "yTuqXfRAKqnl"
   },
   "outputs": [],
   "source": []
  },
  {
   "cell_type": "code",
   "execution_count": null,
   "metadata": {
    "id": "H8xr8MLOKqkz"
   },
   "outputs": [],
   "source": []
  },
  {
   "cell_type": "code",
   "execution_count": null,
   "metadata": {
    "id": "JhtlcXiCKqiU"
   },
   "outputs": [],
   "source": []
  },
  {
   "cell_type": "code",
   "execution_count": null,
   "metadata": {
    "id": "G9YD4YB9Ow2L"
   },
   "outputs": [],
   "source": []
  }
 ],
 "metadata": {
  "accelerator": "GPU",
  "colab": {
   "authorship_tag": "ABX9TyMLWCNqHa5jHtHUO2NniPpy",
   "gpuType": "L4",
   "machine_shape": "hm",
   "provenance": []
  },
  "kernelspec": {
   "display_name": "Python 3",
   "name": "python3"
  },
  "language_info": {
   "name": "python"
  }
 },
 "nbformat": 4,
 "nbformat_minor": 0
}
