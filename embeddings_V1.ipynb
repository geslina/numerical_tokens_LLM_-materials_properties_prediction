{
 "cells": [
  {
   "cell_type": "markdown",
   "metadata": {},
   "source": [
    "#### Credits\n",
    "Author: Alexis Geslin.\\\n",
    "Adapted from Rubungo et al. Llm-prop: Predicting physical and electronic properties of crystalline solids from their text descriptions, 2023. <br> \n",
    "Vertaix. Llm-prop: A repository for property prediction using large language models. https: //github.com/vertaix/LLM-Prop/tree/main, 2025"
   ]
  },
  {
   "cell_type": "markdown",
   "metadata": {},
   "source": [
    "Copyright (c) 2024 Vertaix\n",
    "MIT License\n",
    "\n",
    "Permission is hereby granted, free of charge, to any person obtaining a copy\n",
    "of this software and associated documentation files (the \"Software\"), to deal\n",
    "in the Software without restriction, including without limitation the rights\n",
    "to use, copy, modify, merge, publish, distribute, sublicense, and/or sell\n",
    "copies of the Software, and to permit persons to whom the Software is\n",
    "furnished to do so, subject to the following conditions:\n",
    "\n",
    "The above copyright notice and this permission notice shall be included in all\n",
    "copies or substantial portions of the Software.\n",
    "\n",
    "THE SOFTWARE IS PROVIDED \"AS IS\", WITHOUT WARRANTY OF ANY KIND, EXPRESS OR\n",
    "IMPLIED, INCLUDING BUT NOT LIMITED TO THE WARRANTIES OF MERCHANTABILITY,\n",
    "FITNESS FOR A PARTICULAR PURPOSE AND NONINFRINGEMENT. IN NO EVENT SHALL THE\n",
    "AUTHORS OR COPYRIGHT HOLDERS BE LIABLE FOR ANY CLAIM, DAMAGES OR OTHER\n",
    "LIABILITY, WHETHER IN AN ACTION OF CONTRACT, TORT OR OTHERWISE, ARISING FROM,\n",
    "OUT OF OR IN CONNECTION WITH THE SOFTWARE OR THE USE OR OTHER DEALINGS IN THE\n",
    "SOFTWARE."
   ]
  },
  {
   "cell_type": "code",
   "execution_count": 1,
   "metadata": {
    "colab": {
     "base_uri": "https://localhost:8080/"
    },
    "executionInfo": {
     "elapsed": 26911,
     "status": "ok",
     "timestamp": 1740374403713,
     "user": {
      "displayName": "Alexis Geslin",
      "userId": "05368027719046732967"
     },
     "user_tz": 480
    },
    "id": "eEdEDf3FD0Y4",
    "outputId": "af1afb08-fa6c-4fff-b947-0c93e3608a5c"
   },
   "outputs": [
    {
     "name": "stdout",
     "output_type": "stream",
     "text": [
      "Mounted at /content/drive\n"
     ]
    }
   ],
   "source": [
    "from google.colab import drive\n",
    "drive.mount('/content/drive')"
   ]
  },
  {
   "cell_type": "code",
   "execution_count": 2,
   "metadata": {
    "colab": {
     "base_uri": "https://localhost:8080/"
    },
    "executionInfo": {
     "elapsed": 2968,
     "status": "ok",
     "timestamp": 1740374406683,
     "user": {
      "displayName": "Alexis Geslin",
      "userId": "05368027719046732967"
     },
     "user_tz": 480
    },
    "id": "ftryaCqOD-nh",
    "outputId": "6f4a014f-413c-48ee-bd3e-2faf93ecb263"
   },
   "outputs": [
    {
     "name": "stdout",
     "output_type": "stream",
     "text": [
      "/content/drive/MyDrive/cours/cs224n/project/LLM-Prop\n",
      "checkpoints  LICENSE\t\t     llmprop_model.py\t  __pycache__\t    scripts\n",
      "data\t     llmprop_args_parser.py  llmprop_train.py\t  README.md\t    statistics\n",
      "embeddings   llmprop_dataset.py      llmprop_utils_OG.py  requirements.txt  stopwords\n",
      "figures      llmprop_evaluate.py     llmprop_utils.py\t  savings\t    tokenizers\n"
     ]
    }
   ],
   "source": [
    "%cd drive/MyDrive/cours/cs224n/project/LLM-Prop/\n",
    "! ls"
   ]
  },
  {
   "cell_type": "code",
   "execution_count": 3,
   "metadata": {
    "executionInfo": {
     "elapsed": 19401,
     "status": "ok",
     "timestamp": 1740374426091,
     "user": {
      "displayName": "Alexis Geslin",
      "userId": "05368027719046732967"
     },
     "user_tz": 480
    },
    "id": "pMoHsnXwlmir"
   },
   "outputs": [],
   "source": [
    "import re\n",
    "import time\n",
    "import glob\n",
    "import torch\n",
    "import torch.nn as nn\n",
    "import pandas as pd\n",
    "import numpy as np\n",
    "import argparse\n",
    "\n",
    "from transformers import AutoTokenizer, T5EncoderModel, T5Tokenizer\n",
    "\n",
    "from statistics import stdev\n",
    "\n",
    "# pre-defined functions\n",
    "from llmprop_utils import *\n",
    "from llmprop_dataset import *\n",
    "from llmprop_args_parser import *\n",
    "from llmprop_train import evaluate\n",
    "from llmprop_model import T5Predictor"
   ]
  },
  {
   "cell_type": "code",
   "execution_count": 4,
   "metadata": {
    "colab": {
     "base_uri": "https://localhost:8080/"
    },
    "executionInfo": {
     "elapsed": 33,
     "status": "ok",
     "timestamp": 1740374426173,
     "user": {
      "displayName": "Alexis Geslin",
      "userId": "05368027719046732967"
     },
     "user_tz": 480
    },
    "id": "Whrje6Sx0ra1",
    "outputId": "004cfc79-ccaa-45fc-8dd8-426761705c9a"
   },
   "outputs": [
    {
     "name": "stdout",
     "output_type": "stream",
     "text": [
      "Number of available devices: 1\n",
      "Current device is: 0\n",
      "Testing on 1 GPUs!\n",
      "--------------------------------------------------\n"
     ]
    }
   ],
   "source": [
    "if torch.cuda.is_available():\n",
    "    device = torch.device(\"cuda\")\n",
    "    print(f'Number of available devices: {torch.cuda.device_count()}')\n",
    "    print(f'Current device is: {torch.cuda.current_device()}')\n",
    "    print(\"Testing on\", torch.cuda.device_count(), \"GPUs!\")\n",
    "    print('-'*50)\n",
    "else:\n",
    "    print(\"No GPU available, please connect to the GPU first or continue to use CPU instead\")\n",
    "    print('-'*50)\n",
    "    device = torch.device(\"cpu\")"
   ]
  },
  {
   "cell_type": "code",
   "execution_count": 5,
   "metadata": {
    "executionInfo": {
     "elapsed": 63,
     "status": "ok",
     "timestamp": 1740374426237,
     "user": {
      "displayName": "Alexis Geslin",
      "userId": "05368027719046732967"
     },
     "user_tz": 480
    },
    "id": "LCyq7e0ynZX7"
   },
   "outputs": [],
   "source": [
    "parser = argparse.ArgumentParser(description='LLM-Prop')\n",
    "parser.add_argument('--epochs',\n",
    "                    help='Number of epochs',\n",
    "                    type=int,\n",
    "                    default=200)\n",
    "parser.add_argument('--bs',\n",
    "                    help='Batch size',\n",
    "                    type=int,\n",
    "                    default=64)\n",
    "parser.add_argument('--lr',\n",
    "                    help='Learning rate',\n",
    "                    type=float,\n",
    "                    default=0.001)\n",
    "parser.add_argument('--max_len',\n",
    "                    help='Max input sequence length',\n",
    "                    type=int,\n",
    "                    default=888)\n",
    "parser.add_argument('--dr',\n",
    "                    help='Drop rate',\n",
    "                    type=float,\n",
    "                    default=0.2)\n",
    "parser.add_argument('--warmup_steps',\n",
    "                    help='Warmpup steps',\n",
    "                    type=int,\n",
    "                    default=30000)\n",
    "parser.add_argument('--preprocessing_strategy',\n",
    "                    help='Data preprocessing technique: \"none\", \"bond_lengths_replaced_with_num\", \"bond_angles_replaced_with_ang\", \"no_stopwords\", or \"no_stopwords_and_lengths_and_angles_replaced\"',\n",
    "                    type=str,\n",
    "                    default=\"no_stopwords_and_lengths_and_angles_replaced\")\n",
    "parser.add_argument('--tokenizer',\n",
    "                    help='Tokenizer name: \"t5_tokenizer\" or \"modified\"',\n",
    "                    type=str,\n",
    "                    default=\"modified\")\n",
    "parser.add_argument('--pooling',\n",
    "                    help='Pooling method. \"cls\" or \"mean\"',\n",
    "                    type=str,\n",
    "                      default=\"cls\")\n",
    "parser.add_argument('--normalizer',\n",
    "                      help='Labels scaling technique. \"z_norm\", \"mm_norm\", or \"ls_norm\"',\n",
    "                      type=str,\n",
    "                    default=\"z_norm\")\n",
    "parser.add_argument('--scheduler',\n",
    "                    help='Learning rate scheduling technique. \"linear\", \"onecycle\", \"step\", or \"lambda\" (no scheduling))',\n",
    "                    type=str,\n",
    "                    default=\"onecycle\")\n",
    "parser.add_argument('--property_name',\n",
    "                      help='The name of the property to predict. \"band_gap\", \"volume\", or \"is_gap_direct\"',\n",
    "                      type=str,\n",
    "                      default=\"band_gap\")\n",
    "parser.add_argument('--optimizer',\n",
    "                    help='Optimizer type. \"adamw\" or \"sgd\"',\n",
    "                    type=str,\n",
    "                    default=\"adamw\")\n",
    "parser.add_argument('--task_name',\n",
    "                    help='the name of the task: \"regression\" if propert_name is band_gap or volume or \"classification\" if property_name is is_gap_direct',\n",
    "                    type=str,\n",
    "                    default=\"regression\")\n",
    "parser.add_argument('--train_data_path',\n",
    "                    help=\"the path to the training data\",\n",
    "                    type=str,\n",
    "                    default=\"data/samples/textedge_prop_mp22_train.csv\")\n",
    "parser.add_argument('--valid_data_path',\n",
    "                    help=\"the path to the valid data\",\n",
    "                    type=str,\n",
    "                    default=\"data/samples/textedge_prop_mp22_valid.csv\")\n",
    "parser.add_argument('--test_data_path',\n",
    "                    help=\"the path to the test data\",\n",
    "                    type=str,\n",
    "                    default=\"data/samples/textedge_prop_mp22_test.csv\")\n",
    "parser.add_argument('--checkpoint',\n",
    "                      help=\"the path to the the best checkpoint for evaluation\",\n",
    "                      type=str,\n",
    "                      default=\"\")\n",
    "args = parser.parse_args([])\n",
    "args_dict = vars(args)\n",
    "\n",
    "# Load them into variables and use the correct variable names:\n",
    "globals().update(args_dict)\n",
    "batch_size = bs\n",
    "drop_rate = dr\n",
    "max_length = max_len\n",
    "tokenizer_name = tokenizer\n",
    "normalizer_type = normalizer\n",
    "best_model_path = checkpoint\n",
    "property = property_name\n",
    "\n",
    "# set parameters\n",
    "batch_size= 32\n",
    "\n",
    "#set specific variables not default\n",
    "# best_model_path = f\"checkpoints/llmprop_best_checkpoint_for_band_gap_regression_description.tar.gz\"\n",
    "default_best_model_path = \"checkpoints/samples/regression/best_checkpoint_for_band_gap.tar.gz\"\n",
    "best_model_path =\"checkpoints/checkpoint_train15000_200epoch.pt\"\n",
    "\n",
    "#define train and tests\n",
    "default_test_data_path =\"data/samples/textedge_prop_mp22_test.csv\"\n",
    "test_data_path = \"data/test_no_stopwords_and_lengths_and_angles_replaced.csv\"\n",
    "test_data_path = \"data/test_pp_500.csv\"\n"
   ]
  },
  {
   "cell_type": "code",
   "execution_count": 6,
   "metadata": {
    "executionInfo": {
     "elapsed": 20438,
     "status": "ok",
     "timestamp": 1740374446677,
     "user": {
      "displayName": "Alexis Geslin",
      "userId": "05368027719046732967"
     },
     "user_tz": 480
    },
    "id": "5IV7xrSznjTO"
   },
   "outputs": [],
   "source": [
    "train_data = pd.read_csv(\"data/train_no_stopwords_and_lengths_and_angles_replaced.csv\")\n",
    "valid_data = pd.read_csv(\"data/validation_no_stopwords_and_lengths_and_angles_replaced.csv\")\n",
    "test_data = pd.read_csv(\"data/test_no_stopwords_and_lengths_and_angles_replaced.csv\")"
   ]
  },
  {
   "cell_type": "code",
   "execution_count": 7,
   "metadata": {
    "colab": {
     "base_uri": "https://localhost:8080/"
    },
    "executionInfo": {
     "elapsed": 5,
     "status": "ok",
     "timestamp": 1740374446694,
     "user": {
      "displayName": "Alexis Geslin",
      "userId": "05368027719046732967"
     },
     "user_tz": 480
    },
    "id": "3JxNFo6Bot6R",
    "outputId": "9fbf6771-49c9-4380-95b1-0190a634d42d"
   },
   "outputs": [
    {
     "name": "stdout",
     "output_type": "stream",
     "text": [
      "(125098, 7)\n",
      "(9945, 7)\n",
      "(11531, 7)\n"
     ]
    }
   ],
   "source": [
    "print(train_data.shape)\n",
    "print(valid_data.shape)\n",
    "print(test_data.shape)"
   ]
  },
  {
   "cell_type": "code",
   "execution_count": 8,
   "metadata": {
    "executionInfo": {
     "elapsed": 1,
     "status": "ok",
     "timestamp": 1740374446696,
     "user": {
      "displayName": "Alexis Geslin",
      "userId": "05368027719046732967"
     },
     "user_tz": 480
    },
    "id": "SDr3GPpwoYkL"
   },
   "outputs": [],
   "source": [
    "# check property type to determine the task name (whether it is regression or classification)\n",
    "if test_data[property].dtype == 'bool':\n",
    "    task_name = 'classification'\n",
    "\n",
    "    #converting True->1.0 and False->0.0\n",
    "    train_data[property] = train_data[property].astype(float)\n",
    "    test_data[property] = test_data[property].astype(float)\n",
    "else:\n",
    "    task_name = 'regression'\n",
    "\n",
    "train_labels_array = np.array(train_data[property])\n",
    "train_labels_mean = torch.mean(torch.tensor(train_labels_array))\n",
    "train_labels_std = torch.std(torch.tensor(train_labels_array))\n",
    "train_labels_min = torch.min(torch.tensor(train_labels_array))\n",
    "train_labels_max = torch.max(torch.tensor(train_labels_array))\n"
   ]
  },
  {
   "cell_type": "code",
   "execution_count": 9,
   "metadata": {
    "executionInfo": {
     "elapsed": 42,
     "status": "ok",
     "timestamp": 1740374446738,
     "user": {
      "displayName": "Alexis Geslin",
      "userId": "05368027719046732967"
     },
     "user_tz": 480
    },
    "id": "thNUEtspyZa6"
   },
   "outputs": [],
   "source": [
    "### ONLY IF NOT DEALING WITH NON-PREPROCESSED DATA\n",
    "\n",
    "# if preprocessing_strategy == \"none\":\n",
    "#     test_data = test_data\n",
    "#     print(test_data['description'][0])\n",
    "#     print('-'*50)\n",
    "\n",
    "# elif preprocessing_strategy == \"bond_lengths_replaced_with_num\":\n",
    "#     test_data['description'] = test_data['description'].apply(replace_bond_lengths_with_num)\n",
    "#     print(test_data['description'][0])\n",
    "#     print('-'*50)\n",
    "\n",
    "# elif preprocessing_strategy == \"bond_angles_replaced_with_ang\":\n",
    "#     test_data['description'] = test_data['description'].apply(replace_bond_angles_with_ang)\n",
    "#     print(test_data['description'][0])\n",
    "#     print('-'*50)\n",
    "\n",
    "# elif preprocessing_strategy == \"no_stopwords\":\n",
    "#     stopwords = get_cleaned_stopwords()\n",
    "#     test_data['description'] = test_data['description'].apply(remove_mat_stopwords)\n",
    "#     print(test_data['description'][0])\n",
    "#     print('-'*50)\n",
    "\n",
    "# elif preprocessing_strategy == \"no_stopwords_and_lengths_and_angles_replaced\":\n",
    "#     stopwords = get_cleaned_stopwords()\n",
    "#     test_data['description'] = test_data['description'].apply(remove_mat_stopwords)\n",
    "#     test_data['description'] = test_data['description'].apply(replace_bond_lengths_with_num)\n",
    "#     test_data['description'] = test_data['description'].apply(replace_bond_angles_with_ang)\n",
    "#     print(test_data['description'][0])\n",
    "#     print('-'*50)"
   ]
  },
  {
   "cell_type": "code",
   "execution_count": 10,
   "metadata": {
    "colab": {
     "base_uri": "https://localhost:8080/"
    },
    "executionInfo": {
     "elapsed": 17552,
     "status": "ok",
     "timestamp": 1740374464291,
     "user": {
      "displayName": "Alexis Geslin",
      "userId": "05368027719046732967"
     },
     "user_tz": 480
    },
    "id": "HfCkHtSEoZSM",
    "outputId": "2722fd9c-106e-435b-cd01-21991a042f40"
   },
   "outputs": [
    {
     "name": "stderr",
     "output_type": "stream",
     "text": [
      "Token indices sequence length is longer than the specified maximum sequence length for this model (890 > 512). Running this sequence through the model will result in indexing errors\n"
     ]
    },
    {
     "name": "stdout",
     "output_type": "stream",
     "text": [
      "test data = 11531 samples\n",
      "--------------------------------------------------\n",
      "testing on 90.32174139276732% samples with whole sequence\n",
      "--------------------------------------------------\n",
      "labels statistics on training set:\n",
      "Mean: tensor(1.0258, dtype=torch.float64)\n",
      "Standard deviation: tensor(1.5106, dtype=torch.float64)\n",
      "Max: tensor(17.8914, dtype=torch.float64)\n",
      "Min: tensor(0., dtype=torch.float64)\n",
      "--------------------------------------------------\n"
     ]
    }
   ],
   "source": [
    "mae_loss_function = nn.L1Loss()\n",
    "\n",
    "# define the tokenizer\n",
    "if tokenizer_name == 't5_tokenizer':\n",
    "    tokenizer = AutoTokenizer.from_pretrained(\"t5-small\")\n",
    "\n",
    "elif tokenizer_name == 'modified':\n",
    "    tokenizer = AutoTokenizer.from_pretrained(\"tokenizers/t5_tokenizer_trained_on_modified_part_of_C4_and_textedge\")\n",
    "\n",
    "# add defined special tokens to the tokenizer\n",
    "if pooling == 'cls':\n",
    "    tokenizer.add_tokens([\"[CLS]\"])\n",
    "\n",
    "if preprocessing_strategy == \"bond_lengths_replaced_with_num\":\n",
    "    tokenizer.add_tokens([\"[NUM]\"]) # special token to replace bond lengths\n",
    "\n",
    "elif preprocessing_strategy == \"bond_angles_replaced_with_ang\":\n",
    "    tokenizer.add_tokens([\"[ANG]\"]) # special token to replace bond angles\n",
    "\n",
    "elif preprocessing_strategy == \"no_stopwords_and_lengths_and_angles_replaced\":\n",
    "    tokenizer.add_tokens([\"[NUM]\"])\n",
    "    tokenizer.add_tokens([\"[ANG]\"])\n",
    "\n",
    "print(f\"test data = {len(test_data)} samples\")\n",
    "print('-'*50)\n",
    "print(f\"testing on {get_sequence_len_stats(test_data, tokenizer, max_length)}% samples with whole sequence\")\n",
    "print('-'*50)\n",
    "\n",
    "print(\"labels statistics on training set:\")\n",
    "print(\"Mean:\", train_labels_mean)\n",
    "print(\"Standard deviation:\", train_labels_std)\n",
    "print(\"Max:\", train_labels_max)\n",
    "print(\"Min:\", train_labels_min)\n",
    "print(\"-\"*50)"
   ]
  },
  {
   "cell_type": "code",
   "execution_count": 11,
   "metadata": {
    "colab": {
     "base_uri": "https://localhost:8080/",
     "height": 35
    },
    "executionInfo": {
     "elapsed": 5,
     "status": "ok",
     "timestamp": 1740374464298,
     "user": {
      "displayName": "Alexis Geslin",
      "userId": "05368027719046732967"
     },
     "user_tz": 480
    },
    "id": "JYefxEPLbDOT",
    "outputId": "3a9d7844-70d0-4b17-afa5-7aca2621bbe0"
   },
   "outputs": [
    {
     "data": {
      "application/vnd.google.colaboratory.intrinsic+json": {
       "type": "string"
      },
      "text/plain": [
       "'checkpoints/checkpoint_train15000_200epoch.pt'"
      ]
     },
     "execution_count": 11,
     "metadata": {},
     "output_type": "execute_result"
    }
   ],
   "source": [
    "# best_model_path = f\"checkpoints/llmprop_best_checkpoint_for_band_gap_regression_cif_structure.pt\"\n",
    "# best_model_path =default_best_model_path\n",
    "# best_model_path =\"checkpoint_train50_epoch200.pt\"\n",
    "best_model_path"
   ]
  },
  {
   "cell_type": "code",
   "execution_count": 12,
   "metadata": {
    "colab": {
     "base_uri": "https://localhost:8080/",
     "height": 185,
     "referenced_widgets": [
      "a99accc3cf8640ee9e44cdab8edab78d",
      "44ab9715ae0c4f1287ca15a0c8d47bdd",
      "018bbf14b0984bbd871da66e696b08ef",
      "89653301e4094c2b953a6e5b421a0992",
      "e0f8f24edcd0454a89c5ba783618dff2",
      "6af49653c37b47cbbdf79ebd844f3a8e",
      "2653de234a584c7caf23ce9a6364e51b",
      "f70455d9e7af40d3be6460e67d779e45",
      "f3e38730477e4a96b08a3190f6c25ac4",
      "892886a88950427ab81a544e9d80d049",
      "d703dfded1d14080a592205d7c6facd0",
      "bcbc6dec5ff34902b49e703a4d0faf97",
      "eb338c532bbb46b1ba190c13f7ced178",
      "35d3a6c9a1634f6b8f7f8e0b04473b1c",
      "7649afccd7a0448691dccd09fc49b333",
      "204d085fe0cd403399e6c014c1991b7d",
      "60364c15f4fb4db6b8aa8c0187d24ea9",
      "4dd88c6052484d7fa38df2c2a11d7845",
      "38363a1c6e934b799a87946369982b0b",
      "2aa8a3d1246a4128a216d0ff4af0edd6",
      "781082051027497f85debda61b8f99bb",
      "7382b18761ea4683bd5c97e61af1b37e"
     ]
    },
    "executionInfo": {
     "elapsed": 4959,
     "status": "ok",
     "timestamp": 1740374472607,
     "user": {
      "displayName": "Alexis Geslin",
      "userId": "05368027719046732967"
     },
     "user_tz": 480
    },
    "id": "PGnmlI-voZPr",
    "outputId": "7dfc8832-f38e-4c91-e829-afe5f166895f"
   },
   "outputs": [
    {
     "name": "stderr",
     "output_type": "stream",
     "text": [
      "/usr/local/lib/python3.11/dist-packages/huggingface_hub/utils/_auth.py:94: UserWarning: \n",
      "The secret `HF_TOKEN` does not exist in your Colab secrets.\n",
      "To authenticate with the Hugging Face Hub, create a token in your settings tab (https://huggingface.co/settings/tokens), set it as secret in your Google Colab and restart your session.\n",
      "You will be able to reuse this secret in all of your notebooks.\n",
      "Please note that authentication is recommended but still optional to access public models or datasets.\n",
      "  warnings.warn(\n"
     ]
    },
    {
     "data": {
      "application/vnd.jupyter.widget-view+json": {
       "model_id": "a99accc3cf8640ee9e44cdab8edab78d",
       "version_major": 2,
       "version_minor": 0
      },
      "text/plain": [
       "config.json:   0%|          | 0.00/537 [00:00<?, ?B/s]"
      ]
     },
     "metadata": {},
     "output_type": "display_data"
    },
    {
     "data": {
      "application/vnd.jupyter.widget-view+json": {
       "model_id": "bcbc6dec5ff34902b49e703a4d0faf97",
       "version_major": 2,
       "version_minor": 0
      },
      "text/plain": [
       "pytorch_model.bin:   0%|          | 0.00/308M [00:00<?, ?B/s]"
      ]
     },
     "metadata": {},
     "output_type": "display_data"
    }
   ],
   "source": [
    "base_model = T5EncoderModel.from_pretrained(\"google/t5-v1_1-small\")\n",
    "base_model_output_size = 512\n",
    "base_model.resize_token_embeddings(len(tokenizer))\n",
    "\n",
    "if \"tar.gz\" in best_model_path:\n",
    "  print(\"decompressing checkpoint\")\n",
    "  decompressTarCheckpoints(best_model_path)\n",
    "  best_model_path = best_model_path[0:-7] + \".pt\""
   ]
  },
  {
   "cell_type": "code",
   "execution_count": 13,
   "metadata": {
    "colab": {
     "base_uri": "https://localhost:8080/",
     "height": 121,
     "referenced_widgets": [
      "b5305e7445644523adc0478be3615e05",
      "0181a701581340feb849d85e7c35c64e",
      "8ec350ac6e6d420ea061a8af32cf4bdd",
      "b343a78446324bd8a35da6f5ca41cd7b",
      "4a90f7eabe6e45d1a975cfad127cf079",
      "8047e33c576345959ee1e1de74277a6d",
      "8d549cd565954de9bb2a0697f54ef54a",
      "abe8768658d34ab69d6f68c9203ea30f",
      "6f54cd9f64fa488b9e81ebdde0b4895a",
      "57e7b447f00c4690aa9f917de76a8583",
      "b04af07c8fdd495b85a5d2d559188807"
     ]
    },
    "executionInfo": {
     "elapsed": 14404,
     "status": "ok",
     "timestamp": 1740374487021,
     "user": {
      "displayName": "Alexis Geslin",
      "userId": "05368027719046732967"
     },
     "user_tz": 480
    },
    "id": "X4uhauXMoZNA",
    "outputId": "c8673ade-035e-4e76-9d02-a226eb964538"
   },
   "outputs": [
    {
     "name": "stdout",
     "output_type": "stream",
     "text": [
      "here\n"
     ]
    },
    {
     "name": "stderr",
     "output_type": "stream",
     "text": [
      "<ipython-input-13-51f78d87c8b8>:10: FutureWarning: You are using `torch.load` with `weights_only=False` (the current default value), which uses the default pickle module implicitly. It is possible to construct malicious pickle data which will execute arbitrary code during unpickling (See https://github.com/pytorch/pytorch/blob/main/SECURITY.md#untrusted-models for more details). In a future release, the default value for `weights_only` will be flipped to `True`. This limits the functions that could be executed during unpickling. Arbitrary objects will no longer be allowed to be loaded via this mode unless they are explicitly allowlisted by the user via `torch.serialization.add_safe_globals`. We recommend you start setting `weights_only=True` for any use case where you don't have full control of the loaded file. Please open an issue on GitHub for any issues related to this experimental feature.\n",
      "  best_model.module.load_state_dict(torch.load(best_model_path, map_location=torch.device(device)), strict=False)\n"
     ]
    },
    {
     "data": {
      "application/vnd.jupyter.widget-view+json": {
       "model_id": "b5305e7445644523adc0478be3615e05",
       "version_major": 2,
       "version_minor": 0
      },
      "text/plain": [
       "model.safetensors:   0%|          | 0.00/308M [00:00<?, ?B/s]"
      ]
     },
     "metadata": {},
     "output_type": "display_data"
    }
   ],
   "source": [
    "best_model = T5Predictor(base_model, base_model_output_size, drop_rate=drop_rate, pooling=pooling)\n",
    "\n",
    "device_ids = [d for d in range(torch.cuda.device_count())]\n",
    "\n",
    "if torch.cuda.is_available():\n",
    "    best_model = nn.DataParallel(best_model, device_ids=device_ids).cuda()\n",
    "\n",
    "if isinstance(best_model, nn.DataParallel):\n",
    "    print(\"here\")\n",
    "    best_model.module.load_state_dict(torch.load(best_model_path, map_location=torch.device(device)), strict=False)\n",
    "else:\n",
    "    best_model.load_state_dict(torch.load(best_model_path, map_location=torch.device(device)), strict=False)\n",
    "    best_model.to(device)"
   ]
  },
  {
   "cell_type": "code",
   "execution_count": 14,
   "metadata": {
    "colab": {
     "base_uri": "https://localhost:8080/"
    },
    "executionInfo": {
     "elapsed": 4,
     "status": "ok",
     "timestamp": 1740374487027,
     "user": {
      "displayName": "Alexis Geslin",
      "userId": "05368027719046732967"
     },
     "user_tz": 480
    },
    "id": "HFTghiqdY96f",
    "outputId": "f78a603c-d43f-4675-890d-790d8508b391"
   },
   "outputs": [
    {
     "name": "stdout",
     "output_type": "stream",
     "text": [
      "Total parameters = 35322049\n"
     ]
    }
   ],
   "source": [
    "model_trainable_params = sum(p.numel() for p in best_model.parameters() if p.requires_grad)\n",
    "print(f\"Total parameters = {model_trainable_params}\")"
   ]
  },
  {
   "cell_type": "code",
   "execution_count": 15,
   "metadata": {
    "executionInfo": {
     "elapsed": 7,
     "status": "ok",
     "timestamp": 1740374488104,
     "user": {
      "displayName": "Alexis Geslin",
      "userId": "05368027719046732967"
     },
     "user_tz": 480
    },
    "id": "evBcGtP90S4g"
   },
   "outputs": [],
   "source": [
    "# if you need to reset the test_data\n",
    "# test_data = pd.read_csv(\"data/test_no_stopwords_and_lengths_and_angles_replaced.csv\")"
   ]
  },
  {
   "cell_type": "code",
   "execution_count": 16,
   "metadata": {
    "executionInfo": {
     "elapsed": 20,
     "status": "ok",
     "timestamp": 1740374488464,
     "user": {
      "displayName": "Alexis Geslin",
      "userId": "05368027719046732967"
     },
     "user_tz": 480
    },
    "id": "Yy5R3_3RzRUs"
   },
   "outputs": [],
   "source": [
    "# mini_test_data = test_data[:150]\n",
    "# test_dataloader = create_dataloaders(\n",
    "#     tokenizer,\n",
    "#     mini_test_data,\n",
    "#     max_length,\n",
    "#     batch_size,\n",
    "#     property_value=property,\n",
    "#     pooling=pooling\n",
    "# )\n"
   ]
  },
  {
   "cell_type": "code",
   "execution_count": 17,
   "metadata": {
    "executionInfo": {
     "elapsed": 86067,
     "status": "ok",
     "timestamp": 1740374575048,
     "user": {
      "displayName": "Alexis Geslin",
      "userId": "05368027719046732967"
     },
     "user_tz": 480
    },
    "id": "zGhttv0E1GEf"
   },
   "outputs": [],
   "source": [
    "\n",
    "# create dataloaders\n",
    "train_dataloader = create_dataloaders(\n",
    "    tokenizer,\n",
    "    train_data,\n",
    "    max_length,\n",
    "    batch_size,\n",
    "    property_value=property,\n",
    "    pooling=pooling,\n",
    "    # normalize=True,\n",
    "    # normalizer=normalizer_type\n",
    ")\n",
    "\n",
    "valid_dataloader = create_dataloaders(\n",
    "    tokenizer,\n",
    "    valid_data,\n",
    "    max_length,\n",
    "    batch_size,\n",
    "    property_value=property,\n",
    "    pooling=pooling\n",
    ")\n",
    "\n",
    "test_dataloader = create_dataloaders(\n",
    "    tokenizer,\n",
    "    test_data,\n",
    "    max_length,\n",
    "    batch_size,\n",
    "    property_value=property,\n",
    "    pooling=pooling\n",
    ")\n"
   ]
  },
  {
   "cell_type": "code",
   "execution_count": 18,
   "metadata": {
    "executionInfo": {
     "elapsed": 35,
     "status": "ok",
     "timestamp": 1740374575088,
     "user": {
      "displayName": "Alexis Geslin",
      "userId": "05368027719046732967"
     },
     "user_tz": 480
    },
    "id": "2MXWBC2voLxB"
   },
   "outputs": [],
   "source": [
    "def evaluate_and_embed(\n",
    "    model,\n",
    "    mae_loss_function,\n",
    "    test_dataloader,\n",
    "    train_labels_mean,\n",
    "    train_labels_std,\n",
    "    train_labels_min,\n",
    "    train_labels_max,\n",
    "    property,\n",
    "    device,\n",
    "    task_name,\n",
    "    normalizer=\"z_norm\"\n",
    "):\n",
    "    test_start_time = time.time()\n",
    "\n",
    "    model.eval()\n",
    "\n",
    "    total_test_loss = 0\n",
    "    predictions_list = []\n",
    "    targets_list = []\n",
    "    embeddings_all = []\n",
    "    targets_all =[]\n",
    "\n",
    "    for step, batch in enumerate(test_dataloader):\n",
    "        batch_inputs, batch_masks, batch_labels = tuple(b.to(device) for b in batch)\n",
    "\n",
    "        with torch.no_grad():\n",
    "            embeddings, predictions = model(batch_inputs, batch_masks)\n",
    "            embeddings =embeddings.detach().cpu()\n",
    "            embeddings_all.append(embeddings)\n",
    "\n",
    "            if task_name == \"classification\":\n",
    "                predictions_denorm = predictions\n",
    "\n",
    "            elif task_name == \"regression\":\n",
    "                if normalizer == 'z_norm':\n",
    "                    predictions_denorm = z_denormalize(predictions, train_labels_mean, train_labels_std)\n",
    "\n",
    "                elif normalizer == 'mm_norm':\n",
    "                    predictions_denorm = mm_denormalize(predictions, train_labels_min, train_labels_max)\n",
    "\n",
    "                elif normalizer == 'ls_norm':\n",
    "                    predictions_denorm = ls_denormalize(predictions)\n",
    "\n",
    "                elif normalizer == 'no_norm':\n",
    "                    predictions_denorm = predictions\n",
    "\n",
    "        predictions = predictions_denorm.detach().cpu().numpy()\n",
    "        targets = batch_labels.detach().cpu().numpy()\n",
    "        targets_all = targets_all +targets.tolist()\n",
    "\n",
    "        for i in range(len(predictions)):\n",
    "            predictions_list.append(predictions[i][0])\n",
    "            targets_list.append(targets[i])\n",
    "\n",
    "    test_predictions = {f\"{property}\": predictions_list}\n",
    "\n",
    "    saveCSV(pd.DataFrame(test_predictions), f\"statistics/samples/{task_name}/test_stats_for_{property}.csv\")\n",
    "\n",
    "    if task_name == \"classification\":\n",
    "        test_performance = get_roc_score(predictions_list, targets_list)\n",
    "        print(f\"\\n The roc score achieved on test set for predicting {property} is {test_performance}\")\n",
    "\n",
    "    elif task_name == \"regression\":\n",
    "        predictions_tensor = torch.tensor(predictions_list)\n",
    "        targets_tensor = torch.tensor(targets_list)\n",
    "        test_performance = mae_loss_function(predictions_tensor.squeeze(), targets_tensor.squeeze())\n",
    "        print(f\"\\n The mae error achieved on test set for predicting {property} is {test_performance}\")\n",
    "\n",
    "    average_test_loss = total_test_loss / len(test_dataloader)\n",
    "    test_ending_time = time.time()\n",
    "    testing_time = time_format(test_ending_time-test_start_time)\n",
    "    print(f\"testing took {testing_time} \\n\")\n",
    "\n",
    "    embeddings_all = torch.cat(embeddings_all, dim=0)\n",
    "\n",
    "    return predictions_list, test_performance, embeddings_all,targets_all"
   ]
  },
  {
   "cell_type": "code",
   "execution_count": 27,
   "metadata": {
    "colab": {
     "base_uri": "https://localhost:8080/"
    },
    "executionInfo": {
     "elapsed": 141543,
     "status": "ok",
     "timestamp": 1740378014117,
     "user": {
      "displayName": "Alexis Geslin",
      "userId": "05368027719046732967"
     },
     "user_tz": 480
    },
    "id": "9pMbA7TqoZKm",
    "outputId": "f13e8d47-0b3f-43b2-c2b0-8793d8826922"
   },
   "outputs": [
    {
     "name": "stdout",
     "output_type": "stream",
     "text": [
      "\n",
      " The mae error achieved on test set for predicting band_gap is 0.3624833154230082\n",
      "testing took 0:02:21 \n",
      "\n"
     ]
    }
   ],
   "source": [
    "mydataloader = test_dataloader\n",
    "predictions_list, performance,embeddings_out,targets_list = evaluate_and_embed(best_model, mae_loss_function, mydataloader, train_labels_mean, train_labels_std, train_labels_min, train_labels_max, property, device, task_name, normalizer=normalizer_type)"
   ]
  },
  {
   "cell_type": "code",
   "execution_count": 28,
   "metadata": {
    "colab": {
     "base_uri": "https://localhost:8080/"
    },
    "executionInfo": {
     "elapsed": 5,
     "status": "ok",
     "timestamp": 1740378014122,
     "user": {
      "displayName": "Alexis Geslin",
      "userId": "05368027719046732967"
     },
     "user_tz": 480
    },
    "id": "pcKcTsKu0vBM",
    "outputId": "8b9173d7-8211-42b6-9347-2d0e46d0b971"
   },
   "outputs": [
    {
     "data": {
      "text/plain": [
       "tensor(0.3625)"
      ]
     },
     "execution_count": 28,
     "metadata": {},
     "output_type": "execute_result"
    }
   ],
   "source": [
    "mae_loss_function(torch.tensor(predictions_list),torch.tensor(targets_list))"
   ]
  },
  {
   "cell_type": "code",
   "execution_count": 29,
   "metadata": {
    "colab": {
     "base_uri": "https://localhost:8080/"
    },
    "executionInfo": {
     "elapsed": 2,
     "status": "ok",
     "timestamp": 1740378014125,
     "user": {
      "displayName": "Alexis Geslin",
      "userId": "05368027719046732967"
     },
     "user_tz": 480
    },
    "id": "50VveFQbc87s",
    "outputId": "4fe832d3-53aa-4c52-bc5d-08b3228823f2"
   },
   "outputs": [
    {
     "name": "stdout",
     "output_type": "stream",
     "text": [
      "test train15000_200epoch 11531\n"
     ]
    }
   ],
   "source": [
    "embeddings = embeddings_out.numpy()\n",
    "df = pd.DataFrame(embeddings)\n",
    "test_results = pd.DataFrame(np.array([predictions_list,targets_list]).T,columns = ['prediction','label'])\n",
    "\n",
    "if mydataloader == train_dataloader:\n",
    "  dataset_used =\"train\"\n",
    "  mylength = len(train_data)\n",
    "elif mydataloader == valid_dataloader:\n",
    "  dataset_used =\"valid\"\n",
    "  mylength = len(valid_data)\n",
    "elif mydataloader == test_dataloader:\n",
    "  dataset_used =\"test\"\n",
    "  mylength = len(test_data)\n",
    "else:\n",
    "  print(\"error\")\n",
    "\n",
    "if 'dummy' in best_model_path:\n",
    "  model_used = 'dummy'\n",
    "else:\n",
    "  model_used = '_'.join(best_model_path.split('_')[-2:]).split('.')[0]\n",
    "\n",
    "print(dataset_used, model_used, mylength)"
   ]
  },
  {
   "cell_type": "code",
   "execution_count": 30,
   "metadata": {
    "executionInfo": {
     "elapsed": 7387,
     "status": "ok",
     "timestamp": 1740378021512,
     "user": {
      "displayName": "Alexis Geslin",
      "userId": "05368027719046732967"
     },
     "user_tz": 480
    },
    "id": "Icw2JngNc8yI"
   },
   "outputs": [],
   "source": [
    "df.to_csv(f\"embeddings/embeddings_{dataset_used}_{model_used}_{mylength}.csv\", index=False,header=False)\n",
    "test_results.to_csv(f\"embeddings/pred_labels_{dataset_used}_{model_used}_{mylength}.csv\", index=False,header=True)"
   ]
  },
  {
   "cell_type": "code",
   "execution_count": null,
   "metadata": {
    "id": "zCpUQyYZ2gLO"
   },
   "outputs": [],
   "source": []
  },
  {
   "cell_type": "code",
   "execution_count": null,
   "metadata": {
    "id": "iuwmJN-j2gIW"
   },
   "outputs": [],
   "source": []
  },
  {
   "cell_type": "markdown",
   "metadata": {
    "id": "T-KMObRY2dlI"
   },
   "source": [
    "Testing our savings"
   ]
  },
  {
   "cell_type": "code",
   "execution_count": null,
   "metadata": {
    "colab": {
     "base_uri": "https://localhost:8080/"
    },
    "executionInfo": {
     "elapsed": 1014,
     "status": "ok",
     "timestamp": 1740162759668,
     "user": {
      "displayName": "Alexis Geslin",
      "userId": "05368027719046732967"
     },
     "user_tz": 480
    },
    "id": "WmNeKWiOGXDL",
    "outputId": "eecc43b8-6936-44ac-ce95-054645a7993a"
   },
   "outputs": [
    {
     "data": {
      "text/plain": [
       "tensor([[ 0.2114, -0.6339,  0.1635,  ..., -0.1252, -0.3196,  0.1045],\n",
       "        [ 0.3434,  0.1072, -0.0283,  ..., -0.2017, -0.0060, -0.4495],\n",
       "        [ 0.0013, -0.9475,  0.3593,  ..., -0.2091,  0.0332, -0.4379],\n",
       "        ...,\n",
       "        [ 0.3059,  0.1230, -0.0065,  ..., -0.2250,  0.1165, -0.4974],\n",
       "        [ 0.2718,  0.0973, -0.0276,  ..., -0.3071,  0.1327, -0.6291],\n",
       "        [ 0.4251,  0.1203, -0.0181,  ..., -0.3184,  0.0837, -0.4275]])"
      ]
     },
     "execution_count": 27,
     "metadata": {},
     "output_type": "execute_result"
    }
   ],
   "source": [
    "mydata = pd.read_csv(f\"embeddings/embeddings_{dataset_used}_{model_used}_{mylength}.csv\", header=None)\n",
    "torch.tensor(mydata.to_numpy(),dtype =torch.float32)"
   ]
  },
  {
   "cell_type": "code",
   "execution_count": null,
   "metadata": {
    "colab": {
     "base_uri": "https://localhost:8080/",
     "height": 423
    },
    "executionInfo": {
     "elapsed": 85,
     "status": "ok",
     "timestamp": 1740163870173,
     "user": {
      "displayName": "Alexis Geslin",
      "userId": "05368027719046732967"
     },
     "user_tz": 480
    },
    "id": "z1gHqzfRyJc3",
    "outputId": "35bc8e96-d5b2-4da1-aa30-712965382f83"
   },
   "outputs": [
    {
     "data": {
      "application/vnd.google.colaboratory.intrinsic+json": {
       "summary": "{\n  \"name\": \"mydata\",\n  \"rows\": 9945,\n  \"fields\": [\n    {\n      \"column\": \"prediction\",\n      \"properties\": {\n        \"dtype\": \"number\",\n        \"std\": 1.1032605551682668,\n        \"min\": -0.2525542974472046,\n        \"max\": 4.768147468566895,\n        \"num_unique_values\": 9930,\n        \"samples\": [\n          0.1756612658500671,\n          0.0157663822174072,\n          3.3295764923095703\n        ],\n        \"semantic_type\": \"\",\n        \"description\": \"\"\n      }\n    },\n    {\n      \"column\": \"label\",\n      \"properties\": {\n        \"dtype\": \"number\",\n        \"std\": 1.5029757955700958,\n        \"min\": 0.0,\n        \"max\": 8.3751,\n        \"num_unique_values\": 4918,\n        \"samples\": [\n          1.7513000000000003,\n          6.9521,\n          4.5042\n        ],\n        \"semantic_type\": \"\",\n        \"description\": \"\"\n      }\n    }\n  ]\n}",
       "type": "dataframe",
       "variable_name": "mydata"
      },
      "text/html": [
       "\n",
       "  <div id=\"df-b2fe8942-b12e-4b79-9fd3-213e0f9266cb\" class=\"colab-df-container\">\n",
       "    <div>\n",
       "<style scoped>\n",
       "    .dataframe tbody tr th:only-of-type {\n",
       "        vertical-align: middle;\n",
       "    }\n",
       "\n",
       "    .dataframe tbody tr th {\n",
       "        vertical-align: top;\n",
       "    }\n",
       "\n",
       "    .dataframe thead th {\n",
       "        text-align: right;\n",
       "    }\n",
       "</style>\n",
       "<table border=\"1\" class=\"dataframe\">\n",
       "  <thead>\n",
       "    <tr style=\"text-align: right;\">\n",
       "      <th></th>\n",
       "      <th>prediction</th>\n",
       "      <th>label</th>\n",
       "    </tr>\n",
       "  </thead>\n",
       "  <tbody>\n",
       "    <tr>\n",
       "      <th>0</th>\n",
       "      <td>3.097338</td>\n",
       "      <td>1.8906</td>\n",
       "    </tr>\n",
       "    <tr>\n",
       "      <th>1</th>\n",
       "      <td>-0.015010</td>\n",
       "      <td>1.4395</td>\n",
       "    </tr>\n",
       "    <tr>\n",
       "      <th>2</th>\n",
       "      <td>3.233179</td>\n",
       "      <td>2.6027</td>\n",
       "    </tr>\n",
       "    <tr>\n",
       "      <th>3</th>\n",
       "      <td>0.548115</td>\n",
       "      <td>0.0000</td>\n",
       "    </tr>\n",
       "    <tr>\n",
       "      <th>4</th>\n",
       "      <td>1.697269</td>\n",
       "      <td>0.0000</td>\n",
       "    </tr>\n",
       "    <tr>\n",
       "      <th>...</th>\n",
       "      <td>...</td>\n",
       "      <td>...</td>\n",
       "    </tr>\n",
       "    <tr>\n",
       "      <th>9940</th>\n",
       "      <td>0.021686</td>\n",
       "      <td>0.0000</td>\n",
       "    </tr>\n",
       "    <tr>\n",
       "      <th>9941</th>\n",
       "      <td>0.019668</td>\n",
       "      <td>0.0000</td>\n",
       "    </tr>\n",
       "    <tr>\n",
       "      <th>9942</th>\n",
       "      <td>-0.158934</td>\n",
       "      <td>0.0000</td>\n",
       "    </tr>\n",
       "    <tr>\n",
       "      <th>9943</th>\n",
       "      <td>0.327024</td>\n",
       "      <td>1.7621</td>\n",
       "    </tr>\n",
       "    <tr>\n",
       "      <th>9944</th>\n",
       "      <td>0.066484</td>\n",
       "      <td>0.0000</td>\n",
       "    </tr>\n",
       "  </tbody>\n",
       "</table>\n",
       "<p>9945 rows × 2 columns</p>\n",
       "</div>\n",
       "    <div class=\"colab-df-buttons\">\n",
       "\n",
       "  <div class=\"colab-df-container\">\n",
       "    <button class=\"colab-df-convert\" onclick=\"convertToInteractive('df-b2fe8942-b12e-4b79-9fd3-213e0f9266cb')\"\n",
       "            title=\"Convert this dataframe to an interactive table.\"\n",
       "            style=\"display:none;\">\n",
       "\n",
       "  <svg xmlns=\"http://www.w3.org/2000/svg\" height=\"24px\" viewBox=\"0 -960 960 960\">\n",
       "    <path d=\"M120-120v-720h720v720H120Zm60-500h600v-160H180v160Zm220 220h160v-160H400v160Zm0 220h160v-160H400v160ZM180-400h160v-160H180v160Zm440 0h160v-160H620v160ZM180-180h160v-160H180v160Zm440 0h160v-160H620v160Z\"/>\n",
       "  </svg>\n",
       "    </button>\n",
       "\n",
       "  <style>\n",
       "    .colab-df-container {\n",
       "      display:flex;\n",
       "      gap: 12px;\n",
       "    }\n",
       "\n",
       "    .colab-df-convert {\n",
       "      background-color: #E8F0FE;\n",
       "      border: none;\n",
       "      border-radius: 50%;\n",
       "      cursor: pointer;\n",
       "      display: none;\n",
       "      fill: #1967D2;\n",
       "      height: 32px;\n",
       "      padding: 0 0 0 0;\n",
       "      width: 32px;\n",
       "    }\n",
       "\n",
       "    .colab-df-convert:hover {\n",
       "      background-color: #E2EBFA;\n",
       "      box-shadow: 0px 1px 2px rgba(60, 64, 67, 0.3), 0px 1px 3px 1px rgba(60, 64, 67, 0.15);\n",
       "      fill: #174EA6;\n",
       "    }\n",
       "\n",
       "    .colab-df-buttons div {\n",
       "      margin-bottom: 4px;\n",
       "    }\n",
       "\n",
       "    [theme=dark] .colab-df-convert {\n",
       "      background-color: #3B4455;\n",
       "      fill: #D2E3FC;\n",
       "    }\n",
       "\n",
       "    [theme=dark] .colab-df-convert:hover {\n",
       "      background-color: #434B5C;\n",
       "      box-shadow: 0px 1px 3px 1px rgba(0, 0, 0, 0.15);\n",
       "      filter: drop-shadow(0px 1px 2px rgba(0, 0, 0, 0.3));\n",
       "      fill: #FFFFFF;\n",
       "    }\n",
       "  </style>\n",
       "\n",
       "    <script>\n",
       "      const buttonEl =\n",
       "        document.querySelector('#df-b2fe8942-b12e-4b79-9fd3-213e0f9266cb button.colab-df-convert');\n",
       "      buttonEl.style.display =\n",
       "        google.colab.kernel.accessAllowed ? 'block' : 'none';\n",
       "\n",
       "      async function convertToInteractive(key) {\n",
       "        const element = document.querySelector('#df-b2fe8942-b12e-4b79-9fd3-213e0f9266cb');\n",
       "        const dataTable =\n",
       "          await google.colab.kernel.invokeFunction('convertToInteractive',\n",
       "                                                    [key], {});\n",
       "        if (!dataTable) return;\n",
       "\n",
       "        const docLinkHtml = 'Like what you see? Visit the ' +\n",
       "          '<a target=\"_blank\" href=https://colab.research.google.com/notebooks/data_table.ipynb>data table notebook</a>'\n",
       "          + ' to learn more about interactive tables.';\n",
       "        element.innerHTML = '';\n",
       "        dataTable['output_type'] = 'display_data';\n",
       "        await google.colab.output.renderOutput(dataTable, element);\n",
       "        const docLink = document.createElement('div');\n",
       "        docLink.innerHTML = docLinkHtml;\n",
       "        element.appendChild(docLink);\n",
       "      }\n",
       "    </script>\n",
       "  </div>\n",
       "\n",
       "\n",
       "<div id=\"df-1c5992d3-169d-45aa-8132-90a6b0abdb9d\">\n",
       "  <button class=\"colab-df-quickchart\" onclick=\"quickchart('df-1c5992d3-169d-45aa-8132-90a6b0abdb9d')\"\n",
       "            title=\"Suggest charts\"\n",
       "            style=\"display:none;\">\n",
       "\n",
       "<svg xmlns=\"http://www.w3.org/2000/svg\" height=\"24px\"viewBox=\"0 0 24 24\"\n",
       "     width=\"24px\">\n",
       "    <g>\n",
       "        <path d=\"M19 3H5c-1.1 0-2 .9-2 2v14c0 1.1.9 2 2 2h14c1.1 0 2-.9 2-2V5c0-1.1-.9-2-2-2zM9 17H7v-7h2v7zm4 0h-2V7h2v10zm4 0h-2v-4h2v4z\"/>\n",
       "    </g>\n",
       "</svg>\n",
       "  </button>\n",
       "\n",
       "<style>\n",
       "  .colab-df-quickchart {\n",
       "      --bg-color: #E8F0FE;\n",
       "      --fill-color: #1967D2;\n",
       "      --hover-bg-color: #E2EBFA;\n",
       "      --hover-fill-color: #174EA6;\n",
       "      --disabled-fill-color: #AAA;\n",
       "      --disabled-bg-color: #DDD;\n",
       "  }\n",
       "\n",
       "  [theme=dark] .colab-df-quickchart {\n",
       "      --bg-color: #3B4455;\n",
       "      --fill-color: #D2E3FC;\n",
       "      --hover-bg-color: #434B5C;\n",
       "      --hover-fill-color: #FFFFFF;\n",
       "      --disabled-bg-color: #3B4455;\n",
       "      --disabled-fill-color: #666;\n",
       "  }\n",
       "\n",
       "  .colab-df-quickchart {\n",
       "    background-color: var(--bg-color);\n",
       "    border: none;\n",
       "    border-radius: 50%;\n",
       "    cursor: pointer;\n",
       "    display: none;\n",
       "    fill: var(--fill-color);\n",
       "    height: 32px;\n",
       "    padding: 0;\n",
       "    width: 32px;\n",
       "  }\n",
       "\n",
       "  .colab-df-quickchart:hover {\n",
       "    background-color: var(--hover-bg-color);\n",
       "    box-shadow: 0 1px 2px rgba(60, 64, 67, 0.3), 0 1px 3px 1px rgba(60, 64, 67, 0.15);\n",
       "    fill: var(--button-hover-fill-color);\n",
       "  }\n",
       "\n",
       "  .colab-df-quickchart-complete:disabled,\n",
       "  .colab-df-quickchart-complete:disabled:hover {\n",
       "    background-color: var(--disabled-bg-color);\n",
       "    fill: var(--disabled-fill-color);\n",
       "    box-shadow: none;\n",
       "  }\n",
       "\n",
       "  .colab-df-spinner {\n",
       "    border: 2px solid var(--fill-color);\n",
       "    border-color: transparent;\n",
       "    border-bottom-color: var(--fill-color);\n",
       "    animation:\n",
       "      spin 1s steps(1) infinite;\n",
       "  }\n",
       "\n",
       "  @keyframes spin {\n",
       "    0% {\n",
       "      border-color: transparent;\n",
       "      border-bottom-color: var(--fill-color);\n",
       "      border-left-color: var(--fill-color);\n",
       "    }\n",
       "    20% {\n",
       "      border-color: transparent;\n",
       "      border-left-color: var(--fill-color);\n",
       "      border-top-color: var(--fill-color);\n",
       "    }\n",
       "    30% {\n",
       "      border-color: transparent;\n",
       "      border-left-color: var(--fill-color);\n",
       "      border-top-color: var(--fill-color);\n",
       "      border-right-color: var(--fill-color);\n",
       "    }\n",
       "    40% {\n",
       "      border-color: transparent;\n",
       "      border-right-color: var(--fill-color);\n",
       "      border-top-color: var(--fill-color);\n",
       "    }\n",
       "    60% {\n",
       "      border-color: transparent;\n",
       "      border-right-color: var(--fill-color);\n",
       "    }\n",
       "    80% {\n",
       "      border-color: transparent;\n",
       "      border-right-color: var(--fill-color);\n",
       "      border-bottom-color: var(--fill-color);\n",
       "    }\n",
       "    90% {\n",
       "      border-color: transparent;\n",
       "      border-bottom-color: var(--fill-color);\n",
       "    }\n",
       "  }\n",
       "</style>\n",
       "\n",
       "  <script>\n",
       "    async function quickchart(key) {\n",
       "      const quickchartButtonEl =\n",
       "        document.querySelector('#' + key + ' button');\n",
       "      quickchartButtonEl.disabled = true;  // To prevent multiple clicks.\n",
       "      quickchartButtonEl.classList.add('colab-df-spinner');\n",
       "      try {\n",
       "        const charts = await google.colab.kernel.invokeFunction(\n",
       "            'suggestCharts', [key], {});\n",
       "      } catch (error) {\n",
       "        console.error('Error during call to suggestCharts:', error);\n",
       "      }\n",
       "      quickchartButtonEl.classList.remove('colab-df-spinner');\n",
       "      quickchartButtonEl.classList.add('colab-df-quickchart-complete');\n",
       "    }\n",
       "    (() => {\n",
       "      let quickchartButtonEl =\n",
       "        document.querySelector('#df-1c5992d3-169d-45aa-8132-90a6b0abdb9d button');\n",
       "      quickchartButtonEl.style.display =\n",
       "        google.colab.kernel.accessAllowed ? 'block' : 'none';\n",
       "    })();\n",
       "  </script>\n",
       "</div>\n",
       "\n",
       "  <div id=\"id_c1ab1490-79cd-4e4e-b065-50bb3d760408\">\n",
       "    <style>\n",
       "      .colab-df-generate {\n",
       "        background-color: #E8F0FE;\n",
       "        border: none;\n",
       "        border-radius: 50%;\n",
       "        cursor: pointer;\n",
       "        display: none;\n",
       "        fill: #1967D2;\n",
       "        height: 32px;\n",
       "        padding: 0 0 0 0;\n",
       "        width: 32px;\n",
       "      }\n",
       "\n",
       "      .colab-df-generate:hover {\n",
       "        background-color: #E2EBFA;\n",
       "        box-shadow: 0px 1px 2px rgba(60, 64, 67, 0.3), 0px 1px 3px 1px rgba(60, 64, 67, 0.15);\n",
       "        fill: #174EA6;\n",
       "      }\n",
       "\n",
       "      [theme=dark] .colab-df-generate {\n",
       "        background-color: #3B4455;\n",
       "        fill: #D2E3FC;\n",
       "      }\n",
       "\n",
       "      [theme=dark] .colab-df-generate:hover {\n",
       "        background-color: #434B5C;\n",
       "        box-shadow: 0px 1px 3px 1px rgba(0, 0, 0, 0.15);\n",
       "        filter: drop-shadow(0px 1px 2px rgba(0, 0, 0, 0.3));\n",
       "        fill: #FFFFFF;\n",
       "      }\n",
       "    </style>\n",
       "    <button class=\"colab-df-generate\" onclick=\"generateWithVariable('mydata')\"\n",
       "            title=\"Generate code using this dataframe.\"\n",
       "            style=\"display:none;\">\n",
       "\n",
       "  <svg xmlns=\"http://www.w3.org/2000/svg\" height=\"24px\"viewBox=\"0 0 24 24\"\n",
       "       width=\"24px\">\n",
       "    <path d=\"M7,19H8.4L18.45,9,17,7.55,7,17.6ZM5,21V16.75L18.45,3.32a2,2,0,0,1,2.83,0l1.4,1.43a1.91,1.91,0,0,1,.58,1.4,1.91,1.91,0,0,1-.58,1.4L9.25,21ZM18.45,9,17,7.55Zm-12,3A5.31,5.31,0,0,0,4.9,8.1,5.31,5.31,0,0,0,1,6.5,5.31,5.31,0,0,0,4.9,4.9,5.31,5.31,0,0,0,6.5,1,5.31,5.31,0,0,0,8.1,4.9,5.31,5.31,0,0,0,12,6.5,5.46,5.46,0,0,0,6.5,12Z\"/>\n",
       "  </svg>\n",
       "    </button>\n",
       "    <script>\n",
       "      (() => {\n",
       "      const buttonEl =\n",
       "        document.querySelector('#id_c1ab1490-79cd-4e4e-b065-50bb3d760408 button.colab-df-generate');\n",
       "      buttonEl.style.display =\n",
       "        google.colab.kernel.accessAllowed ? 'block' : 'none';\n",
       "\n",
       "      buttonEl.onclick = () => {\n",
       "        google.colab.notebook.generateWithVariable('mydata');\n",
       "      }\n",
       "      })();\n",
       "    </script>\n",
       "  </div>\n",
       "\n",
       "    </div>\n",
       "  </div>\n"
      ],
      "text/plain": [
       "      prediction   label\n",
       "0       3.097338  1.8906\n",
       "1      -0.015010  1.4395\n",
       "2       3.233179  2.6027\n",
       "3       0.548115  0.0000\n",
       "4       1.697269  0.0000\n",
       "...          ...     ...\n",
       "9940    0.021686  0.0000\n",
       "9941    0.019668  0.0000\n",
       "9942   -0.158934  0.0000\n",
       "9943    0.327024  1.7621\n",
       "9944    0.066484  0.0000\n",
       "\n",
       "[9945 rows x 2 columns]"
      ]
     },
     "execution_count": 60,
     "metadata": {},
     "output_type": "execute_result"
    }
   ],
   "source": [
    "mydata = pd.read_csv(f\"embeddings/pred_labels_{dataset_used}_{model_used}_{mylength}.csv\")\n",
    "mydata"
   ]
  },
  {
   "cell_type": "code",
   "execution_count": null,
   "metadata": {
    "id": "rbKVSRcx2PQL"
   },
   "outputs": [],
   "source": []
  }
 ],
 "metadata": {
  "accelerator": "GPU",
  "colab": {
   "authorship_tag": "ABX9TyPlxkL+JTWpUgcSTVVzW2aT",
   "gpuType": "L4",
   "machine_shape": "hm",
   "provenance": []
  },
  "kernelspec": {
   "display_name": "Python 3",
   "name": "python3"
  },
  "language_info": {
   "name": "python"
  },
  "widgets": {
   "application/vnd.jupyter.widget-state+json": {
    "0181a701581340feb849d85e7c35c64e": {
     "model_module": "@jupyter-widgets/controls",
     "model_module_version": "1.5.0",
     "model_name": "HTMLModel",
     "state": {
      "_dom_classes": [],
      "_model_module": "@jupyter-widgets/controls",
      "_model_module_version": "1.5.0",
      "_model_name": "HTMLModel",
      "_view_count": null,
      "_view_module": "@jupyter-widgets/controls",
      "_view_module_version": "1.5.0",
      "_view_name": "HTMLView",
      "description": "",
      "description_tooltip": null,
      "layout": "IPY_MODEL_8047e33c576345959ee1e1de74277a6d",
      "placeholder": "​",
      "style": "IPY_MODEL_8d549cd565954de9bb2a0697f54ef54a",
      "value": "model.safetensors: 100%"
     }
    },
    "018bbf14b0984bbd871da66e696b08ef": {
     "model_module": "@jupyter-widgets/controls",
     "model_module_version": "1.5.0",
     "model_name": "FloatProgressModel",
     "state": {
      "_dom_classes": [],
      "_model_module": "@jupyter-widgets/controls",
      "_model_module_version": "1.5.0",
      "_model_name": "FloatProgressModel",
      "_view_count": null,
      "_view_module": "@jupyter-widgets/controls",
      "_view_module_version": "1.5.0",
      "_view_name": "ProgressView",
      "bar_style": "success",
      "description": "",
      "description_tooltip": null,
      "layout": "IPY_MODEL_f70455d9e7af40d3be6460e67d779e45",
      "max": 537,
      "min": 0,
      "orientation": "horizontal",
      "style": "IPY_MODEL_f3e38730477e4a96b08a3190f6c25ac4",
      "value": 537
     }
    },
    "204d085fe0cd403399e6c014c1991b7d": {
     "model_module": "@jupyter-widgets/base",
     "model_module_version": "1.2.0",
     "model_name": "LayoutModel",
     "state": {
      "_model_module": "@jupyter-widgets/base",
      "_model_module_version": "1.2.0",
      "_model_name": "LayoutModel",
      "_view_count": null,
      "_view_module": "@jupyter-widgets/base",
      "_view_module_version": "1.2.0",
      "_view_name": "LayoutView",
      "align_content": null,
      "align_items": null,
      "align_self": null,
      "border": null,
      "bottom": null,
      "display": null,
      "flex": null,
      "flex_flow": null,
      "grid_area": null,
      "grid_auto_columns": null,
      "grid_auto_flow": null,
      "grid_auto_rows": null,
      "grid_column": null,
      "grid_gap": null,
      "grid_row": null,
      "grid_template_areas": null,
      "grid_template_columns": null,
      "grid_template_rows": null,
      "height": null,
      "justify_content": null,
      "justify_items": null,
      "left": null,
      "margin": null,
      "max_height": null,
      "max_width": null,
      "min_height": null,
      "min_width": null,
      "object_fit": null,
      "object_position": null,
      "order": null,
      "overflow": null,
      "overflow_x": null,
      "overflow_y": null,
      "padding": null,
      "right": null,
      "top": null,
      "visibility": null,
      "width": null
     }
    },
    "2653de234a584c7caf23ce9a6364e51b": {
     "model_module": "@jupyter-widgets/controls",
     "model_module_version": "1.5.0",
     "model_name": "DescriptionStyleModel",
     "state": {
      "_model_module": "@jupyter-widgets/controls",
      "_model_module_version": "1.5.0",
      "_model_name": "DescriptionStyleModel",
      "_view_count": null,
      "_view_module": "@jupyter-widgets/base",
      "_view_module_version": "1.2.0",
      "_view_name": "StyleView",
      "description_width": ""
     }
    },
    "2aa8a3d1246a4128a216d0ff4af0edd6": {
     "model_module": "@jupyter-widgets/controls",
     "model_module_version": "1.5.0",
     "model_name": "ProgressStyleModel",
     "state": {
      "_model_module": "@jupyter-widgets/controls",
      "_model_module_version": "1.5.0",
      "_model_name": "ProgressStyleModel",
      "_view_count": null,
      "_view_module": "@jupyter-widgets/base",
      "_view_module_version": "1.2.0",
      "_view_name": "StyleView",
      "bar_color": null,
      "description_width": ""
     }
    },
    "35d3a6c9a1634f6b8f7f8e0b04473b1c": {
     "model_module": "@jupyter-widgets/controls",
     "model_module_version": "1.5.0",
     "model_name": "FloatProgressModel",
     "state": {
      "_dom_classes": [],
      "_model_module": "@jupyter-widgets/controls",
      "_model_module_version": "1.5.0",
      "_model_name": "FloatProgressModel",
      "_view_count": null,
      "_view_module": "@jupyter-widgets/controls",
      "_view_module_version": "1.5.0",
      "_view_name": "ProgressView",
      "bar_style": "success",
      "description": "",
      "description_tooltip": null,
      "layout": "IPY_MODEL_38363a1c6e934b799a87946369982b0b",
      "max": 307932125,
      "min": 0,
      "orientation": "horizontal",
      "style": "IPY_MODEL_2aa8a3d1246a4128a216d0ff4af0edd6",
      "value": 307932125
     }
    },
    "38363a1c6e934b799a87946369982b0b": {
     "model_module": "@jupyter-widgets/base",
     "model_module_version": "1.2.0",
     "model_name": "LayoutModel",
     "state": {
      "_model_module": "@jupyter-widgets/base",
      "_model_module_version": "1.2.0",
      "_model_name": "LayoutModel",
      "_view_count": null,
      "_view_module": "@jupyter-widgets/base",
      "_view_module_version": "1.2.0",
      "_view_name": "LayoutView",
      "align_content": null,
      "align_items": null,
      "align_self": null,
      "border": null,
      "bottom": null,
      "display": null,
      "flex": null,
      "flex_flow": null,
      "grid_area": null,
      "grid_auto_columns": null,
      "grid_auto_flow": null,
      "grid_auto_rows": null,
      "grid_column": null,
      "grid_gap": null,
      "grid_row": null,
      "grid_template_areas": null,
      "grid_template_columns": null,
      "grid_template_rows": null,
      "height": null,
      "justify_content": null,
      "justify_items": null,
      "left": null,
      "margin": null,
      "max_height": null,
      "max_width": null,
      "min_height": null,
      "min_width": null,
      "object_fit": null,
      "object_position": null,
      "order": null,
      "overflow": null,
      "overflow_x": null,
      "overflow_y": null,
      "padding": null,
      "right": null,
      "top": null,
      "visibility": null,
      "width": null
     }
    },
    "44ab9715ae0c4f1287ca15a0c8d47bdd": {
     "model_module": "@jupyter-widgets/controls",
     "model_module_version": "1.5.0",
     "model_name": "HTMLModel",
     "state": {
      "_dom_classes": [],
      "_model_module": "@jupyter-widgets/controls",
      "_model_module_version": "1.5.0",
      "_model_name": "HTMLModel",
      "_view_count": null,
      "_view_module": "@jupyter-widgets/controls",
      "_view_module_version": "1.5.0",
      "_view_name": "HTMLView",
      "description": "",
      "description_tooltip": null,
      "layout": "IPY_MODEL_6af49653c37b47cbbdf79ebd844f3a8e",
      "placeholder": "​",
      "style": "IPY_MODEL_2653de234a584c7caf23ce9a6364e51b",
      "value": "config.json: 100%"
     }
    },
    "4a90f7eabe6e45d1a975cfad127cf079": {
     "model_module": "@jupyter-widgets/base",
     "model_module_version": "1.2.0",
     "model_name": "LayoutModel",
     "state": {
      "_model_module": "@jupyter-widgets/base",
      "_model_module_version": "1.2.0",
      "_model_name": "LayoutModel",
      "_view_count": null,
      "_view_module": "@jupyter-widgets/base",
      "_view_module_version": "1.2.0",
      "_view_name": "LayoutView",
      "align_content": null,
      "align_items": null,
      "align_self": null,
      "border": null,
      "bottom": null,
      "display": null,
      "flex": null,
      "flex_flow": null,
      "grid_area": null,
      "grid_auto_columns": null,
      "grid_auto_flow": null,
      "grid_auto_rows": null,
      "grid_column": null,
      "grid_gap": null,
      "grid_row": null,
      "grid_template_areas": null,
      "grid_template_columns": null,
      "grid_template_rows": null,
      "height": null,
      "justify_content": null,
      "justify_items": null,
      "left": null,
      "margin": null,
      "max_height": null,
      "max_width": null,
      "min_height": null,
      "min_width": null,
      "object_fit": null,
      "object_position": null,
      "order": null,
      "overflow": null,
      "overflow_x": null,
      "overflow_y": null,
      "padding": null,
      "right": null,
      "top": null,
      "visibility": null,
      "width": null
     }
    },
    "4dd88c6052484d7fa38df2c2a11d7845": {
     "model_module": "@jupyter-widgets/controls",
     "model_module_version": "1.5.0",
     "model_name": "DescriptionStyleModel",
     "state": {
      "_model_module": "@jupyter-widgets/controls",
      "_model_module_version": "1.5.0",
      "_model_name": "DescriptionStyleModel",
      "_view_count": null,
      "_view_module": "@jupyter-widgets/base",
      "_view_module_version": "1.2.0",
      "_view_name": "StyleView",
      "description_width": ""
     }
    },
    "57e7b447f00c4690aa9f917de76a8583": {
     "model_module": "@jupyter-widgets/base",
     "model_module_version": "1.2.0",
     "model_name": "LayoutModel",
     "state": {
      "_model_module": "@jupyter-widgets/base",
      "_model_module_version": "1.2.0",
      "_model_name": "LayoutModel",
      "_view_count": null,
      "_view_module": "@jupyter-widgets/base",
      "_view_module_version": "1.2.0",
      "_view_name": "LayoutView",
      "align_content": null,
      "align_items": null,
      "align_self": null,
      "border": null,
      "bottom": null,
      "display": null,
      "flex": null,
      "flex_flow": null,
      "grid_area": null,
      "grid_auto_columns": null,
      "grid_auto_flow": null,
      "grid_auto_rows": null,
      "grid_column": null,
      "grid_gap": null,
      "grid_row": null,
      "grid_template_areas": null,
      "grid_template_columns": null,
      "grid_template_rows": null,
      "height": null,
      "justify_content": null,
      "justify_items": null,
      "left": null,
      "margin": null,
      "max_height": null,
      "max_width": null,
      "min_height": null,
      "min_width": null,
      "object_fit": null,
      "object_position": null,
      "order": null,
      "overflow": null,
      "overflow_x": null,
      "overflow_y": null,
      "padding": null,
      "right": null,
      "top": null,
      "visibility": null,
      "width": null
     }
    },
    "60364c15f4fb4db6b8aa8c0187d24ea9": {
     "model_module": "@jupyter-widgets/base",
     "model_module_version": "1.2.0",
     "model_name": "LayoutModel",
     "state": {
      "_model_module": "@jupyter-widgets/base",
      "_model_module_version": "1.2.0",
      "_model_name": "LayoutModel",
      "_view_count": null,
      "_view_module": "@jupyter-widgets/base",
      "_view_module_version": "1.2.0",
      "_view_name": "LayoutView",
      "align_content": null,
      "align_items": null,
      "align_self": null,
      "border": null,
      "bottom": null,
      "display": null,
      "flex": null,
      "flex_flow": null,
      "grid_area": null,
      "grid_auto_columns": null,
      "grid_auto_flow": null,
      "grid_auto_rows": null,
      "grid_column": null,
      "grid_gap": null,
      "grid_row": null,
      "grid_template_areas": null,
      "grid_template_columns": null,
      "grid_template_rows": null,
      "height": null,
      "justify_content": null,
      "justify_items": null,
      "left": null,
      "margin": null,
      "max_height": null,
      "max_width": null,
      "min_height": null,
      "min_width": null,
      "object_fit": null,
      "object_position": null,
      "order": null,
      "overflow": null,
      "overflow_x": null,
      "overflow_y": null,
      "padding": null,
      "right": null,
      "top": null,
      "visibility": null,
      "width": null
     }
    },
    "6af49653c37b47cbbdf79ebd844f3a8e": {
     "model_module": "@jupyter-widgets/base",
     "model_module_version": "1.2.0",
     "model_name": "LayoutModel",
     "state": {
      "_model_module": "@jupyter-widgets/base",
      "_model_module_version": "1.2.0",
      "_model_name": "LayoutModel",
      "_view_count": null,
      "_view_module": "@jupyter-widgets/base",
      "_view_module_version": "1.2.0",
      "_view_name": "LayoutView",
      "align_content": null,
      "align_items": null,
      "align_self": null,
      "border": null,
      "bottom": null,
      "display": null,
      "flex": null,
      "flex_flow": null,
      "grid_area": null,
      "grid_auto_columns": null,
      "grid_auto_flow": null,
      "grid_auto_rows": null,
      "grid_column": null,
      "grid_gap": null,
      "grid_row": null,
      "grid_template_areas": null,
      "grid_template_columns": null,
      "grid_template_rows": null,
      "height": null,
      "justify_content": null,
      "justify_items": null,
      "left": null,
      "margin": null,
      "max_height": null,
      "max_width": null,
      "min_height": null,
      "min_width": null,
      "object_fit": null,
      "object_position": null,
      "order": null,
      "overflow": null,
      "overflow_x": null,
      "overflow_y": null,
      "padding": null,
      "right": null,
      "top": null,
      "visibility": null,
      "width": null
     }
    },
    "6f54cd9f64fa488b9e81ebdde0b4895a": {
     "model_module": "@jupyter-widgets/controls",
     "model_module_version": "1.5.0",
     "model_name": "ProgressStyleModel",
     "state": {
      "_model_module": "@jupyter-widgets/controls",
      "_model_module_version": "1.5.0",
      "_model_name": "ProgressStyleModel",
      "_view_count": null,
      "_view_module": "@jupyter-widgets/base",
      "_view_module_version": "1.2.0",
      "_view_name": "StyleView",
      "bar_color": null,
      "description_width": ""
     }
    },
    "7382b18761ea4683bd5c97e61af1b37e": {
     "model_module": "@jupyter-widgets/controls",
     "model_module_version": "1.5.0",
     "model_name": "DescriptionStyleModel",
     "state": {
      "_model_module": "@jupyter-widgets/controls",
      "_model_module_version": "1.5.0",
      "_model_name": "DescriptionStyleModel",
      "_view_count": null,
      "_view_module": "@jupyter-widgets/base",
      "_view_module_version": "1.2.0",
      "_view_name": "StyleView",
      "description_width": ""
     }
    },
    "7649afccd7a0448691dccd09fc49b333": {
     "model_module": "@jupyter-widgets/controls",
     "model_module_version": "1.5.0",
     "model_name": "HTMLModel",
     "state": {
      "_dom_classes": [],
      "_model_module": "@jupyter-widgets/controls",
      "_model_module_version": "1.5.0",
      "_model_name": "HTMLModel",
      "_view_count": null,
      "_view_module": "@jupyter-widgets/controls",
      "_view_module_version": "1.5.0",
      "_view_name": "HTMLView",
      "description": "",
      "description_tooltip": null,
      "layout": "IPY_MODEL_781082051027497f85debda61b8f99bb",
      "placeholder": "​",
      "style": "IPY_MODEL_7382b18761ea4683bd5c97e61af1b37e",
      "value": " 308M/308M [00:01&lt;00:00, 162MB/s]"
     }
    },
    "781082051027497f85debda61b8f99bb": {
     "model_module": "@jupyter-widgets/base",
     "model_module_version": "1.2.0",
     "model_name": "LayoutModel",
     "state": {
      "_model_module": "@jupyter-widgets/base",
      "_model_module_version": "1.2.0",
      "_model_name": "LayoutModel",
      "_view_count": null,
      "_view_module": "@jupyter-widgets/base",
      "_view_module_version": "1.2.0",
      "_view_name": "LayoutView",
      "align_content": null,
      "align_items": null,
      "align_self": null,
      "border": null,
      "bottom": null,
      "display": null,
      "flex": null,
      "flex_flow": null,
      "grid_area": null,
      "grid_auto_columns": null,
      "grid_auto_flow": null,
      "grid_auto_rows": null,
      "grid_column": null,
      "grid_gap": null,
      "grid_row": null,
      "grid_template_areas": null,
      "grid_template_columns": null,
      "grid_template_rows": null,
      "height": null,
      "justify_content": null,
      "justify_items": null,
      "left": null,
      "margin": null,
      "max_height": null,
      "max_width": null,
      "min_height": null,
      "min_width": null,
      "object_fit": null,
      "object_position": null,
      "order": null,
      "overflow": null,
      "overflow_x": null,
      "overflow_y": null,
      "padding": null,
      "right": null,
      "top": null,
      "visibility": null,
      "width": null
     }
    },
    "8047e33c576345959ee1e1de74277a6d": {
     "model_module": "@jupyter-widgets/base",
     "model_module_version": "1.2.0",
     "model_name": "LayoutModel",
     "state": {
      "_model_module": "@jupyter-widgets/base",
      "_model_module_version": "1.2.0",
      "_model_name": "LayoutModel",
      "_view_count": null,
      "_view_module": "@jupyter-widgets/base",
      "_view_module_version": "1.2.0",
      "_view_name": "LayoutView",
      "align_content": null,
      "align_items": null,
      "align_self": null,
      "border": null,
      "bottom": null,
      "display": null,
      "flex": null,
      "flex_flow": null,
      "grid_area": null,
      "grid_auto_columns": null,
      "grid_auto_flow": null,
      "grid_auto_rows": null,
      "grid_column": null,
      "grid_gap": null,
      "grid_row": null,
      "grid_template_areas": null,
      "grid_template_columns": null,
      "grid_template_rows": null,
      "height": null,
      "justify_content": null,
      "justify_items": null,
      "left": null,
      "margin": null,
      "max_height": null,
      "max_width": null,
      "min_height": null,
      "min_width": null,
      "object_fit": null,
      "object_position": null,
      "order": null,
      "overflow": null,
      "overflow_x": null,
      "overflow_y": null,
      "padding": null,
      "right": null,
      "top": null,
      "visibility": null,
      "width": null
     }
    },
    "892886a88950427ab81a544e9d80d049": {
     "model_module": "@jupyter-widgets/base",
     "model_module_version": "1.2.0",
     "model_name": "LayoutModel",
     "state": {
      "_model_module": "@jupyter-widgets/base",
      "_model_module_version": "1.2.0",
      "_model_name": "LayoutModel",
      "_view_count": null,
      "_view_module": "@jupyter-widgets/base",
      "_view_module_version": "1.2.0",
      "_view_name": "LayoutView",
      "align_content": null,
      "align_items": null,
      "align_self": null,
      "border": null,
      "bottom": null,
      "display": null,
      "flex": null,
      "flex_flow": null,
      "grid_area": null,
      "grid_auto_columns": null,
      "grid_auto_flow": null,
      "grid_auto_rows": null,
      "grid_column": null,
      "grid_gap": null,
      "grid_row": null,
      "grid_template_areas": null,
      "grid_template_columns": null,
      "grid_template_rows": null,
      "height": null,
      "justify_content": null,
      "justify_items": null,
      "left": null,
      "margin": null,
      "max_height": null,
      "max_width": null,
      "min_height": null,
      "min_width": null,
      "object_fit": null,
      "object_position": null,
      "order": null,
      "overflow": null,
      "overflow_x": null,
      "overflow_y": null,
      "padding": null,
      "right": null,
      "top": null,
      "visibility": null,
      "width": null
     }
    },
    "89653301e4094c2b953a6e5b421a0992": {
     "model_module": "@jupyter-widgets/controls",
     "model_module_version": "1.5.0",
     "model_name": "HTMLModel",
     "state": {
      "_dom_classes": [],
      "_model_module": "@jupyter-widgets/controls",
      "_model_module_version": "1.5.0",
      "_model_name": "HTMLModel",
      "_view_count": null,
      "_view_module": "@jupyter-widgets/controls",
      "_view_module_version": "1.5.0",
      "_view_name": "HTMLView",
      "description": "",
      "description_tooltip": null,
      "layout": "IPY_MODEL_892886a88950427ab81a544e9d80d049",
      "placeholder": "​",
      "style": "IPY_MODEL_d703dfded1d14080a592205d7c6facd0",
      "value": " 537/537 [00:00&lt;00:00, 59.7kB/s]"
     }
    },
    "8d549cd565954de9bb2a0697f54ef54a": {
     "model_module": "@jupyter-widgets/controls",
     "model_module_version": "1.5.0",
     "model_name": "DescriptionStyleModel",
     "state": {
      "_model_module": "@jupyter-widgets/controls",
      "_model_module_version": "1.5.0",
      "_model_name": "DescriptionStyleModel",
      "_view_count": null,
      "_view_module": "@jupyter-widgets/base",
      "_view_module_version": "1.2.0",
      "_view_name": "StyleView",
      "description_width": ""
     }
    },
    "8ec350ac6e6d420ea061a8af32cf4bdd": {
     "model_module": "@jupyter-widgets/controls",
     "model_module_version": "1.5.0",
     "model_name": "FloatProgressModel",
     "state": {
      "_dom_classes": [],
      "_model_module": "@jupyter-widgets/controls",
      "_model_module_version": "1.5.0",
      "_model_name": "FloatProgressModel",
      "_view_count": null,
      "_view_module": "@jupyter-widgets/controls",
      "_view_module_version": "1.5.0",
      "_view_name": "ProgressView",
      "bar_style": "success",
      "description": "",
      "description_tooltip": null,
      "layout": "IPY_MODEL_abe8768658d34ab69d6f68c9203ea30f",
      "max": 307867046,
      "min": 0,
      "orientation": "horizontal",
      "style": "IPY_MODEL_6f54cd9f64fa488b9e81ebdde0b4895a",
      "value": 307867046
     }
    },
    "a99accc3cf8640ee9e44cdab8edab78d": {
     "model_module": "@jupyter-widgets/controls",
     "model_module_version": "1.5.0",
     "model_name": "HBoxModel",
     "state": {
      "_dom_classes": [],
      "_model_module": "@jupyter-widgets/controls",
      "_model_module_version": "1.5.0",
      "_model_name": "HBoxModel",
      "_view_count": null,
      "_view_module": "@jupyter-widgets/controls",
      "_view_module_version": "1.5.0",
      "_view_name": "HBoxView",
      "box_style": "",
      "children": [
       "IPY_MODEL_44ab9715ae0c4f1287ca15a0c8d47bdd",
       "IPY_MODEL_018bbf14b0984bbd871da66e696b08ef",
       "IPY_MODEL_89653301e4094c2b953a6e5b421a0992"
      ],
      "layout": "IPY_MODEL_e0f8f24edcd0454a89c5ba783618dff2"
     }
    },
    "abe8768658d34ab69d6f68c9203ea30f": {
     "model_module": "@jupyter-widgets/base",
     "model_module_version": "1.2.0",
     "model_name": "LayoutModel",
     "state": {
      "_model_module": "@jupyter-widgets/base",
      "_model_module_version": "1.2.0",
      "_model_name": "LayoutModel",
      "_view_count": null,
      "_view_module": "@jupyter-widgets/base",
      "_view_module_version": "1.2.0",
      "_view_name": "LayoutView",
      "align_content": null,
      "align_items": null,
      "align_self": null,
      "border": null,
      "bottom": null,
      "display": null,
      "flex": null,
      "flex_flow": null,
      "grid_area": null,
      "grid_auto_columns": null,
      "grid_auto_flow": null,
      "grid_auto_rows": null,
      "grid_column": null,
      "grid_gap": null,
      "grid_row": null,
      "grid_template_areas": null,
      "grid_template_columns": null,
      "grid_template_rows": null,
      "height": null,
      "justify_content": null,
      "justify_items": null,
      "left": null,
      "margin": null,
      "max_height": null,
      "max_width": null,
      "min_height": null,
      "min_width": null,
      "object_fit": null,
      "object_position": null,
      "order": null,
      "overflow": null,
      "overflow_x": null,
      "overflow_y": null,
      "padding": null,
      "right": null,
      "top": null,
      "visibility": null,
      "width": null
     }
    },
    "b04af07c8fdd495b85a5d2d559188807": {
     "model_module": "@jupyter-widgets/controls",
     "model_module_version": "1.5.0",
     "model_name": "DescriptionStyleModel",
     "state": {
      "_model_module": "@jupyter-widgets/controls",
      "_model_module_version": "1.5.0",
      "_model_name": "DescriptionStyleModel",
      "_view_count": null,
      "_view_module": "@jupyter-widgets/base",
      "_view_module_version": "1.2.0",
      "_view_name": "StyleView",
      "description_width": ""
     }
    },
    "b343a78446324bd8a35da6f5ca41cd7b": {
     "model_module": "@jupyter-widgets/controls",
     "model_module_version": "1.5.0",
     "model_name": "HTMLModel",
     "state": {
      "_dom_classes": [],
      "_model_module": "@jupyter-widgets/controls",
      "_model_module_version": "1.5.0",
      "_model_name": "HTMLModel",
      "_view_count": null,
      "_view_module": "@jupyter-widgets/controls",
      "_view_module_version": "1.5.0",
      "_view_name": "HTMLView",
      "description": "",
      "description_tooltip": null,
      "layout": "IPY_MODEL_57e7b447f00c4690aa9f917de76a8583",
      "placeholder": "​",
      "style": "IPY_MODEL_b04af07c8fdd495b85a5d2d559188807",
      "value": " 308M/308M [00:01&lt;00:00, 208MB/s]"
     }
    },
    "b5305e7445644523adc0478be3615e05": {
     "model_module": "@jupyter-widgets/controls",
     "model_module_version": "1.5.0",
     "model_name": "HBoxModel",
     "state": {
      "_dom_classes": [],
      "_model_module": "@jupyter-widgets/controls",
      "_model_module_version": "1.5.0",
      "_model_name": "HBoxModel",
      "_view_count": null,
      "_view_module": "@jupyter-widgets/controls",
      "_view_module_version": "1.5.0",
      "_view_name": "HBoxView",
      "box_style": "",
      "children": [
       "IPY_MODEL_0181a701581340feb849d85e7c35c64e",
       "IPY_MODEL_8ec350ac6e6d420ea061a8af32cf4bdd",
       "IPY_MODEL_b343a78446324bd8a35da6f5ca41cd7b"
      ],
      "layout": "IPY_MODEL_4a90f7eabe6e45d1a975cfad127cf079"
     }
    },
    "bcbc6dec5ff34902b49e703a4d0faf97": {
     "model_module": "@jupyter-widgets/controls",
     "model_module_version": "1.5.0",
     "model_name": "HBoxModel",
     "state": {
      "_dom_classes": [],
      "_model_module": "@jupyter-widgets/controls",
      "_model_module_version": "1.5.0",
      "_model_name": "HBoxModel",
      "_view_count": null,
      "_view_module": "@jupyter-widgets/controls",
      "_view_module_version": "1.5.0",
      "_view_name": "HBoxView",
      "box_style": "",
      "children": [
       "IPY_MODEL_eb338c532bbb46b1ba190c13f7ced178",
       "IPY_MODEL_35d3a6c9a1634f6b8f7f8e0b04473b1c",
       "IPY_MODEL_7649afccd7a0448691dccd09fc49b333"
      ],
      "layout": "IPY_MODEL_204d085fe0cd403399e6c014c1991b7d"
     }
    },
    "d703dfded1d14080a592205d7c6facd0": {
     "model_module": "@jupyter-widgets/controls",
     "model_module_version": "1.5.0",
     "model_name": "DescriptionStyleModel",
     "state": {
      "_model_module": "@jupyter-widgets/controls",
      "_model_module_version": "1.5.0",
      "_model_name": "DescriptionStyleModel",
      "_view_count": null,
      "_view_module": "@jupyter-widgets/base",
      "_view_module_version": "1.2.0",
      "_view_name": "StyleView",
      "description_width": ""
     }
    },
    "e0f8f24edcd0454a89c5ba783618dff2": {
     "model_module": "@jupyter-widgets/base",
     "model_module_version": "1.2.0",
     "model_name": "LayoutModel",
     "state": {
      "_model_module": "@jupyter-widgets/base",
      "_model_module_version": "1.2.0",
      "_model_name": "LayoutModel",
      "_view_count": null,
      "_view_module": "@jupyter-widgets/base",
      "_view_module_version": "1.2.0",
      "_view_name": "LayoutView",
      "align_content": null,
      "align_items": null,
      "align_self": null,
      "border": null,
      "bottom": null,
      "display": null,
      "flex": null,
      "flex_flow": null,
      "grid_area": null,
      "grid_auto_columns": null,
      "grid_auto_flow": null,
      "grid_auto_rows": null,
      "grid_column": null,
      "grid_gap": null,
      "grid_row": null,
      "grid_template_areas": null,
      "grid_template_columns": null,
      "grid_template_rows": null,
      "height": null,
      "justify_content": null,
      "justify_items": null,
      "left": null,
      "margin": null,
      "max_height": null,
      "max_width": null,
      "min_height": null,
      "min_width": null,
      "object_fit": null,
      "object_position": null,
      "order": null,
      "overflow": null,
      "overflow_x": null,
      "overflow_y": null,
      "padding": null,
      "right": null,
      "top": null,
      "visibility": null,
      "width": null
     }
    },
    "eb338c532bbb46b1ba190c13f7ced178": {
     "model_module": "@jupyter-widgets/controls",
     "model_module_version": "1.5.0",
     "model_name": "HTMLModel",
     "state": {
      "_dom_classes": [],
      "_model_module": "@jupyter-widgets/controls",
      "_model_module_version": "1.5.0",
      "_model_name": "HTMLModel",
      "_view_count": null,
      "_view_module": "@jupyter-widgets/controls",
      "_view_module_version": "1.5.0",
      "_view_name": "HTMLView",
      "description": "",
      "description_tooltip": null,
      "layout": "IPY_MODEL_60364c15f4fb4db6b8aa8c0187d24ea9",
      "placeholder": "​",
      "style": "IPY_MODEL_4dd88c6052484d7fa38df2c2a11d7845",
      "value": "pytorch_model.bin: 100%"
     }
    },
    "f3e38730477e4a96b08a3190f6c25ac4": {
     "model_module": "@jupyter-widgets/controls",
     "model_module_version": "1.5.0",
     "model_name": "ProgressStyleModel",
     "state": {
      "_model_module": "@jupyter-widgets/controls",
      "_model_module_version": "1.5.0",
      "_model_name": "ProgressStyleModel",
      "_view_count": null,
      "_view_module": "@jupyter-widgets/base",
      "_view_module_version": "1.2.0",
      "_view_name": "StyleView",
      "bar_color": null,
      "description_width": ""
     }
    },
    "f70455d9e7af40d3be6460e67d779e45": {
     "model_module": "@jupyter-widgets/base",
     "model_module_version": "1.2.0",
     "model_name": "LayoutModel",
     "state": {
      "_model_module": "@jupyter-widgets/base",
      "_model_module_version": "1.2.0",
      "_model_name": "LayoutModel",
      "_view_count": null,
      "_view_module": "@jupyter-widgets/base",
      "_view_module_version": "1.2.0",
      "_view_name": "LayoutView",
      "align_content": null,
      "align_items": null,
      "align_self": null,
      "border": null,
      "bottom": null,
      "display": null,
      "flex": null,
      "flex_flow": null,
      "grid_area": null,
      "grid_auto_columns": null,
      "grid_auto_flow": null,
      "grid_auto_rows": null,
      "grid_column": null,
      "grid_gap": null,
      "grid_row": null,
      "grid_template_areas": null,
      "grid_template_columns": null,
      "grid_template_rows": null,
      "height": null,
      "justify_content": null,
      "justify_items": null,
      "left": null,
      "margin": null,
      "max_height": null,
      "max_width": null,
      "min_height": null,
      "min_width": null,
      "object_fit": null,
      "object_position": null,
      "order": null,
      "overflow": null,
      "overflow_x": null,
      "overflow_y": null,
      "padding": null,
      "right": null,
      "top": null,
      "visibility": null,
      "width": null
     }
    }
   }
  }
 },
 "nbformat": 4,
 "nbformat_minor": 0
}
