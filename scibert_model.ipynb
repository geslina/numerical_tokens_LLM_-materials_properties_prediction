{
 "cells": [
  {
   "cell_type": "markdown",
   "metadata": {},
   "source": [
    "#### Author: Alexis Geslin"
   ]
  },
  {
   "cell_type": "code",
   "execution_count": 1,
   "metadata": {
    "executionInfo": {
     "elapsed": 3499,
     "status": "ok",
     "timestamp": 1741737089495,
     "user": {
      "displayName": "Alexis Geslin",
      "userId": "05368027719046732967"
     },
     "user_tz": 420
    },
    "id": "uTikNgInxK28"
   },
   "outputs": [],
   "source": [
    "import re\n",
    "import time\n",
    "import glob\n",
    "import pandas as pd\n",
    "import numpy as np\n",
    "import argparse\n",
    "from statistics import stdev\n",
    "import matplotlib.pyplot as plt\n",
    "\n",
    "import torch\n",
    "import torch.nn as nn\n",
    "import torch.optim as optim\n",
    "from torch.utils.data import DataLoader, Dataset"
   ]
  },
  {
   "cell_type": "code",
   "execution_count": 2,
   "metadata": {
    "colab": {
     "base_uri": "https://localhost:8080/"
    },
    "executionInfo": {
     "elapsed": 25513,
     "status": "ok",
     "timestamp": 1741737115009,
     "user": {
      "displayName": "Alexis Geslin",
      "userId": "05368027719046732967"
     },
     "user_tz": 420
    },
    "id": "JoUFIvSxxRAn",
    "outputId": "f2f311c6-b2f6-407d-ade3-5211e14f32e5"
   },
   "outputs": [
    {
     "name": "stdout",
     "output_type": "stream",
     "text": [
      "Mounted at /content/drive\n"
     ]
    }
   ],
   "source": [
    "from google.colab import drive\n",
    "drive.mount('/content/drive')"
   ]
  },
  {
   "cell_type": "code",
   "execution_count": 3,
   "metadata": {
    "colab": {
     "base_uri": "https://localhost:8080/"
    },
    "executionInfo": {
     "elapsed": 929,
     "status": "ok",
     "timestamp": 1741737115941,
     "user": {
      "displayName": "Alexis Geslin",
      "userId": "05368027719046732967"
     },
     "user_tz": 420
    },
    "id": "kxjSCeMxxqGc",
    "outputId": "699d40a9-485f-474c-841e-9b19bba60cb3"
   },
   "outputs": [
    {
     "name": "stdout",
     "output_type": "stream",
     "text": [
      "/content/drive/MyDrive/cours/cs224n/project/LLM-Prop\n"
     ]
    }
   ],
   "source": [
    "%cd drive/MyDrive/cours/cs224n/project/LLM-Prop/\n"
   ]
  },
  {
   "cell_type": "code",
   "execution_count": 4,
   "metadata": {
    "colab": {
     "base_uri": "https://localhost:8080/"
    },
    "executionInfo": {
     "elapsed": 331,
     "status": "ok",
     "timestamp": 1741737116274,
     "user": {
      "displayName": "Alexis Geslin",
      "userId": "05368027719046732967"
     },
     "user_tz": 420
    },
    "id": "WPW9SCD0xxh3",
    "outputId": "4be7c78c-1d69-4fe4-85e0-7994f1bbe82b"
   },
   "outputs": [
    {
     "name": "stdout",
     "output_type": "stream",
     "text": [
      "--------------------\n",
      "I have 1 devices, currently on 0\n",
      "--------------------\n"
     ]
    }
   ],
   "source": [
    "if torch.cuda.is_available():\n",
    "    device = torch.device(\"cuda\")\n",
    "    print('-'*20)\n",
    "    print(f'I have {torch.cuda.device_count()} devices, currently on {torch.cuda.current_device()}')\n",
    "    print('-'*20)\n",
    "else:\n",
    "    print('-'*20)\n",
    "    print(\"You are running on CPU only\")\n",
    "    print('-'*20)\n",
    "    device = torch.device(\"cpu\")"
   ]
  },
  {
   "cell_type": "code",
   "execution_count": 5,
   "metadata": {
    "executionInfo": {
     "elapsed": 28549,
     "status": "ok",
     "timestamp": 1741737144829,
     "user": {
      "displayName": "Alexis Geslin",
      "userId": "05368027719046732967"
     },
     "user_tz": 420
    },
    "id": "Fgue-5Hxx0vZ"
   },
   "outputs": [],
   "source": [
    "train_labels_data = pd.read_csv(f'./embeddings/pred_labels_train_train15000_200epoch_125098.csv')\n",
    "valid_labels_data = pd.read_csv(f'./embeddings/pred_labels_valid_train15000_200epoch_9945.csv')\n",
    "test_labels_data = pd.read_csv(f'./embeddings/pred_labels_test_train15000_200epoch_11531.csv')\n",
    "\n",
    "train_embeddings  = pd.read_csv(f'./embeddings/scibert_train_125098.csv', header=None)\n",
    "valid_embeddings  = pd.read_csv(f'./embeddings/scibert_valid_9945.csv', header=None)\n",
    "test_embeddings  = pd.read_csv(f'./embeddings/scibert_test_11531.csv', header=None)\n"
   ]
  },
  {
   "cell_type": "code",
   "execution_count": 6,
   "metadata": {
    "colab": {
     "base_uri": "https://localhost:8080/"
    },
    "executionInfo": {
     "elapsed": 524,
     "status": "ok",
     "timestamp": 1741737261557,
     "user": {
      "displayName": "Alexis Geslin",
      "userId": "05368027719046732967"
     },
     "user_tz": 420
    },
    "id": "tCUP6xFoBgiM",
    "outputId": "531b08bf-829e-4464-a062-6924b2d83ccc"
   },
   "outputs": [
    {
     "name": "stdout",
     "output_type": "stream",
     "text": [
      "torch.Size([125098, 768]) torch.Size([125098, 1]) cuda:0 cuda:0\n",
      "torch.Size([9945, 768]) torch.Size([9945, 1]) cuda:0 cuda:0\n",
      "torch.Size([11531, 768]) torch.Size([11531, 1]) cuda:0 cuda:0\n"
     ]
    }
   ],
   "source": [
    "#concat embeddings and numerical tokens and make it a tensor\n",
    "X_train = torch.tensor(train_embeddings.values).float().to(device)\n",
    "X_valid = torch.tensor(valid_embeddings.values).float().to(device)\n",
    "X_test = torch.tensor(test_embeddings.values).float().to(device)\n",
    "\n",
    "\n",
    "Y_train = torch.tensor(train_labels_data.label.values).float().reshape(-1,1).to(device)\n",
    "Y_valid = torch.tensor(valid_labels_data.label.values).float().reshape(-1,1).to(device)\n",
    "Y_test = torch.tensor(test_labels_data.label.values).float().reshape(-1,1).to(device)\n",
    "\n",
    "#print shapes\n",
    "print(X_train.shape, Y_train.shape,X_train.device,Y_train.device)\n",
    "print(X_valid.shape, Y_valid.shape,X_valid.device,Y_valid.device)\n",
    "print(X_test.shape, Y_test.shape,X_test.device,Y_test.device)"
   ]
  },
  {
   "cell_type": "code",
   "execution_count": 7,
   "metadata": {
    "executionInfo": {
     "elapsed": 5,
     "status": "ok",
     "timestamp": 1741737262345,
     "user": {
      "displayName": "Alexis Geslin",
      "userId": "05368027719046732967"
     },
     "user_tz": 420
    },
    "id": "metr3R6-ytNG"
   },
   "outputs": [],
   "source": [
    "\n",
    "dim_embeddings = train_embeddings.shape[1]\n",
    "mae_loss_function = nn.L1Loss()\n",
    "mseloss = nn.MSELoss()\n"
   ]
  },
  {
   "cell_type": "code",
   "execution_count": 8,
   "metadata": {
    "colab": {
     "base_uri": "https://localhost:8080/"
    },
    "executionInfo": {
     "elapsed": 11,
     "status": "ok",
     "timestamp": 1741737262646,
     "user": {
      "displayName": "Alexis Geslin",
      "userId": "05368027719046732967"
     },
     "user_tz": 420
    },
    "id": "9x2LCJBiytKy",
    "outputId": "83dd3f7a-5c6c-4589-ed72-bebe60327558"
   },
   "outputs": [
    {
     "name": "stdout",
     "output_type": "stream",
     "text": [
      "256\n"
     ]
    }
   ],
   "source": [
    "X_train_mini = X_train[:15000]\n",
    "Y_train_mini = Y_train[:15000]\n",
    "bs = 256 if torch.cuda.is_available() else 32\n",
    "print(bs)\n",
    "\n",
    "train_dataset = torch.utils.data.TensorDataset(X_train, Y_train)\n",
    "train_dataset_mini = torch.utils.data.TensorDataset(X_train_mini, Y_train_mini)\n",
    "valid_dataset = torch.utils.data.TensorDataset(X_valid, Y_valid)\n",
    "test_dataset = torch.utils.data.TensorDataset(X_test, Y_test)\n",
    "\n",
    "train_dataloader = torch.utils.data.DataLoader(train_dataset, batch_size=bs, shuffle=False)\n",
    "train_dataloader_mini = torch.utils.data.DataLoader(train_dataset_mini, batch_size=bs, shuffle=False)\n",
    "valid_dataloader = torch.utils.data.DataLoader(valid_dataset, batch_size=bs, shuffle=False)\n",
    "test_dataloader = torch.utils.data.DataLoader(test_dataset, batch_size=bs, shuffle=False)"
   ]
  },
  {
   "cell_type": "code",
   "execution_count": 9,
   "metadata": {
    "executionInfo": {
     "elapsed": 7,
     "status": "ok",
     "timestamp": 1741737264427,
     "user": {
      "displayName": "Alexis Geslin",
      "userId": "05368027719046732967"
     },
     "user_tz": 420
    },
    "id": "N0g_HPzpBqn1"
   },
   "outputs": [],
   "source": [
    "\n",
    "def init_weights(m):\n",
    "    if isinstance(m, torch.nn.Linear):\n",
    "        torch.nn.init.kaiming_uniform_(m.weight, nonlinearity='relu')\n",
    "        if m.bias is not None:\n",
    "            torch.nn.init.zeros_(m.bias)\n",
    "\n",
    "class ResidualBlock(nn.Module):\n",
    "    def __init__(self, in_features):\n",
    "        super().__init__()\n",
    "        self.fc = nn.Linear(in_features, in_features)\n",
    "        self.bn = nn.BatchNorm1d(in_features)\n",
    "\n",
    "    def forward(self, x):\n",
    "        return nn.functional.relu(self.bn(self.fc(x)) + x)\n",
    "\n",
    "class perceptronHead(nn.Module):\n",
    "    def __init__(self, embeddings_dim,mydroprate = 0.1):\n",
    "        super(perceptronHead, self).__init__()\n",
    "\n",
    "        self.MLP_embedding = nn.Sequential(\n",
    "            nn.Dropout(mydroprate),\n",
    "            nn.Linear(embeddings_dim, 512),\n",
    "            nn.ReLU(),\n",
    "            ResidualBlock(512),\n",
    "            nn.ReLU(),\n",
    "            nn.Linear(512, 128),\n",
    "            nn.ReLU(),\n",
    "            ResidualBlock(128),\n",
    "            nn.ReLU(),\n",
    "            nn.Linear(128, 8),\n",
    "            nn.ReLU(),\n",
    "            nn.Linear(8, 1)\n",
    "        )\n",
    "        # initialize weights with Kaiming\n",
    "        for m in self.MLP_embedding:\n",
    "            if isinstance(m, nn.Linear):\n",
    "                nn.init.kaiming_normal_(m.weight)\n",
    "                print(f'initialized {m}')\n",
    "\n",
    "\n",
    "    def forward(self, X):\n",
    "        x_out = self.MLP_embedding(X)\n",
    "        return x_out\n",
    "\n",
    "\n",
    "\n",
    "class perceptronHead2(nn.Module):\n",
    "    def __init__(self, embeddings_dim,mydroprate = 0.1):\n",
    "        super(perceptronHead2, self).__init__()\n",
    "\n",
    "        self.MLP_embedding = nn.Sequential(\n",
    "            nn.Dropout(mydroprate),\n",
    "            ResidualBlock(embeddings_dim),\n",
    "            nn.ReLU(),\n",
    "            nn.Linear(embeddings_dim, 512),\n",
    "            nn.ReLU(),\n",
    "            ResidualBlock(512),\n",
    "            nn.ReLU(),\n",
    "            nn.Linear(512, 128),\n",
    "            nn.ReLU(),\n",
    "            nn.Linear(128, 8),\n",
    "            nn.ReLU(),\n",
    "            nn.Linear(8, 1),\n",
    "        )\n",
    "        # initialize weights with Kaiming\n",
    "        for m in self.MLP_embedding:\n",
    "            if isinstance(m, nn.Linear):\n",
    "                nn.init.kaiming_normal_(m.weight)\n",
    "                print(f'initialized {m}')\n",
    "\n",
    "\n",
    "    def forward(self, X):\n",
    "        x_out = self.MLP_embedding(X)\n",
    "        return x_out\n",
    "class perceptronHead3(nn.Module):\n",
    "    def __init__(self, embeddings_dim,mydroprate = 0.1):\n",
    "        super(perceptronHead3, self).__init__()\n",
    "\n",
    "        self.MLP_embedding = nn.Sequential(\n",
    "            nn.Dropout(mydroprate),\n",
    "            ResidualBlock(embeddings_dim),\n",
    "            nn.LeakyReLU(),\n",
    "            nn.Linear(embeddings_dim, 512),\n",
    "            nn.LeakyReLU(),\n",
    "            nn.Dropout(mydroprate),\n",
    "            nn.Linear(512, 128),\n",
    "            nn.LeakyReLU(),\n",
    "            nn.Linear(128, 64),\n",
    "            nn.LeakyReLU(),\n",
    "            nn.Linear(64, 1),\n",
    "        )\n",
    "        # initialize weights with Kaiming\n",
    "        for m in self.MLP_embedding:\n",
    "            if isinstance(m, nn.Linear):\n",
    "                nn.init.kaiming_normal_(m.weight)\n",
    "                print(f'initialized {m}')\n",
    "\n",
    "\n",
    "    def forward(self, X):\n",
    "        x_out = self.MLP_embedding(X)\n",
    "        return x_out\n",
    "\n",
    "class perceptronHead4(nn.Module):\n",
    "    def __init__(self, embeddings_dim,mydroprate = 0.1):\n",
    "        super(perceptronHead4, self).__init__()\n",
    "\n",
    "        self.MLP_embedding = nn.Sequential(\n",
    "            nn.Dropout(mydroprate),\n",
    "            ResidualBlock(embeddings_dim),\n",
    "            nn.LeakyReLU(),\n",
    "            nn.Linear(embeddings_dim, 512),\n",
    "            nn.LeakyReLU(),\n",
    "            nn.Dropout(mydroprate),\n",
    "            ResidualBlock(512),\n",
    "            nn.Linear(512, 256),\n",
    "            nn.LeakyReLU(),\n",
    "            nn.Linear(256, 128),\n",
    "            nn.LeakyReLU(),\n",
    "            nn.Linear(128, 64),\n",
    "            nn.LeakyReLU(),\n",
    "            nn.Linear(64, 8),\n",
    "            nn.LeakyReLU(),\n",
    "            nn.Linear(8, 1)\n",
    "        )\n",
    "        # initialize weights with Kaiming\n",
    "        for m in self.MLP_embedding:\n",
    "            if isinstance(m, nn.Linear):\n",
    "                nn.init.kaiming_normal_(m.weight)\n",
    "                print(f'initialized {m}')\n",
    "\n",
    "\n",
    "    def forward(self, X):\n",
    "        x_out = self.MLP_embedding(X)\n",
    "        return x_out\n"
   ]
  },
  {
   "cell_type": "code",
   "execution_count": 19,
   "metadata": {
    "colab": {
     "base_uri": "https://localhost:8080/"
    },
    "executionInfo": {
     "elapsed": 22,
     "status": "ok",
     "timestamp": 1741730039847,
     "user": {
      "displayName": "Alexis Geslin",
      "userId": "05368027719046732967"
     },
     "user_tz": 420
    },
    "id": "f3cF7atQB6MT",
    "outputId": "eb24fd5a-fea4-4adf-b648-98671b8f6ae1"
   },
   "outputs": [
    {
     "name": "stdout",
     "output_type": "stream",
     "text": [
      "initialized Linear(in_features=768, out_features=512, bias=True)\n",
      "initialized Linear(in_features=512, out_features=256, bias=True)\n",
      "initialized Linear(in_features=256, out_features=128, bias=True)\n",
      "initialized Linear(in_features=128, out_features=64, bias=True)\n",
      "initialized Linear(in_features=64, out_features=8, bias=True)\n",
      "initialized Linear(in_features=8, out_features=1, bias=True)\n"
     ]
    }
   ],
   "source": [
    "model = perceptronHead4(dim_embeddings,mydroprate=0.1)\n",
    "model.to(device)\n",
    "\n",
    "# optimizer = optim.Adam(model.parameters(), lr=0.0015,weight_decay=0.01)\n",
    "optimizer = optim.Adam(model.parameters(), lr=0.0015)\n",
    "scheduler = optim.lr_scheduler.ReduceLROnPlateau(optimizer, mode='min', factor=0.5, patience=5, verbose=True)\n",
    "my_training_loader = train_dataloader_mini\n",
    "my_training_loader = train_dataloader"
   ]
  },
  {
   "cell_type": "code",
   "execution_count": 20,
   "metadata": {
    "colab": {
     "base_uri": "https://localhost:8080/"
    },
    "collapsed": true,
    "executionInfo": {
     "elapsed": 281077,
     "status": "ok",
     "timestamp": 1741730321767,
     "user": {
      "displayName": "Alexis Geslin",
      "userId": "05368027719046732967"
     },
     "user_tz": 420
    },
    "id": "oFLp4f7MCCOc",
    "outputId": "0c0807b7-38ea-4446-aeab-cf21c722a122"
   },
   "outputs": [
    {
     "name": "stdout",
     "output_type": "stream",
     "text": [
      "Epoch 0, Training Loss 0.81\n",
      "Saving a new best model\n",
      "Epoch 0, Validation Loss 0.7249667048454285\n",
      "Epoch 1, Training Loss 0.733\n",
      "Saving a new best model\n",
      "Epoch 1, Validation Loss 0.6730741262435913\n",
      "Epoch 2, Training Loss 0.711\n",
      "Saving a new best model\n",
      "Epoch 2, Validation Loss 0.6491271257400513\n",
      "Epoch 3, Training Loss 0.695\n",
      "Epoch 3, Validation Loss 0.6510100960731506\n",
      "Epoch 4, Training Loss 0.685\n",
      "Saving a new best model\n",
      "Epoch 4, Validation Loss 0.6390699148178101\n",
      "Epoch 5, Training Loss 0.674\n",
      "Saving a new best model\n",
      "Epoch 5, Validation Loss 0.6273000836372375\n",
      "Epoch 6, Training Loss 0.666\n",
      "Epoch 6, Validation Loss 0.6296814680099487\n",
      "Epoch 7, Training Loss 0.662\n",
      "Saving a new best model\n",
      "Epoch 7, Validation Loss 0.6252003312110901\n",
      "Epoch 8, Training Loss 0.654\n",
      "Saving a new best model\n",
      "Epoch 8, Validation Loss 0.6141462922096252\n",
      "Epoch 9, Training Loss 0.647\n",
      "Epoch 9, Validation Loss 0.6208116412162781\n",
      "Epoch 10, Training Loss 0.641\n",
      "Saving a new best model\n",
      "Epoch 10, Validation Loss 0.6103888154029846\n",
      "Epoch 11, Training Loss 0.635\n",
      "Saving a new best model\n",
      "Epoch 11, Validation Loss 0.6030065417289734\n",
      "Epoch 12, Training Loss 0.634\n",
      "Saving a new best model\n",
      "Epoch 12, Validation Loss 0.5957886576652527\n",
      "Epoch 13, Training Loss 0.625\n",
      "Epoch 13, Validation Loss 0.6083195209503174\n",
      "Epoch 14, Training Loss 0.621\n",
      "Saving a new best model\n",
      "Epoch 14, Validation Loss 0.5913617014884949\n",
      "Epoch 15, Training Loss 0.617\n",
      "Epoch 15, Validation Loss 0.5944802165031433\n",
      "Epoch 16, Training Loss 0.613\n",
      "Saving a new best model\n",
      "Epoch 16, Validation Loss 0.5888006091117859\n",
      "Epoch 17, Training Loss 0.607\n",
      "Saving a new best model\n",
      "Epoch 17, Validation Loss 0.5861412882804871\n",
      "Epoch 18, Training Loss 0.602\n",
      "Saving a new best model\n",
      "Epoch 18, Validation Loss 0.5814977288246155\n",
      "Epoch 19, Training Loss 0.6\n",
      "Epoch 19, Validation Loss 0.5878598093986511\n",
      "Epoch 20, Training Loss 0.596\n",
      "Saving a new best model\n",
      "Epoch 20, Validation Loss 0.5775822997093201\n",
      "Epoch 21, Training Loss 0.594\n",
      "Saving a new best model\n",
      "Epoch 21, Validation Loss 0.5708771347999573\n",
      "Epoch 22, Training Loss 0.588\n",
      "Epoch 22, Validation Loss 0.5709377527236938\n",
      "Epoch 23, Training Loss 0.585\n",
      "Epoch 23, Validation Loss 0.5734173059463501\n",
      "Epoch 24, Training Loss 0.58\n",
      "Saving a new best model\n",
      "Epoch 24, Validation Loss 0.5641575455665588\n",
      "Epoch 25, Training Loss 0.574\n",
      "Epoch 25, Validation Loss 0.5683191418647766\n",
      "Epoch 26, Training Loss 0.573\n",
      "Epoch 26, Validation Loss 0.5799663066864014\n",
      "Epoch 27, Training Loss 0.569\n",
      "Saving a new best model\n",
      "Epoch 27, Validation Loss 0.5566259026527405\n",
      "Epoch 28, Training Loss 0.566\n",
      "Epoch 28, Validation Loss 0.5671432614326477\n",
      "Epoch 29, Training Loss 0.564\n",
      "Epoch 29, Validation Loss 0.5572912096977234\n",
      "Epoch 30, Training Loss 0.557\n",
      "Epoch 30, Validation Loss 0.5643712282180786\n",
      "Epoch 31, Training Loss 0.554\n",
      "Epoch 31, Validation Loss 0.5732081532478333\n",
      "Epoch 32, Training Loss 0.551\n",
      "Saving a new best model\n",
      "Epoch 32, Validation Loss 0.5546681880950928\n",
      "Epoch 33, Training Loss 0.547\n",
      "Epoch 33, Validation Loss 0.566535472869873\n",
      "Epoch 34, Training Loss 0.542\n",
      "Saving a new best model\n",
      "Epoch 34, Validation Loss 0.5513781309127808\n",
      "Epoch 35, Training Loss 0.543\n",
      "Epoch 35, Validation Loss 0.5539960265159607\n",
      "Epoch 36, Training Loss 0.538\n",
      "Epoch 36, Validation Loss 0.551630437374115\n",
      "Epoch 37, Training Loss 0.537\n",
      "Epoch 37, Validation Loss 0.5581978559494019\n",
      "Epoch 38, Training Loss 0.535\n",
      "Saving a new best model\n",
      "Epoch 38, Validation Loss 0.5474706888198853\n",
      "Epoch 39, Training Loss 0.532\n",
      "Epoch 39, Validation Loss 0.553965151309967\n",
      "Epoch 40, Training Loss 0.529\n",
      "Saving a new best model\n",
      "Epoch 40, Validation Loss 0.5460863709449768\n",
      "Epoch 41, Training Loss 0.526\n",
      "Epoch 41, Validation Loss 0.5532216429710388\n",
      "Epoch 42, Training Loss 0.524\n",
      "Saving a new best model\n",
      "Epoch 42, Validation Loss 0.5416336059570312\n",
      "Epoch 43, Training Loss 0.521\n",
      "Epoch 43, Validation Loss 0.5497536063194275\n",
      "Epoch 44, Training Loss 0.517\n",
      "Saving a new best model\n",
      "Epoch 44, Validation Loss 0.5403879880905151\n",
      "Epoch 45, Training Loss 0.515\n",
      "Epoch 45, Validation Loss 0.543941080570221\n",
      "Epoch 46, Training Loss 0.514\n",
      "Saving a new best model\n",
      "Epoch 46, Validation Loss 0.5387833714485168\n",
      "Epoch 47, Training Loss 0.51\n",
      "Saving a new best model\n",
      "Epoch 47, Validation Loss 0.5361675024032593\n",
      "Epoch 48, Training Loss 0.508\n",
      "Epoch 48, Validation Loss 0.5383021831512451\n",
      "Epoch 49, Training Loss 0.505\n",
      "Epoch 49, Validation Loss 0.5446610450744629\n",
      "Epoch 50, Training Loss 0.502\n",
      "Epoch 50, Validation Loss 0.5367673635482788\n",
      "Epoch 51, Training Loss 0.502\n",
      "Epoch 51, Validation Loss 0.5611806511878967\n",
      "Epoch 52, Training Loss 0.498\n",
      "Epoch 52, Validation Loss 0.537460207939148\n",
      "Epoch 53, Training Loss 0.496\n",
      "Saving a new best model\n",
      "Epoch 53, Validation Loss 0.5323367714881897\n",
      "Epoch 54, Training Loss 0.494\n",
      "Epoch 54, Validation Loss 0.535248875617981\n",
      "Epoch 55, Training Loss 0.491\n",
      "Epoch 55, Validation Loss 0.5335801243782043\n",
      "Epoch 56, Training Loss 0.489\n",
      "Epoch 56, Validation Loss 0.5356315970420837\n",
      "Epoch 57, Training Loss 0.487\n",
      "Epoch 57, Validation Loss 0.5351591110229492\n",
      "Epoch 58, Training Loss 0.488\n",
      "Saving a new best model\n",
      "Epoch 58, Validation Loss 0.5314153432846069\n",
      "Epoch 59, Training Loss 0.485\n",
      "Epoch 59, Validation Loss 0.5372638702392578\n",
      "Epoch 60, Training Loss 0.482\n",
      "Epoch 60, Validation Loss 0.5363751649856567\n",
      "Epoch 61, Training Loss 0.481\n",
      "Epoch 61, Validation Loss 0.5343193411827087\n",
      "Epoch 62, Training Loss 0.477\n",
      "Epoch 62, Validation Loss 0.5329341292381287\n",
      "Epoch 63, Training Loss 0.475\n",
      "Epoch 63, Validation Loss 0.5315545797348022\n",
      "Epoch 64, Training Loss 0.473\n",
      "Epoch 64, Validation Loss 0.5318103432655334\n",
      "Epoch 65, Training Loss 0.46\n",
      "Saving a new best model\n",
      "Epoch 65, Validation Loss 0.5228791832923889\n",
      "Epoch 66, Training Loss 0.453\n",
      "Saving a new best model\n",
      "Epoch 66, Validation Loss 0.520751953125\n",
      "Epoch 67, Training Loss 0.45\n",
      "Saving a new best model\n",
      "Epoch 67, Validation Loss 0.5143024921417236\n",
      "Epoch 68, Training Loss 0.446\n",
      "Epoch 68, Validation Loss 0.5156760811805725\n",
      "Epoch 69, Training Loss 0.446\n",
      "Epoch 69, Validation Loss 0.5167182087898254\n",
      "Epoch 70, Training Loss 0.444\n",
      "Epoch 70, Validation Loss 0.5200437307357788\n",
      "Epoch 71, Training Loss 0.441\n",
      "Saving a new best model\n",
      "Epoch 71, Validation Loss 0.51399827003479\n",
      "Epoch 72, Training Loss 0.439\n",
      "Epoch 72, Validation Loss 0.5196148157119751\n",
      "Epoch 73, Training Loss 0.438\n",
      "Epoch 73, Validation Loss 0.5187219977378845\n",
      "Epoch 74, Training Loss 0.434\n",
      "Epoch 74, Validation Loss 0.5216242671012878\n",
      "Epoch 75, Training Loss 0.435\n",
      "Epoch 75, Validation Loss 0.5175811648368835\n",
      "Epoch 76, Training Loss 0.433\n",
      "Saving a new best model\n",
      "Epoch 76, Validation Loss 0.5122350454330444\n",
      "Epoch 77, Training Loss 0.432\n",
      "Epoch 77, Validation Loss 0.5170437097549438\n",
      "Epoch 78, Training Loss 0.43\n",
      "Epoch 78, Validation Loss 0.5143292546272278\n",
      "Epoch 79, Training Loss 0.428\n",
      "Saving a new best model\n",
      "Epoch 79, Validation Loss 0.5089020729064941\n",
      "Epoch 80, Training Loss 0.426\n",
      "Epoch 80, Validation Loss 0.5184783935546875\n",
      "Epoch 81, Training Loss 0.426\n",
      "Epoch 81, Validation Loss 0.5148842334747314\n",
      "Epoch 82, Training Loss 0.424\n",
      "Epoch 82, Validation Loss 0.5130276083946228\n",
      "Epoch 83, Training Loss 0.424\n",
      "Epoch 83, Validation Loss 0.5092211961746216\n",
      "Epoch 84, Training Loss 0.422\n",
      "Epoch 84, Validation Loss 0.5117883682250977\n",
      "Epoch 85, Training Loss 0.419\n",
      "Epoch 85, Validation Loss 0.5113712549209595\n",
      "Epoch 86, Training Loss 0.411\n",
      "Saving a new best model\n",
      "Epoch 86, Validation Loss 0.5063843131065369\n",
      "Epoch 87, Training Loss 0.407\n",
      "Saving a new best model\n",
      "Epoch 87, Validation Loss 0.5011193752288818\n",
      "Epoch 88, Training Loss 0.408\n",
      "Epoch 88, Validation Loss 0.5043779015541077\n",
      "Epoch 89, Training Loss 0.406\n",
      "Epoch 89, Validation Loss 0.5027792453765869\n",
      "Epoch 90, Training Loss 0.406\n",
      "Saving a new best model\n",
      "Epoch 90, Validation Loss 0.5006172060966492\n",
      "Epoch 91, Training Loss 0.403\n",
      "Epoch 91, Validation Loss 0.5012857913970947\n",
      "Epoch 92, Training Loss 0.401\n",
      "Epoch 92, Validation Loss 0.5040642619132996\n",
      "Epoch 93, Training Loss 0.401\n",
      "Saving a new best model\n",
      "Epoch 93, Validation Loss 0.4989309012889862\n",
      "Epoch 94, Training Loss 0.397\n",
      "Epoch 94, Validation Loss 0.5052384734153748\n",
      "Epoch 95, Training Loss 0.397\n",
      "Epoch 95, Validation Loss 0.5021915435791016\n",
      "Epoch 96, Training Loss 0.397\n",
      "Epoch 96, Validation Loss 0.5019049048423767\n",
      "Epoch 97, Training Loss 0.396\n",
      "Saving a new best model\n",
      "Epoch 97, Validation Loss 0.4988578259944916\n",
      "Epoch 98, Training Loss 0.396\n",
      "Epoch 98, Validation Loss 0.5032715201377869\n",
      "Epoch 99, Training Loss 0.392\n",
      "Epoch 99, Validation Loss 0.5011991858482361\n"
     ]
    }
   ],
   "source": [
    "epochs =100\n",
    "\n",
    "best_valid_loss = 1000000000\n",
    "for epoch in range(epochs):\n",
    "    model.train()\n",
    "    train_loss = 0\n",
    "    for i, (x, y) in enumerate(my_training_loader):\n",
    "        optimizer.zero_grad()\n",
    "        y_pred = model(x)\n",
    "        loss = mae_loss_function(y_pred, y)\n",
    "        train_loss += loss.item()\n",
    "        before_update = {name: param.clone().detach() for name, param in model.named_parameters()}\n",
    "        loss.backward()\n",
    "        # for name, param in model.named_parameters():\n",
    "        #     if param.grad is not None and torch.all(param.grad == 0):\n",
    "        #         print(f\"All-zero gradient for {name}\")\n",
    "        optimizer.step()\n",
    "\n",
    "        # for name, param in model.named_parameters():\n",
    "        #     if torch.equal(before_update[name], param):\n",
    "        #         print(f\"No update for {name}\")\n",
    "        # if i % 10000 == 0:\n",
    "    train_loss /= len(my_training_loader)\n",
    "    print(f'Epoch {epoch}, Training Loss {round((train_loss),3)}')\n",
    "\n",
    "\n",
    "\n",
    "\n",
    "    model.eval()\n",
    "\n",
    "    valid_preds = []\n",
    "    valid_labels = []\n",
    "    with torch.no_grad():\n",
    "        for i, (x, y) in enumerate(valid_dataloader):\n",
    "            y_pred = model(x)\n",
    "            valid_preds.append(y_pred)\n",
    "            # valid_preds.append(y_pred.detach().cpu())\n",
    "            valid_labels.append(y)\n",
    "    valid_preds = torch.cat(valid_preds)\n",
    "    valid_labels = torch.cat(valid_labels)\n",
    "    valid_loss = mae_loss_function(valid_preds, valid_labels)\n",
    "\n",
    "    if valid_loss < best_valid_loss:\n",
    "        best_valid_loss = valid_loss\n",
    "        torch.save(model.state_dict(), './AG_checkpoints/best_model_scibert.pth')\n",
    "        print(\"Saving a new best model\")\n",
    "    scheduler.step(best_valid_loss)\n",
    "    print(f'Epoch {epoch}, Validation Loss {valid_loss.item()}')"
   ]
  },
  {
   "cell_type": "code",
   "execution_count": 22,
   "metadata": {
    "colab": {
     "base_uri": "https://localhost:8080/"
    },
    "executionInfo": {
     "elapsed": 196,
     "status": "ok",
     "timestamp": 1741730807183,
     "user": {
      "displayName": "Alexis Geslin",
      "userId": "05368027719046732967"
     },
     "user_tz": 420
    },
    "id": "WASKGkmECEMQ",
    "outputId": "f6522380-983c-4368-e3e6-eff5ad94ff5a"
   },
   "outputs": [
    {
     "name": "stdout",
     "output_type": "stream",
     "text": [
      "initialized Linear(in_features=768, out_features=512, bias=True)\n",
      "initialized Linear(in_features=512, out_features=256, bias=True)\n",
      "initialized Linear(in_features=256, out_features=128, bias=True)\n",
      "initialized Linear(in_features=128, out_features=64, bias=True)\n",
      "initialized Linear(in_features=64, out_features=8, bias=True)\n",
      "initialized Linear(in_features=8, out_features=1, bias=True)\n",
      "Test Loss 0.5062068104743958\n"
     ]
    },
    {
     "name": "stderr",
     "output_type": "stream",
     "text": [
      "<ipython-input-22-23813a21b1ea>:3: FutureWarning: You are using `torch.load` with `weights_only=False` (the current default value), which uses the default pickle module implicitly. It is possible to construct malicious pickle data which will execute arbitrary code during unpickling (See https://github.com/pytorch/pytorch/blob/main/SECURITY.md#untrusted-models for more details). In a future release, the default value for `weights_only` will be flipped to `True`. This limits the functions that could be executed during unpickling. Arbitrary objects will no longer be allowed to be loaded via this mode unless they are explicitly allowlisted by the user via `torch.serialization.add_safe_globals`. We recommend you start setting `weights_only=True` for any use case where you don't have full control of the loaded file. Please open an issue on GitHub for any issues related to this experimental feature.\n",
      "  best_model.load_state_dict(torch.load('./AG_checkpoints/best_model_scibert.pth'))\n"
     ]
    }
   ],
   "source": [
    "best_model = perceptronHead4(dim_embeddings)\n",
    "best_model.to(device)\n",
    "best_model.load_state_dict(torch.load('./AG_checkpoints/best_model_scibert.pth'))\n",
    "# best_model = model\n",
    "\n",
    "best_model.eval()\n",
    "with torch.no_grad():\n",
    "    test_preds = []\n",
    "    test_labels = []\n",
    "    for i, (x, y) in enumerate(test_dataloader):\n",
    "        y_pred = best_model(x)\n",
    "        test_preds.append(y_pred)\n",
    "        test_labels.append(y)\n",
    "    test_preds = torch.cat(test_preds)\n",
    "    test_labels = torch.cat(test_labels)\n",
    "    test_loss = mae_loss_function(test_preds, test_labels)\n",
    "    print(f'Test Loss {test_loss.item()}')"
   ]
  },
  {
   "cell_type": "code",
   "execution_count": null,
   "metadata": {
    "colab": {
     "base_uri": "https://localhost:8080/"
    },
    "executionInfo": {
     "elapsed": 40,
     "status": "ok",
     "timestamp": 1741647741175,
     "user": {
      "displayName": "Alexis Geslin",
      "userId": "05368027719046732967"
     },
     "user_tz": 420
    },
    "id": "FNd8pkfGH34B",
    "outputId": "4d4f3abd-a3fd-4831-ee92-da4175a443fd"
   },
   "outputs": [
    {
     "name": "stdout",
     "output_type": "stream",
     "text": [
      "Device for best_model and x: cuda\n"
     ]
    }
   ],
   "source": [
    "# prompt: # get the device best_model and x are on\n",
    "\n",
    "print(f\"Device for best_model and x: {device}\")\n"
   ]
  },
  {
   "cell_type": "code",
   "execution_count": null,
   "metadata": {
    "colab": {
     "base_uri": "https://localhost:8080/"
    },
    "executionInfo": {
     "elapsed": 3,
     "status": "ok",
     "timestamp": 1741647791726,
     "user": {
      "displayName": "Alexis Geslin",
      "userId": "05368027719046732967"
     },
     "user_tz": 420
    },
    "id": "bf828vtvS-te",
    "outputId": "69459d8d-2eff-4866-91f0-ee84887de5c1"
   },
   "outputs": [
    {
     "name": "stdout",
     "output_type": "stream",
     "text": [
      "cuda:0\n"
     ]
    }
   ],
   "source": [
    "print(next(best_model.parameters()).device)"
   ]
  },
  {
   "cell_type": "markdown",
   "metadata": {
    "id": "Jo5l6TeUH4X5"
   },
   "source": [
    "Training with scheduler, for 200 epochs,  lr=0.01)\n",
    "scheduler = optim.lr_scheduler.ReduceLROnPlateau(optimizer, mode='min', factor=0.5, patience=5, verbose=True)"
   ]
  },
  {
   "cell_type": "markdown",
   "metadata": {
    "id": "eAeI3IVcXFmU"
   },
   "source": [
    "### TESTING BEST MODEL"
   ]
  },
  {
   "cell_type": "code",
   "execution_count": 11,
   "metadata": {
    "colab": {
     "base_uri": "https://localhost:8080/"
    },
    "executionInfo": {
     "elapsed": 1380,
     "status": "ok",
     "timestamp": 1741737302234,
     "user": {
      "displayName": "Alexis Geslin",
      "userId": "05368027719046732967"
     },
     "user_tz": 420
    },
    "id": "WgPsg-omXIMB",
    "outputId": "ebce7f82-f26a-4c89-9d00-24baead27bfe"
   },
   "outputs": [
    {
     "name": "stdout",
     "output_type": "stream",
     "text": [
      "initialized Linear(in_features=768, out_features=512, bias=True)\n",
      "initialized Linear(in_features=512, out_features=128, bias=True)\n",
      "initialized Linear(in_features=128, out_features=64, bias=True)\n",
      "initialized Linear(in_features=64, out_features=1, bias=True)\n"
     ]
    },
    {
     "name": "stderr",
     "output_type": "stream",
     "text": [
      "<ipython-input-11-17222803f63f>:4: FutureWarning: You are using `torch.load` with `weights_only=False` (the current default value), which uses the default pickle module implicitly. It is possible to construct malicious pickle data which will execute arbitrary code during unpickling (See https://github.com/pytorch/pytorch/blob/main/SECURITY.md#untrusted-models for more details). In a future release, the default value for `weights_only` will be flipped to `True`. This limits the functions that could be executed during unpickling. Arbitrary objects will no longer be allowed to be loaded via this mode unless they are explicitly allowlisted by the user via `torch.serialization.add_safe_globals`. We recommend you start setting `weights_only=True` for any use case where you don't have full control of the loaded file. Please open an issue on GitHub for any issues related to this experimental feature.\n",
      "  best_model.load_state_dict(torch.load(f'./AG_checkpoints/best_model_011_scibert.pth'))\n"
     ]
    },
    {
     "name": "stdout",
     "output_type": "stream",
     "text": [
      "Training Loss 0.416\n",
      "Validation Loss 0.493\n",
      "Test Loss 0.504\n"
     ]
    }
   ],
   "source": [
    "#model loading\n",
    "best_model = perceptronHead3(dim_embeddings)\n",
    "best_model.to(device)\n",
    "best_model.load_state_dict(torch.load(f'./AG_checkpoints/best_model_011_scibert.pth'))\n",
    "# best_model.load_state_dict(torch.load(f'./AG_checkpoints/best_model_scibert.pth'))\n",
    "\n",
    "\n",
    "best_model.train()\n",
    "#train\n",
    "with torch.no_grad():\n",
    "    train_preds = []\n",
    "    train_labels = []\n",
    "    for i, (x, y) in enumerate(train_dataloader):\n",
    "        y_pred = best_model(x)\n",
    "        train_preds.append(y_pred)\n",
    "        train_labels.append(y)\n",
    "    train_preds = torch.cat(train_preds)\n",
    "    train_labels = torch.cat(train_labels)\n",
    "    train_loss = mae_loss_function(train_preds, train_labels)\n",
    "    print(f'Training Loss {round(train_loss.item(),3)}')\n",
    "\n",
    "#valid\n",
    "best_model.eval()\n",
    "with torch.no_grad():\n",
    "    valid_preds = []\n",
    "    valid_labels = []\n",
    "    for i, (x, y) in enumerate(valid_dataloader):\n",
    "        y_pred = best_model(x)\n",
    "        valid_preds.append(y_pred)\n",
    "        valid_labels.append(y)\n",
    "    valid_preds = torch.cat(valid_preds)\n",
    "    valid_labels = torch.cat(valid_labels)\n",
    "    valid_loss = mae_loss_function(valid_preds, valid_labels)\n",
    "    print(f'Validation Loss {round(valid_loss.item(),3)}')\n",
    "\n",
    "#train\n",
    "with torch.no_grad():\n",
    "    test_preds = []\n",
    "    test_labels = []\n",
    "    for i, (x, y) in enumerate(test_dataloader):\n",
    "        y_pred = best_model(x)\n",
    "        test_preds.append(y_pred)\n",
    "        test_labels.append(y)\n",
    "    test_preds = torch.cat(test_preds)\n",
    "    test_labels = torch.cat(test_labels)\n",
    "    test_loss = mae_loss_function(test_preds, test_labels)\n",
    "    print(f'Test Loss {round(test_loss.item(),3)}')"
   ]
  },
  {
   "cell_type": "markdown",
   "metadata": {
    "id": "ykDnQaF3Cr87"
   },
   "source": [
    "TESTING"
   ]
  },
  {
   "cell_type": "code",
   "execution_count": null,
   "metadata": {
    "id": "P1ped6-bCEIe"
   },
   "outputs": [],
   "source": [
    "best_model = myDualmodel2(dim_embeddings,dim_numerical)\n",
    "best_model.to(device)\n",
    "\n",
    "best_model.load_state_dict(torch.load('./AG_checkpoints/best_model.pth'))\n",
    "model.eval()\n",
    "with torch.no_grad():\n",
    "    test_preds = []\n",
    "    test_labels = []\n",
    "    for i, (x, y) in enumerate(test_dataloader):\n",
    "        y_pred = best_model(x[:,:dim_embeddings], x[:,dim_embeddings:])\n",
    "        test_preds.append(y_pred)\n",
    "        test_labels.append(y)\n",
    "    test_preds = torch.cat(test_preds)\n",
    "    test_labels = torch.cat(test_labels)\n",
    "    test_loss = mae_loss_function(test_preds, test_labels)\n",
    "    print(f'Test Loss {test_loss.item()}')"
   ]
  },
  {
   "cell_type": "code",
   "execution_count": null,
   "metadata": {
    "colab": {
     "base_uri": "https://localhost:8080/"
    },
    "executionInfo": {
     "elapsed": 27232,
     "status": "ok",
     "timestamp": 1741326726326,
     "user": {
      "displayName": "Alexis Geslin",
      "userId": "05368027719046732967"
     },
     "user_tz": 480
    },
    "id": "XQMnEQhIytFV",
    "outputId": "5fa5e6fa-12f6-4d81-81b1-c7e91929f295"
   },
   "outputs": [
    {
     "name": "stdout",
     "output_type": "stream",
     "text": [
      "Epoch 0, Training Loss 0.3552802801132202\n",
      "Epoch 0, Validation Loss 0.35032400488853455\n",
      "Epoch 1, Training Loss 0.23885880410671234\n",
      "Epoch 1, Validation Loss 0.34637391567230225\n",
      "Epoch 2, Training Loss 0.23440074920654297\n",
      "Epoch 2, Validation Loss 0.3513180911540985\n",
      "Epoch 3, Training Loss 0.1513446867465973\n",
      "Epoch 3, Validation Loss 0.34749555587768555\n",
      "Epoch 4, Training Loss 0.19549678266048431\n",
      "Epoch 4, Validation Loss 0.3530590236186981\n",
      "Epoch 5, Training Loss 0.24011489748954773\n",
      "Epoch 5, Validation Loss 0.35078033804893494\n",
      "Epoch 6, Training Loss 0.39733004570007324\n",
      "Epoch 6, Validation Loss 0.3494114279747009\n",
      "Epoch 7, Training Loss 0.4102326035499573\n",
      "Epoch 7, Validation Loss 0.3571268916130066\n",
      "Epoch 8, Training Loss 0.2927051782608032\n",
      "Epoch 8, Validation Loss 0.3475220203399658\n",
      "Epoch 9, Training Loss 0.23760411143302917\n",
      "Epoch 9, Validation Loss 0.3474278450012207\n",
      "Epoch 10, Training Loss 0.2625439763069153\n",
      "Epoch 10, Validation Loss 0.34945937991142273\n",
      "Epoch 11, Training Loss 0.3050870895385742\n",
      "Epoch 11, Validation Loss 0.3476428687572479\n",
      "Epoch 12, Training Loss 0.3752169609069824\n",
      "Epoch 12, Validation Loss 0.34953105449676514\n",
      "Epoch 13, Training Loss 0.29223644733428955\n",
      "Epoch 13, Validation Loss 0.3480381965637207\n",
      "Epoch 14, Training Loss 0.2813258767127991\n",
      "Epoch 14, Validation Loss 0.34851160645484924\n",
      "Epoch 15, Training Loss 0.25933000445365906\n",
      "Epoch 15, Validation Loss 0.3480754792690277\n",
      "Epoch 16, Training Loss 0.2877857983112335\n",
      "Epoch 16, Validation Loss 0.3478112518787384\n",
      "Epoch 17, Training Loss 0.33500877022743225\n",
      "Epoch 17, Validation Loss 0.3475739657878876\n",
      "Epoch 18, Training Loss 0.21921253204345703\n",
      "Epoch 18, Validation Loss 0.3487531542778015\n",
      "Epoch 19, Training Loss 0.19997385144233704\n",
      "Epoch 19, Validation Loss 0.34744107723236084\n",
      "Epoch 20, Training Loss 0.33826208114624023\n",
      "Epoch 20, Validation Loss 0.3474356532096863\n",
      "Epoch 21, Training Loss 0.35898154973983765\n",
      "Epoch 21, Validation Loss 0.3472180664539337\n",
      "Epoch 22, Training Loss 0.3163658678531647\n",
      "Epoch 22, Validation Loss 0.3472532629966736\n",
      "Epoch 23, Training Loss 0.3508707284927368\n",
      "Epoch 23, Validation Loss 0.34708696603775024\n",
      "Epoch 24, Training Loss 0.37247830629348755\n",
      "Epoch 24, Validation Loss 0.3478226363658905\n"
     ]
    }
   ],
   "source": [
    "###OLD TRAINING\n",
    "\n",
    "optimizer = optim.Adam(model.parameters(), lr=0.00015,weight_decay=0.01)\n",
    "# optimizer = optim.Adam(model.parameters(), lr=0.000015)\n",
    "scheduler = optim.lr_scheduler.ReduceLROnPlateau(optimizer, mode='min', factor=0.5, patience=5, verbose=True)\n",
    "epochs = 25\n",
    "my_training_loader = train_dataloader_mini\n",
    "\n",
    "for epoch in range(epochs):\n",
    "    model.train()\n",
    "    train_loss = 0\n",
    "    for i, (x, y) in enumerate(my_training_loader):\n",
    "        optimizer.zero_grad()\n",
    "        y_pred = model(x[:,:dim_embeddings], x[:,dim_embeddings:])\n",
    "        loss = mae_loss_function(y_pred, y)\n",
    "        train_loss += loss.item()\n",
    "        loss.backward()\n",
    "        optimizer.step()\n",
    "        # if i % 10000 == 0:\n",
    "    train_loss /= len(my_training_loader)\n",
    "    print(f'Epoch {epoch}, Training Loss {loss.item()}')\n",
    "\n",
    "    model.eval()\n",
    "    valid_preds = []\n",
    "    valid_labels = []\n",
    "    with torch.no_grad():\n",
    "        for i, (x, y) in enumerate(valid_dataloader):\n",
    "            y_pred = model(x[:,:dim_embeddings], x[:,dim_embeddings:])\n",
    "            valid_preds.append(y_pred)\n",
    "            valid_labels.append(y)\n",
    "    valid_preds = torch.cat(valid_preds)\n",
    "    valid_labels = torch.cat(valid_labels)\n",
    "    valid_loss = mae_loss_function(valid_preds, valid_labels)\n",
    "    scheduler.step(valid_loss)\n",
    "    if valid_loss < best_valid_loss:\n",
    "        best_valid_loss = valid_loss\n",
    "        torch.save(model.state_dict(), './AG_checkpoints/best_model.pth')\n",
    "        print(\"Saving a new best model\")\n",
    "    print(f'Epoch {epoch}, Validation Loss {valid_loss.item()}')\n"
   ]
  },
  {
   "cell_type": "code",
   "execution_count": null,
   "metadata": {
    "colab": {
     "base_uri": "https://localhost:8080/"
    },
    "executionInfo": {
     "elapsed": 329,
     "status": "ok",
     "timestamp": 1741326757701,
     "user": {
      "displayName": "Alexis Geslin",
      "userId": "05368027719046732967"
     },
     "user_tz": 480
    },
    "id": "hb6i6qWfytC8",
    "outputId": "27967c69-764b-4b67-d874-8499615e168b"
   },
   "outputs": [
    {
     "name": "stderr",
     "output_type": "stream",
     "text": [
      "<ipython-input-126-99bf5f4bbf31>:4: FutureWarning: You are using `torch.load` with `weights_only=False` (the current default value), which uses the default pickle module implicitly. It is possible to construct malicious pickle data which will execute arbitrary code during unpickling (See https://github.com/pytorch/pytorch/blob/main/SECURITY.md#untrusted-models for more details). In a future release, the default value for `weights_only` will be flipped to `True`. This limits the functions that could be executed during unpickling. Arbitrary objects will no longer be allowed to be loaded via this mode unless they are explicitly allowlisted by the user via `torch.serialization.add_safe_globals`. We recommend you start setting `weights_only=True` for any use case where you don't have full control of the loaded file. Please open an issue on GitHub for any issues related to this experimental feature.\n",
      "  best_model.load_state_dict(torch.load('./AG_checkpoints/best_model.pth'))\n"
     ]
    },
    {
     "name": "stdout",
     "output_type": "stream",
     "text": [
      "Test Loss 0.49804964661598206\n"
     ]
    }
   ],
   "source": []
  },
  {
   "cell_type": "code",
   "execution_count": null,
   "metadata": {
    "id": "GvUCyt1Uys9e"
   },
   "outputs": [],
   "source": []
  },
  {
   "cell_type": "code",
   "execution_count": null,
   "metadata": {
    "id": "tUlafEH0ys6o"
   },
   "outputs": [],
   "source": []
  },
  {
   "cell_type": "code",
   "execution_count": null,
   "metadata": {
    "id": "MIKT2FWHys4A"
   },
   "outputs": [],
   "source": []
  },
  {
   "cell_type": "code",
   "execution_count": null,
   "metadata": {
    "id": "3c14RQJoys1b"
   },
   "outputs": [],
   "source": []
  },
  {
   "cell_type": "code",
   "execution_count": null,
   "metadata": {
    "id": "HrYysqgkysvJ"
   },
   "outputs": [],
   "source": []
  },
  {
   "cell_type": "code",
   "execution_count": null,
   "metadata": {
    "id": "i-nPoH4Pysgk"
   },
   "outputs": [],
   "source": []
  }
 ],
 "metadata": {
  "accelerator": "GPU",
  "colab": {
   "authorship_tag": "ABX9TyN0u2GdxT1xjwbJGV9KywHx",
   "gpuType": "T4",
   "machine_shape": "hm",
   "provenance": []
  },
  "kernelspec": {
   "display_name": "Python 3",
   "name": "python3"
  },
  "language_info": {
   "name": "python"
  }
 },
 "nbformat": 4,
 "nbformat_minor": 0
}
