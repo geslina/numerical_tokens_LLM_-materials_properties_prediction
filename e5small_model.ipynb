{
 "cells": [
  {
   "cell_type": "markdown",
   "metadata": {},
   "source": [
    "#### Author: Alexis Geslin"
   ]
  },
  {
   "cell_type": "code",
   "execution_count": 1,
   "metadata": {
    "executionInfo": {
     "elapsed": 4268,
     "status": "ok",
     "timestamp": 1741737055879,
     "user": {
      "displayName": "Alexis Geslin",
      "userId": "05368027719046732967"
     },
     "user_tz": 420
    },
    "id": "uTikNgInxK28"
   },
   "outputs": [],
   "source": [
    "import re\n",
    "import time\n",
    "import glob\n",
    "import pandas as pd\n",
    "import numpy as np\n",
    "import argparse\n",
    "from statistics import stdev\n",
    "import matplotlib.pyplot as plt\n",
    "\n",
    "import torch\n",
    "import torch.nn as nn\n",
    "import torch.optim as optim\n",
    "from torch.utils.data import DataLoader, Dataset"
   ]
  },
  {
   "cell_type": "code",
   "execution_count": 2,
   "metadata": {
    "colab": {
     "base_uri": "https://localhost:8080/"
    },
    "executionInfo": {
     "elapsed": 17609,
     "status": "ok",
     "timestamp": 1741737073490,
     "user": {
      "displayName": "Alexis Geslin",
      "userId": "05368027719046732967"
     },
     "user_tz": 420
    },
    "id": "JoUFIvSxxRAn",
    "outputId": "9bd66f07-4aec-4aa0-e2fc-8716802ec4fc"
   },
   "outputs": [
    {
     "name": "stdout",
     "output_type": "stream",
     "text": [
      "Mounted at /content/drive\n"
     ]
    }
   ],
   "source": [
    "from google.colab import drive\n",
    "drive.mount('/content/drive')"
   ]
  },
  {
   "cell_type": "code",
   "execution_count": 3,
   "metadata": {
    "colab": {
     "base_uri": "https://localhost:8080/"
    },
    "executionInfo": {
     "elapsed": 1105,
     "status": "ok",
     "timestamp": 1741737074596,
     "user": {
      "displayName": "Alexis Geslin",
      "userId": "05368027719046732967"
     },
     "user_tz": 420
    },
    "id": "kxjSCeMxxqGc",
    "outputId": "8179a3d2-916e-4b0f-d904-288b9e87139a"
   },
   "outputs": [
    {
     "name": "stdout",
     "output_type": "stream",
     "text": [
      "/content/drive/MyDrive/cours/cs224n/project/LLM-Prop\n"
     ]
    }
   ],
   "source": [
    "%cd drive/MyDrive/cours/cs224n/project/LLM-Prop/\n"
   ]
  },
  {
   "cell_type": "code",
   "execution_count": 4,
   "metadata": {
    "colab": {
     "base_uri": "https://localhost:8080/"
    },
    "executionInfo": {
     "elapsed": 285,
     "status": "ok",
     "timestamp": 1741737074884,
     "user": {
      "displayName": "Alexis Geslin",
      "userId": "05368027719046732967"
     },
     "user_tz": 420
    },
    "id": "WPW9SCD0xxh3",
    "outputId": "434c002a-e6e4-4439-b8b4-a2ad81b610e9"
   },
   "outputs": [
    {
     "name": "stdout",
     "output_type": "stream",
     "text": [
      "--------------------\n",
      "I have 1 devices, currently on 0\n",
      "--------------------\n"
     ]
    }
   ],
   "source": [
    "if torch.cuda.is_available():\n",
    "    device = torch.device(\"cuda\")\n",
    "    print('-'*20)\n",
    "    print(f'I have {torch.cuda.device_count()} devices, currently on {torch.cuda.current_device()}')\n",
    "    print('-'*20)\n",
    "else:\n",
    "    print('-'*20)\n",
    "    print(\"You are running on CPU only\")\n",
    "    print('-'*20)\n",
    "    device = torch.device(\"cpu\")"
   ]
  },
  {
   "cell_type": "code",
   "execution_count": 5,
   "metadata": {
    "executionInfo": {
     "elapsed": 15681,
     "status": "ok",
     "timestamp": 1741737090566,
     "user": {
      "displayName": "Alexis Geslin",
      "userId": "05368027719046732967"
     },
     "user_tz": 420
    },
    "id": "Fgue-5Hxx0vZ"
   },
   "outputs": [],
   "source": [
    "train_labels_data = pd.read_csv(f'./embeddings/pred_labels_train_train15000_200epoch_125098.csv')\n",
    "valid_labels_data = pd.read_csv(f'./embeddings/pred_labels_valid_train15000_200epoch_9945.csv')\n",
    "test_labels_data = pd.read_csv(f'./embeddings/pred_labels_test_train15000_200epoch_11531.csv')\n",
    "\n",
    "train_embeddings  = pd.read_csv(f'./embeddings/e5small_train_125098.csv', header=None)\n",
    "valid_embeddings  = pd.read_csv(f'./embeddings/e5small_valid_9945.csv', header=None)\n",
    "test_embeddings  = pd.read_csv(f'./embeddings/e5small_test_11531.csv', header=None)\n"
   ]
  },
  {
   "cell_type": "code",
   "execution_count": 6,
   "metadata": {
    "colab": {
     "base_uri": "https://localhost:8080/"
    },
    "executionInfo": {
     "elapsed": 383,
     "status": "ok",
     "timestamp": 1741737123637,
     "user": {
      "displayName": "Alexis Geslin",
      "userId": "05368027719046732967"
     },
     "user_tz": 420
    },
    "id": "tCUP6xFoBgiM",
    "outputId": "2a1f23bd-8375-4080-e3bb-09a7860f499c"
   },
   "outputs": [
    {
     "name": "stdout",
     "output_type": "stream",
     "text": [
      "torch.Size([125098, 384]) torch.Size([125098, 1]) cuda:0 cuda:0\n",
      "torch.Size([9945, 384]) torch.Size([9945, 1]) cuda:0 cuda:0\n",
      "torch.Size([11531, 384]) torch.Size([11531, 1]) cuda:0 cuda:0\n"
     ]
    }
   ],
   "source": [
    "#concat embeddings and numerical tokens and make it a tensor\n",
    "X_train = torch.tensor(train_embeddings.values).float().to(device)\n",
    "X_valid = torch.tensor(valid_embeddings.values).float().to(device)\n",
    "X_test = torch.tensor(test_embeddings.values).float().to(device)\n",
    "\n",
    "\n",
    "Y_train = torch.tensor(train_labels_data.label.values).float().reshape(-1,1).to(device)\n",
    "Y_valid = torch.tensor(valid_labels_data.label.values).float().reshape(-1,1).to(device)\n",
    "Y_test = torch.tensor(test_labels_data.label.values).float().reshape(-1,1).to(device)\n",
    "\n",
    "#print shapes\n",
    "print(X_train.shape, Y_train.shape,X_train.device,Y_train.device)\n",
    "print(X_valid.shape, Y_valid.shape,X_valid.device,Y_valid.device)\n",
    "print(X_test.shape, Y_test.shape,X_test.device,Y_test.device)"
   ]
  },
  {
   "cell_type": "code",
   "execution_count": 7,
   "metadata": {
    "executionInfo": {
     "elapsed": 7,
     "status": "ok",
     "timestamp": 1741737125923,
     "user": {
      "displayName": "Alexis Geslin",
      "userId": "05368027719046732967"
     },
     "user_tz": 420
    },
    "id": "metr3R6-ytNG"
   },
   "outputs": [],
   "source": [
    "dim_embeddings = train_embeddings.shape[1]\n",
    "mae_loss_function = nn.L1Loss()\n",
    "mseloss = nn.MSELoss()\n"
   ]
  },
  {
   "cell_type": "code",
   "execution_count": 8,
   "metadata": {
    "colab": {
     "base_uri": "https://localhost:8080/"
    },
    "executionInfo": {
     "elapsed": 28,
     "status": "ok",
     "timestamp": 1741737126809,
     "user": {
      "displayName": "Alexis Geslin",
      "userId": "05368027719046732967"
     },
     "user_tz": 420
    },
    "id": "9x2LCJBiytKy",
    "outputId": "f7ab4e26-6317-4a0b-cada-de1c88a057aa"
   },
   "outputs": [
    {
     "name": "stdout",
     "output_type": "stream",
     "text": [
      "256\n"
     ]
    }
   ],
   "source": [
    "X_train_mini = X_train[:15000]\n",
    "Y_train_mini = Y_train[:15000]\n",
    "bs = 256 if torch.cuda.is_available() else 32\n",
    "print(bs)\n",
    "\n",
    "train_dataset = torch.utils.data.TensorDataset(X_train, Y_train)\n",
    "train_dataset_mini = torch.utils.data.TensorDataset(X_train_mini, Y_train_mini)\n",
    "valid_dataset = torch.utils.data.TensorDataset(X_valid, Y_valid)\n",
    "test_dataset = torch.utils.data.TensorDataset(X_test, Y_test)\n",
    "\n",
    "train_dataloader = torch.utils.data.DataLoader(train_dataset, batch_size=bs, shuffle=False)\n",
    "train_dataloader_mini = torch.utils.data.DataLoader(train_dataset_mini, batch_size=bs, shuffle=False)\n",
    "valid_dataloader = torch.utils.data.DataLoader(valid_dataset, batch_size=bs, shuffle=False)\n",
    "test_dataloader = torch.utils.data.DataLoader(test_dataset, batch_size=bs, shuffle=False)"
   ]
  },
  {
   "cell_type": "code",
   "execution_count": 9,
   "metadata": {
    "executionInfo": {
     "elapsed": 20,
     "status": "ok",
     "timestamp": 1741737128855,
     "user": {
      "displayName": "Alexis Geslin",
      "userId": "05368027719046732967"
     },
     "user_tz": 420
    },
    "id": "N0g_HPzpBqn1"
   },
   "outputs": [],
   "source": [
    "class perceptronHead(nn.Module):\n",
    "    def __init__(self, embeddings_dim,mydroprate = 0.1):\n",
    "        super(perceptronHead, self).__init__()\n",
    "\n",
    "        self.MLP_embedding = nn.Sequential(\n",
    "            nn.Dropout(mydroprate),\n",
    "            nn.Linear(embeddings_dim, 8),\n",
    "            nn.ReLU(),\n",
    "            nn.Linear(8, 1)\n",
    "        )\n",
    "        # initialize weights with Kaiming\n",
    "        for m in self.MLP_embedding:\n",
    "            if isinstance(m, nn.Linear):\n",
    "                nn.init.kaiming_normal_(m.weight)\n",
    "                print(f'initialized {m}')\n",
    "\n",
    "\n",
    "\n",
    "    def forward(self, X):\n",
    "        x_out = self.MLP_embedding(X)\n",
    "        return x_out\n",
    "\n",
    "def init_weights(m):\n",
    "    if isinstance(m, torch.nn.Linear):\n",
    "        torch.nn.init.kaiming_uniform_(m.weight, nonlinearity='relu')\n",
    "        if m.bias is not None:\n",
    "            torch.nn.init.zeros_(m.bias)\n",
    "\n",
    "class perceptronHead2(nn.Module):\n",
    "    def __init__(self, embeddings_dim,mydroprate = 0.1):\n",
    "        super(perceptronHead2, self).__init__()\n",
    "\n",
    "        self.MLP_embedding = nn.Sequential(\n",
    "            nn.Dropout(mydroprate),\n",
    "            nn.Linear(embeddings_dim, 64),\n",
    "            nn.ReLU(),\n",
    "            nn.Linear(64, 8),\n",
    "            nn.ReLU(),\n",
    "            nn.Linear(8, 1)\n",
    "        )\n",
    "        # initialize weights with Kaiming\n",
    "        for m in self.MLP_embedding:\n",
    "            if isinstance(m, nn.Linear):\n",
    "                nn.init.kaiming_normal_(m.weight)\n",
    "                print(f'initialized {m}')\n",
    "\n",
    "\n",
    "\n",
    "    def forward(self, X):\n",
    "        x_out = self.MLP_embedding(X)\n",
    "        return x_out\n",
    "\n",
    "class ResidualBlock(nn.Module):\n",
    "    def __init__(self, in_features):\n",
    "        super().__init__()\n",
    "        self.fc = nn.Linear(in_features, in_features)\n",
    "        self.bn = nn.BatchNorm1d(in_features)\n",
    "\n",
    "    def forward(self, x):\n",
    "        return nn.functional.relu(self.bn(self.fc(x)) + x)\n",
    "\n",
    "class perceptronHead3(nn.Module):\n",
    "    def __init__(self, embeddings_dim,mydroprate = 0.1):\n",
    "        super(perceptronHead3, self).__init__()\n",
    "\n",
    "        self.MLP_embedding = nn.Sequential(\n",
    "            nn.Dropout(mydroprate),\n",
    "            nn.Linear(embeddings_dim, 512),\n",
    "            nn.ReLU(),\n",
    "            ResidualBlock(512),\n",
    "            nn.ReLU(),\n",
    "            nn.Linear(512, 128),\n",
    "            nn.ReLU(),\n",
    "            ResidualBlock(128),\n",
    "            nn.ReLU(),\n",
    "            nn.Linear(128, 8),\n",
    "            nn.ReLU(),\n",
    "            nn.Linear(8, 1)\n",
    "            # nn.LayerNorm(1)\n",
    "        )\n",
    "        # initialize weights with Kaiming\n",
    "        for m in self.MLP_embedding:\n",
    "            if isinstance(m, nn.Linear):\n",
    "                nn.init.kaiming_normal_(m.weight)\n",
    "                print(f'initialized {m}')\n",
    "\n",
    "\n",
    "\n",
    "    def forward(self, X):\n",
    "        x_out = self.MLP_embedding(X)\n",
    "        return x_out\n",
    "\n",
    "def init_weights(m):\n",
    "    if isinstance(m, torch.nn.Linear):\n",
    "        torch.nn.init.kaiming_uniform_(m.weight, nonlinearity='relu')\n",
    "        if m.bias is not None:\n",
    "            torch.nn.init.zeros_(m.bias)"
   ]
  },
  {
   "cell_type": "code",
   "execution_count": null,
   "metadata": {
    "colab": {
     "base_uri": "https://localhost:8080/"
    },
    "executionInfo": {
     "elapsed": 3,
     "status": "ok",
     "timestamp": 1741718605169,
     "user": {
      "displayName": "Alexis Geslin",
      "userId": "05368027719046732967"
     },
     "user_tz": 420
    },
    "id": "f3cF7atQB6MT",
    "outputId": "fdf48d81-642c-429c-beaf-dfd8c459d165"
   },
   "outputs": [
    {
     "name": "stdout",
     "output_type": "stream",
     "text": [
      "initialized Linear(in_features=384, out_features=512, bias=True)\n",
      "initialized Linear(in_features=512, out_features=128, bias=True)\n",
      "initialized Linear(in_features=128, out_features=8, bias=True)\n",
      "initialized Linear(in_features=8, out_features=1, bias=True)\n"
     ]
    }
   ],
   "source": [
    "model = perceptronHead3(dim_embeddings,mydroprate=0.1)\n",
    "model.to(device)\n",
    "\n",
    "optimizer = optim.Adam(model.parameters(), lr=0.0015)\n",
    "scheduler = optim.lr_scheduler.ReduceLROnPlateau(optimizer, mode='min', factor=0.5, patience=5, verbose=True)\n",
    "my_training_loader = train_dataloader_mini\n",
    "my_training_loader = train_dataloader"
   ]
  },
  {
   "cell_type": "code",
   "execution_count": null,
   "metadata": {
    "colab": {
     "base_uri": "https://localhost:8080/"
    },
    "collapsed": true,
    "executionInfo": {
     "elapsed": 255014,
     "status": "ok",
     "timestamp": 1741719131065,
     "user": {
      "displayName": "Alexis Geslin",
      "userId": "05368027719046732967"
     },
     "user_tz": 420
    },
    "id": "oFLp4f7MCCOc",
    "outputId": "6a46a6ed-c0de-4952-84ee-cc60643d162c"
   },
   "outputs": [
    {
     "name": "stdout",
     "output_type": "stream",
     "text": [
      "Epoch 0, Training Loss 0.447\n",
      "Saving a new best model\n",
      "Epoch 0, Validation Loss 0.4691212773323059\n",
      "Epoch 1, Training Loss 0.447\n",
      "Epoch 1, Validation Loss 0.4704788625240326\n",
      "Epoch 2, Training Loss 0.445\n",
      "Epoch 2, Validation Loss 0.47003501653671265\n",
      "Epoch 3, Training Loss 0.444\n",
      "Epoch 3, Validation Loss 0.47051846981048584\n",
      "Epoch 4, Training Loss 0.447\n",
      "Epoch 4, Validation Loss 0.46941906213760376\n",
      "Epoch 5, Training Loss 0.446\n",
      "Saving a new best model\n",
      "Epoch 5, Validation Loss 0.46905431151390076\n",
      "Epoch 6, Training Loss 0.445\n",
      "Saving a new best model\n",
      "Epoch 6, Validation Loss 0.46778684854507446\n",
      "Epoch 7, Training Loss 0.445\n",
      "Epoch 7, Validation Loss 0.4691285490989685\n",
      "Epoch 8, Training Loss 0.443\n",
      "Epoch 8, Validation Loss 0.46860066056251526\n",
      "Epoch 9, Training Loss 0.445\n",
      "Epoch 9, Validation Loss 0.46857643127441406\n",
      "Epoch 10, Training Loss 0.444\n",
      "Epoch 10, Validation Loss 0.4688628315925598\n",
      "Epoch 11, Training Loss 0.447\n",
      "Epoch 11, Validation Loss 0.46888241171836853\n",
      "Epoch 12, Training Loss 0.447\n",
      "Epoch 12, Validation Loss 0.46874484419822693\n",
      "Epoch 13, Training Loss 0.442\n",
      "Epoch 13, Validation Loss 0.46894049644470215\n",
      "Epoch 14, Training Loss 0.445\n",
      "Epoch 14, Validation Loss 0.46962040662765503\n",
      "Epoch 15, Training Loss 0.445\n",
      "Epoch 15, Validation Loss 0.46998363733291626\n",
      "Epoch 16, Training Loss 0.443\n",
      "Epoch 16, Validation Loss 0.4692399203777313\n",
      "Epoch 17, Training Loss 0.444\n",
      "Epoch 17, Validation Loss 0.4686298072338104\n",
      "Epoch 18, Training Loss 0.444\n",
      "Epoch 18, Validation Loss 0.4690532386302948\n",
      "Epoch 19, Training Loss 0.443\n",
      "Epoch 19, Validation Loss 0.46881234645843506\n",
      "Epoch 20, Training Loss 0.442\n",
      "Epoch 20, Validation Loss 0.46884825825691223\n",
      "Epoch 21, Training Loss 0.443\n",
      "Epoch 21, Validation Loss 0.4693636894226074\n",
      "Epoch 22, Training Loss 0.444\n",
      "Epoch 22, Validation Loss 0.467902272939682\n",
      "Epoch 23, Training Loss 0.443\n",
      "Epoch 23, Validation Loss 0.4690427780151367\n",
      "Epoch 24, Training Loss 0.445\n",
      "Epoch 24, Validation Loss 0.46856412291526794\n",
      "Epoch 25, Training Loss 0.443\n",
      "Epoch 25, Validation Loss 0.46898066997528076\n",
      "Epoch 26, Training Loss 0.443\n",
      "Epoch 26, Validation Loss 0.46885958313941956\n",
      "Epoch 27, Training Loss 0.443\n",
      "Epoch 27, Validation Loss 0.4684808850288391\n",
      "Epoch 28, Training Loss 0.444\n",
      "Epoch 28, Validation Loss 0.4689991772174835\n",
      "Epoch 29, Training Loss 0.443\n",
      "Epoch 29, Validation Loss 0.4685298502445221\n",
      "Epoch 30, Training Loss 0.442\n",
      "Epoch 30, Validation Loss 0.4682212173938751\n",
      "Epoch 31, Training Loss 0.441\n",
      "Epoch 31, Validation Loss 0.4691268801689148\n",
      "Epoch 32, Training Loss 0.442\n",
      "Epoch 32, Validation Loss 0.46828925609588623\n",
      "Epoch 33, Training Loss 0.442\n",
      "Epoch 33, Validation Loss 0.46851855516433716\n",
      "Epoch 34, Training Loss 0.444\n",
      "Epoch 34, Validation Loss 0.4679419994354248\n",
      "Epoch 35, Training Loss 0.442\n",
      "Epoch 35, Validation Loss 0.4681372046470642\n",
      "Epoch 36, Training Loss 0.44\n",
      "Epoch 36, Validation Loss 0.4685732126235962\n",
      "Epoch 37, Training Loss 0.444\n",
      "Epoch 37, Validation Loss 0.46889591217041016\n",
      "Epoch 38, Training Loss 0.443\n",
      "Epoch 38, Validation Loss 0.4681752622127533\n",
      "Epoch 39, Training Loss 0.443\n",
      "Saving a new best model\n",
      "Epoch 39, Validation Loss 0.46768394112586975\n",
      "Epoch 40, Training Loss 0.441\n",
      "Epoch 40, Validation Loss 0.46815168857574463\n",
      "Epoch 41, Training Loss 0.443\n",
      "Epoch 41, Validation Loss 0.4685204327106476\n",
      "Epoch 42, Training Loss 0.441\n",
      "Epoch 42, Validation Loss 0.4680270254611969\n",
      "Epoch 43, Training Loss 0.443\n",
      "Epoch 43, Validation Loss 0.4684811532497406\n",
      "Epoch 44, Training Loss 0.442\n",
      "Epoch 44, Validation Loss 0.46788105368614197\n",
      "Epoch 45, Training Loss 0.443\n",
      "Epoch 45, Validation Loss 0.4684194326400757\n",
      "Epoch 46, Training Loss 0.441\n",
      "Epoch 46, Validation Loss 0.46825724840164185\n",
      "Epoch 47, Training Loss 0.441\n",
      "Epoch 47, Validation Loss 0.46851834654808044\n",
      "Epoch 48, Training Loss 0.444\n",
      "Epoch 48, Validation Loss 0.4687437117099762\n",
      "Epoch 49, Training Loss 0.444\n",
      "Epoch 49, Validation Loss 0.4684784412384033\n",
      "Epoch 50, Training Loss 0.442\n",
      "Epoch 50, Validation Loss 0.46835315227508545\n",
      "Epoch 51, Training Loss 0.443\n",
      "Epoch 51, Validation Loss 0.46782734990119934\n",
      "Epoch 52, Training Loss 0.441\n",
      "Epoch 52, Validation Loss 0.46814295649528503\n",
      "Epoch 53, Training Loss 0.442\n",
      "Epoch 53, Validation Loss 0.4682980179786682\n",
      "Epoch 54, Training Loss 0.443\n",
      "Epoch 54, Validation Loss 0.4683868885040283\n",
      "Epoch 55, Training Loss 0.444\n",
      "Epoch 55, Validation Loss 0.46830904483795166\n",
      "Epoch 56, Training Loss 0.442\n",
      "Epoch 56, Validation Loss 0.4688832461833954\n",
      "Epoch 57, Training Loss 0.442\n",
      "Epoch 57, Validation Loss 0.46848899126052856\n",
      "Epoch 58, Training Loss 0.444\n",
      "Epoch 58, Validation Loss 0.4685762822628021\n",
      "Epoch 59, Training Loss 0.442\n",
      "Epoch 59, Validation Loss 0.46833983063697815\n",
      "Epoch 60, Training Loss 0.442\n",
      "Epoch 60, Validation Loss 0.46800151467323303\n",
      "Epoch 61, Training Loss 0.444\n",
      "Epoch 61, Validation Loss 0.4685707092285156\n",
      "Epoch 62, Training Loss 0.443\n",
      "Epoch 62, Validation Loss 0.4679250121116638\n",
      "Epoch 63, Training Loss 0.444\n",
      "Epoch 63, Validation Loss 0.4687948226928711\n",
      "Epoch 64, Training Loss 0.442\n",
      "Epoch 64, Validation Loss 0.4687694013118744\n",
      "Epoch 65, Training Loss 0.442\n",
      "Epoch 65, Validation Loss 0.46864911913871765\n",
      "Epoch 66, Training Loss 0.443\n",
      "Epoch 66, Validation Loss 0.46881628036499023\n",
      "Epoch 67, Training Loss 0.443\n",
      "Epoch 67, Validation Loss 0.4682558476924896\n",
      "Epoch 68, Training Loss 0.442\n",
      "Epoch 68, Validation Loss 0.468436062335968\n",
      "Epoch 69, Training Loss 0.443\n",
      "Epoch 69, Validation Loss 0.4681825339794159\n",
      "Epoch 70, Training Loss 0.443\n",
      "Epoch 70, Validation Loss 0.4689262807369232\n",
      "Epoch 71, Training Loss 0.441\n",
      "Epoch 71, Validation Loss 0.46823564171791077\n",
      "Epoch 72, Training Loss 0.442\n",
      "Epoch 72, Validation Loss 0.4684728980064392\n",
      "Epoch 73, Training Loss 0.441\n",
      "Epoch 73, Validation Loss 0.4680440127849579\n",
      "Epoch 74, Training Loss 0.442\n",
      "Epoch 74, Validation Loss 0.4681558310985565\n",
      "Epoch 75, Training Loss 0.443\n",
      "Epoch 75, Validation Loss 0.4686632454395294\n",
      "Epoch 76, Training Loss 0.443\n",
      "Epoch 76, Validation Loss 0.4685544967651367\n",
      "Epoch 77, Training Loss 0.442\n",
      "Epoch 77, Validation Loss 0.4683147072792053\n",
      "Epoch 78, Training Loss 0.443\n",
      "Epoch 78, Validation Loss 0.4685478210449219\n",
      "Epoch 79, Training Loss 0.441\n",
      "Epoch 79, Validation Loss 0.46884599328041077\n",
      "Epoch 80, Training Loss 0.442\n",
      "Epoch 80, Validation Loss 0.46817517280578613\n",
      "Epoch 81, Training Loss 0.443\n",
      "Epoch 81, Validation Loss 0.4687526524066925\n",
      "Epoch 82, Training Loss 0.441\n",
      "Epoch 82, Validation Loss 0.4682319164276123\n",
      "Epoch 83, Training Loss 0.442\n",
      "Epoch 83, Validation Loss 0.468485563993454\n",
      "Epoch 84, Training Loss 0.442\n",
      "Epoch 84, Validation Loss 0.46862053871154785\n",
      "Epoch 85, Training Loss 0.442\n",
      "Epoch 85, Validation Loss 0.4690718948841095\n",
      "Epoch 86, Training Loss 0.441\n",
      "Epoch 86, Validation Loss 0.46858179569244385\n",
      "Epoch 87, Training Loss 0.442\n",
      "Epoch 87, Validation Loss 0.46808987855911255\n",
      "Epoch 88, Training Loss 0.443\n",
      "Epoch 88, Validation Loss 0.4686269760131836\n",
      "Epoch 89, Training Loss 0.442\n",
      "Epoch 89, Validation Loss 0.46815207600593567\n",
      "Epoch 90, Training Loss 0.441\n",
      "Epoch 90, Validation Loss 0.46853575110435486\n",
      "Epoch 91, Training Loss 0.442\n",
      "Epoch 91, Validation Loss 0.46801215410232544\n",
      "Epoch 92, Training Loss 0.443\n",
      "Epoch 92, Validation Loss 0.46863532066345215\n",
      "Epoch 93, Training Loss 0.443\n",
      "Epoch 93, Validation Loss 0.46844273805618286\n",
      "Epoch 94, Training Loss 0.444\n",
      "Epoch 94, Validation Loss 0.4685616195201874\n",
      "Epoch 95, Training Loss 0.443\n",
      "Epoch 95, Validation Loss 0.46836310625076294\n",
      "Epoch 96, Training Loss 0.443\n",
      "Epoch 96, Validation Loss 0.46856239438056946\n",
      "Epoch 97, Training Loss 0.444\n",
      "Epoch 97, Validation Loss 0.46789637207984924\n",
      "Epoch 98, Training Loss 0.442\n",
      "Epoch 98, Validation Loss 0.4681907296180725\n",
      "Epoch 99, Training Loss 0.442\n",
      "Epoch 99, Validation Loss 0.4683448374271393\n"
     ]
    }
   ],
   "source": [
    "epochs =100\n",
    "\n",
    "best_valid_loss = 1000000000\n",
    "for epoch in range(epochs):\n",
    "    model.train()\n",
    "    train_loss = 0\n",
    "    for i, (x, y) in enumerate(my_training_loader):\n",
    "        optimizer.zero_grad()\n",
    "        y_pred = model(x)\n",
    "        loss = mae_loss_function(y_pred, y)\n",
    "        train_loss += loss.item()\n",
    "        before_update = {name: param.clone().detach() for name, param in model.named_parameters()}\n",
    "        loss.backward()\n",
    "        # for name, param in model.named_parameters():\n",
    "        #     if param.grad is not None and torch.all(param.grad == 0):\n",
    "        #         print(f\"All-zero gradient for {name}\")\n",
    "        optimizer.step()\n",
    "\n",
    "        # for name, param in model.named_parameters():\n",
    "        #     if torch.equal(before_update[name], param):\n",
    "        #         print(f\"No update for {name}\")\n",
    "        # if i % 10000 == 0:\n",
    "    train_loss /= len(my_training_loader)\n",
    "    print(f'Epoch {epoch}, Training Loss {round((train_loss),3)}')\n",
    "\n",
    "\n",
    "\n",
    "\n",
    "    model.eval()\n",
    "\n",
    "    valid_preds = []\n",
    "    valid_labels = []\n",
    "    with torch.no_grad():\n",
    "        for i, (x, y) in enumerate(valid_dataloader):\n",
    "            y_pred = model(x)\n",
    "            valid_preds.append(y_pred)\n",
    "            # valid_preds.append(y_pred.detach().cpu())\n",
    "            valid_labels.append(y)\n",
    "    valid_preds = torch.cat(valid_preds)\n",
    "    valid_labels = torch.cat(valid_labels)\n",
    "    valid_loss = mae_loss_function(valid_preds, valid_labels)\n",
    "\n",
    "    if valid_loss < best_valid_loss:\n",
    "        best_valid_loss = valid_loss\n",
    "        torch.save(model.state_dict(), './AG_checkpoints/best_model.pth')\n",
    "        print(\"Saving a new best model\")\n",
    "    scheduler.step(best_valid_loss)\n",
    "    print(f'Epoch {epoch}, Validation Loss {valid_loss.item()}')"
   ]
  },
  {
   "cell_type": "code",
   "execution_count": null,
   "metadata": {
    "colab": {
     "base_uri": "https://localhost:8080/"
    },
    "executionInfo": {
     "elapsed": 78,
     "status": "ok",
     "timestamp": 1741719131237,
     "user": {
      "displayName": "Alexis Geslin",
      "userId": "05368027719046732967"
     },
     "user_tz": 420
    },
    "id": "WASKGkmECEMQ",
    "outputId": "310c74d6-985f-48e9-a35a-ad5278fa541f"
   },
   "outputs": [
    {
     "name": "stdout",
     "output_type": "stream",
     "text": [
      "initialized Linear(in_features=384, out_features=512, bias=True)\n",
      "initialized Linear(in_features=512, out_features=128, bias=True)\n",
      "initialized Linear(in_features=128, out_features=8, bias=True)\n",
      "initialized Linear(in_features=8, out_features=1, bias=True)\n",
      "Test Loss 0.4777367413043976\n"
     ]
    },
    {
     "name": "stderr",
     "output_type": "stream",
     "text": [
      "<ipython-input-94-5b5bc6db7301>:3: FutureWarning: You are using `torch.load` with `weights_only=False` (the current default value), which uses the default pickle module implicitly. It is possible to construct malicious pickle data which will execute arbitrary code during unpickling (See https://github.com/pytorch/pytorch/blob/main/SECURITY.md#untrusted-models for more details). In a future release, the default value for `weights_only` will be flipped to `True`. This limits the functions that could be executed during unpickling. Arbitrary objects will no longer be allowed to be loaded via this mode unless they are explicitly allowlisted by the user via `torch.serialization.add_safe_globals`. We recommend you start setting `weights_only=True` for any use case where you don't have full control of the loaded file. Please open an issue on GitHub for any issues related to this experimental feature.\n",
      "  best_model.load_state_dict(torch.load('./AG_checkpoints/best_model.pth'))\n"
     ]
    }
   ],
   "source": [
    "best_model = perceptronHead3(dim_embeddings)\n",
    "best_model.to(device)\n",
    "best_model.load_state_dict(torch.load('./AG_checkpoints/best_model.pth'))\n",
    "# best_model = model\n",
    "\n",
    "best_model.eval()\n",
    "with torch.no_grad():\n",
    "    test_preds = []\n",
    "    test_labels = []\n",
    "    for i, (x, y) in enumerate(test_dataloader):\n",
    "        y_pred = best_model(x)\n",
    "        test_preds.append(y_pred)\n",
    "        test_labels.append(y)\n",
    "    test_preds = torch.cat(test_preds)\n",
    "    test_labels = torch.cat(test_labels)\n",
    "    test_loss = mae_loss_function(test_preds, test_labels)\n",
    "    print(f'Test Loss {test_loss.item()}')"
   ]
  },
  {
   "cell_type": "code",
   "execution_count": null,
   "metadata": {
    "colab": {
     "base_uri": "https://localhost:8080/"
    },
    "executionInfo": {
     "elapsed": 40,
     "status": "ok",
     "timestamp": 1741647741175,
     "user": {
      "displayName": "Alexis Geslin",
      "userId": "05368027719046732967"
     },
     "user_tz": 420
    },
    "id": "FNd8pkfGH34B",
    "outputId": "4d4f3abd-a3fd-4831-ee92-da4175a443fd"
   },
   "outputs": [
    {
     "name": "stdout",
     "output_type": "stream",
     "text": [
      "Device for best_model and x: cuda\n"
     ]
    }
   ],
   "source": [
    "# prompt: # get the device best_model and x are on\n",
    "\n",
    "print(f\"Device for best_model and x: {device}\")\n"
   ]
  },
  {
   "cell_type": "code",
   "execution_count": null,
   "metadata": {
    "colab": {
     "base_uri": "https://localhost:8080/"
    },
    "executionInfo": {
     "elapsed": 3,
     "status": "ok",
     "timestamp": 1741647791726,
     "user": {
      "displayName": "Alexis Geslin",
      "userId": "05368027719046732967"
     },
     "user_tz": 420
    },
    "id": "bf828vtvS-te",
    "outputId": "69459d8d-2eff-4866-91f0-ee84887de5c1"
   },
   "outputs": [
    {
     "name": "stdout",
     "output_type": "stream",
     "text": [
      "cuda:0\n"
     ]
    }
   ],
   "source": [
    "print(next(best_model.parameters()).device)"
   ]
  },
  {
   "cell_type": "markdown",
   "metadata": {
    "id": "Jo5l6TeUH4X5"
   },
   "source": [
    "Training with scheduler, for 200 epochs,  lr=0.01)\n",
    "scheduler = optim.lr_scheduler.ReduceLROnPlateau(optimizer, mode='min', factor=0.5, patience=5, verbose=True)"
   ]
  },
  {
   "cell_type": "markdown",
   "metadata": {
    "id": "eAeI3IVcXFmU"
   },
   "source": [
    "### TESTING BEST MODEL"
   ]
  },
  {
   "cell_type": "code",
   "execution_count": 10,
   "metadata": {
    "colab": {
     "base_uri": "https://localhost:8080/"
    },
    "executionInfo": {
     "elapsed": 3102,
     "status": "ok",
     "timestamp": 1741737154308,
     "user": {
      "displayName": "Alexis Geslin",
      "userId": "05368027719046732967"
     },
     "user_tz": 420
    },
    "id": "WgPsg-omXIMB",
    "outputId": "b53e07b1-2f69-4ce7-a1d8-97d571ac78e9"
   },
   "outputs": [
    {
     "name": "stdout",
     "output_type": "stream",
     "text": [
      "initialized Linear(in_features=384, out_features=512, bias=True)\n",
      "initialized Linear(in_features=512, out_features=128, bias=True)\n",
      "initialized Linear(in_features=128, out_features=8, bias=True)\n",
      "initialized Linear(in_features=8, out_features=1, bias=True)\n"
     ]
    },
    {
     "name": "stderr",
     "output_type": "stream",
     "text": [
      "<ipython-input-10-8c0dec72f89a>:4: FutureWarning: You are using `torch.load` with `weights_only=False` (the current default value), which uses the default pickle module implicitly. It is possible to construct malicious pickle data which will execute arbitrary code during unpickling (See https://github.com/pytorch/pytorch/blob/main/SECURITY.md#untrusted-models for more details). In a future release, the default value for `weights_only` will be flipped to `True`. This limits the functions that could be executed during unpickling. Arbitrary objects will no longer be allowed to be loaded via this mode unless they are explicitly allowlisted by the user via `torch.serialization.add_safe_globals`. We recommend you start setting `weights_only=True` for any use case where you don't have full control of the loaded file. Please open an issue on GitHub for any issues related to this experimental feature.\n",
      "  best_model.load_state_dict(torch.load(f'./AG_checkpoints/best_model_006_best_e5small.pth'))\n"
     ]
    },
    {
     "name": "stdout",
     "output_type": "stream",
     "text": [
      "Training Loss 0.442\n",
      "Validation Loss 0.468\n",
      "Test Loss 0.478\n"
     ]
    }
   ],
   "source": [
    "#model loading\n",
    "best_model = perceptronHead3(dim_embeddings)\n",
    "best_model.to(device)\n",
    "best_model.load_state_dict(torch.load(f'./AG_checkpoints/best_model_006_best_e5small.pth'))\n",
    "\n",
    "\n",
    "best_model.train()\n",
    "#train\n",
    "with torch.no_grad():\n",
    "    train_preds = []\n",
    "    train_labels = []\n",
    "    for i, (x, y) in enumerate(train_dataloader):\n",
    "        y_pred = best_model(x)\n",
    "        train_preds.append(y_pred)\n",
    "        train_labels.append(y)\n",
    "    train_preds = torch.cat(train_preds)\n",
    "    train_labels = torch.cat(train_labels)\n",
    "    train_loss = mae_loss_function(train_preds, train_labels)\n",
    "    print(f'Training Loss {round(train_loss.item(),3)}')\n",
    "\n",
    "#valid\n",
    "best_model.eval()\n",
    "with torch.no_grad():\n",
    "    valid_preds = []\n",
    "    valid_labels = []\n",
    "    for i, (x, y) in enumerate(valid_dataloader):\n",
    "        y_pred = best_model(x)\n",
    "        valid_preds.append(y_pred)\n",
    "        valid_labels.append(y)\n",
    "    valid_preds = torch.cat(valid_preds)\n",
    "    valid_labels = torch.cat(valid_labels)\n",
    "    valid_loss = mae_loss_function(valid_preds, valid_labels)\n",
    "    print(f'Validation Loss {round(valid_loss.item(),3)}')\n",
    "\n",
    "#train\n",
    "with torch.no_grad():\n",
    "    test_preds = []\n",
    "    test_labels = []\n",
    "    for i, (x, y) in enumerate(test_dataloader):\n",
    "        y_pred = best_model(x)\n",
    "        test_preds.append(y_pred)\n",
    "        test_labels.append(y)\n",
    "    test_preds = torch.cat(test_preds)\n",
    "    test_labels = torch.cat(test_labels)\n",
    "    test_loss = mae_loss_function(test_preds, test_labels)\n",
    "    print(f'Test Loss {round(test_loss.item(),3)}')"
   ]
  },
  {
   "cell_type": "code",
   "execution_count": null,
   "metadata": {
    "id": "GvUCyt1Uys9e"
   },
   "outputs": [],
   "source": []
  },
  {
   "cell_type": "code",
   "execution_count": null,
   "metadata": {
    "id": "tUlafEH0ys6o"
   },
   "outputs": [],
   "source": []
  },
  {
   "cell_type": "code",
   "execution_count": null,
   "metadata": {
    "id": "MIKT2FWHys4A"
   },
   "outputs": [],
   "source": []
  },
  {
   "cell_type": "code",
   "execution_count": null,
   "metadata": {
    "id": "3c14RQJoys1b"
   },
   "outputs": [],
   "source": []
  },
  {
   "cell_type": "code",
   "execution_count": null,
   "metadata": {
    "id": "HrYysqgkysvJ"
   },
   "outputs": [],
   "source": []
  },
  {
   "cell_type": "code",
   "execution_count": null,
   "metadata": {
    "id": "i-nPoH4Pysgk"
   },
   "outputs": [],
   "source": []
  }
 ],
 "metadata": {
  "accelerator": "GPU",
  "colab": {
   "authorship_tag": "ABX9TyM2awr2VwWOYrky19cIm9sI",
   "gpuType": "T4",
   "machine_shape": "hm",
   "provenance": []
  },
  "kernelspec": {
   "display_name": "Python 3",
   "name": "python3"
  },
  "language_info": {
   "name": "python"
  }
 },
 "nbformat": 4,
 "nbformat_minor": 0
}
