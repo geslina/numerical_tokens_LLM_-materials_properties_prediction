{
 "cells": [
  {
   "cell_type": "markdown",
   "metadata": {},
   "source": [
    "## In this notebook:\n",
    "\n",
    "#### LLM-prop Preprocessing \n",
    "Adapted from Rubungo et al. Llm-prop: Predicting physical and electronic properties of crystalline solids from their text descriptions, 2023. <br> \n",
    "Vertaix. Llm-prop: A repository for property prediction using large language models. https: //github.com/vertaix/LLM-Prop/tree/main, 2025\n",
    "Copyright (c) 2024 Vertaix\n",
    "MIT License\n",
    "\n",
    "Permission is hereby granted, free of charge, to any person obtaining a copy\n",
    "of this software and associated documentation files (the \"Software\"), to deal\n",
    "in the Software without restriction, including without limitation the rights\n",
    "to use, copy, modify, merge, publish, distribute, sublicense, and/or sell\n",
    "copies of the Software, and to permit persons to whom the Software is\n",
    "furnished to do so, subject to the following conditions:\n",
    "\n",
    "The above copyright notice and this permission notice shall be included in all\n",
    "copies or substantial portions of the Software.\n",
    "\n",
    "THE SOFTWARE IS PROVIDED \"AS IS\", WITHOUT WARRANTY OF ANY KIND, EXPRESS OR\n",
    "IMPLIED, INCLUDING BUT NOT LIMITED TO THE WARRANTIES OF MERCHANTABILITY,\n",
    "FITNESS FOR A PARTICULAR PURPOSE AND NONINFRINGEMENT. IN NO EVENT SHALL THE\n",
    "AUTHORS OR COPYRIGHT HOLDERS BE LIABLE FOR ANY CLAIM, DAMAGES OR OTHER\n",
    "LIABILITY, WHETHER IN AN ACTION OF CONTRACT, TORT OR OTHERWISE, ARISING FROM,\n",
    "OUT OF OR IN CONNECTION WITH THE SOFTWARE OR THE USE OR OTHER DEALINGS IN THE\n",
    "SOFTWARE.\n",
    "\n",
    "#### Extracting numerical tokens features\n",
    "Author: Alexis Geslin.\\\n",
    "Inspired by Vertaix. Llm-prop: A repository for property prediction using large language models. https: //github.com/vertaix/LLM-Prop/tree/main, 2025\n",
    "\n",
    "#### Formatting dataframes\n",
    "Author: Alexis Geslin.\n",
    "\n",
    "#### Getting E5 embeddings\n",
    "Author: Alexis Geslin."
   ]
  },
  {
   "cell_type": "markdown",
   "metadata": {},
   "source": []
  },
  {
   "cell_type": "code",
   "execution_count": 1,
   "metadata": {},
   "outputs": [],
   "source": [
    "import re\n",
    "import time\n",
    "import glob\n",
    "import pandas as pd\n",
    "import numpy as np\n",
    "import argparse\n",
    "from statistics import stdev\n",
    "from llmprop_utils import *\n"
   ]
  },
  {
   "cell_type": "markdown",
   "metadata": {},
   "source": [
    "## LLM-Prop preprocessing"
   ]
  },
  {
   "cell_type": "code",
   "execution_count": 2,
   "metadata": {},
   "outputs": [],
   "source": [
    "parser = argparse.ArgumentParser(description='LLM-Prop')\n",
    "parser.add_argument('--epochs',\n",
    "                    help='Number of epochs',\n",
    "                    type=int,\n",
    "                    default=200)\n",
    "parser.add_argument('--bs',\n",
    "                    help='Batch size',\n",
    "                    type=int,\n",
    "                    default=64)\n",
    "parser.add_argument('--lr',\n",
    "                    help='Learning rate',\n",
    "                    type=float,\n",
    "                    default=0.001)\n",
    "parser.add_argument('--max_len',\n",
    "                    help='Max input sequence length',\n",
    "                    type=int,\n",
    "                    default=888)\n",
    "parser.add_argument('--dr',\n",
    "                    help='Drop rate',\n",
    "                    type=float,\n",
    "                    default=0.2)\n",
    "parser.add_argument('--warmup_steps',\n",
    "                    help='Warmpup steps',\n",
    "                    type=int,\n",
    "                    default=30000)\n",
    "parser.add_argument('--preprocessing_strategy',\n",
    "                    help='Data preprocessing technique: \"none\", \"bond_lengths_replaced_with_num\", \"bond_angles_replaced_with_ang\", \"no_stopwords\", or \"no_stopwords_and_lengths_and_angles_replaced\"',\n",
    "                    type=str,\n",
    "                    default=\"no_stopwords_and_lengths_and_angles_replaced\")\n",
    "parser.add_argument('--tokenizer',\n",
    "                    help='Tokenizer name: \"t5_tokenizer\" or \"modified\"',\n",
    "                    type=str,\n",
    "                    default=\"modified\")\n",
    "parser.add_argument('--pooling', \n",
    "                    help='Pooling method. \"cls\" or \"mean\"',\n",
    "                    type=str,\n",
    "                      default=\"cls\")\n",
    "parser.add_argument('--normalizer', \n",
    "                      help='Labels scaling technique. \"z_norm\", \"mm_norm\", or \"ls_norm\"',\n",
    "                      type=str,\n",
    "                    default=\"z_norm\") \n",
    "parser.add_argument('--scheduler', \n",
    "                    help='Learning rate scheduling technique. \"linear\", \"onecycle\", \"step\", or \"lambda\" (no scheduling))',\n",
    "                    type=str,\n",
    "                    default=\"onecycle\")\n",
    "parser.add_argument('--property_name', \n",
    "                      help='The name of the property to predict. \"band_gap\", \"volume\", or \"is_gap_direct\"',\n",
    "                      type=str,\n",
    "                      default=\"band_gap\")\n",
    "parser.add_argument('--optimizer', \n",
    "                    help='Optimizer type. \"adamw\" or \"sgd\"',\n",
    "                    type=str,\n",
    "                    default=\"adamw\")\n",
    "parser.add_argument('--task_name', \n",
    "                    help='the name of the task: \"regression\" if propert_name is band_gap or volume or \"classification\" if property_name is is_gap_direct',\n",
    "                    type=str,\n",
    "                    default=\"regression\")\n",
    "parser.add_argument('--train_data_path',\n",
    "                    help=\"the path to the training data\",\n",
    "                    type=str,\n",
    "                    default=\"data/samples/textedge_prop_mp22_train.csv\")\n",
    "parser.add_argument('--valid_data_path',\n",
    "                    help=\"the path to the valid data\",\n",
    "                    type=str,\n",
    "                    default=\"data/samples/textedge_prop_mp22_valid.csv\")\n",
    "parser.add_argument('--test_data_path',\n",
    "                    help=\"the path to the test data\",\n",
    "                    type=str,\n",
    "                    default=\"data/samples/textedge_prop_mp22_test.csv\")\n",
    "parser.add_argument('--checkpoint',\n",
    "                      help=\"the path to the the best checkpoint for evaluation\",\n",
    "                      type=str,\n",
    "                      default=\"\") \n",
    "args = parser.parse_args([])\n",
    "args_dict = vars(args)\n",
    "\n",
    "# Load them into variables and use the correct variable names:\n",
    "globals().update(args_dict)\n",
    "\n",
    "# set parameters\n",
    "batch_size = bs\n",
    "drop_rate = dr\n",
    "max_length = max_len\n",
    "tokenizer_name = tokenizer\n",
    "normalizer_type = normalizer\n",
    "best_model_path = checkpoint\n",
    "property = property_name\n",
    "\n",
    "#set specific variables not default\n",
    "preprocessing_strategy =\"no_stopwords\"\n",
    "# preprocessing_strategy = \"no_stopwords_and_lengths_and_angles_replaced\"\n",
    "\n",
    "#training and testing \n",
    "default_train_data_path = \"data/samples/textedge_prop_mp22_train.csv\"\n",
    "default_valid_data_path = \"data/samples/textedge_prop_mp22_valid.csv\"\n",
    "default_test_data_path = \"data/samples/textedge_prop_mp22_test.csv\"\n",
    "prepocessed_test_data_path = \"data/test_no_stopwords_and_lengths_and_angles_replaced.csv\"\n",
    "\n",
    "train_data_path = \"data/train.csv\"\n",
    "valid_data_path = \"data/validation.csv\"\n",
    "test_data_path = \"data/test.csv\"\n"
   ]
  },
  {
   "cell_type": "code",
   "execution_count": 3,
   "metadata": {},
   "outputs": [],
   "source": [
    "# train_data = pd.read_csv(train_data_path)\n",
    "# valid_data = pd.read_csv(valid_data_path)\n",
    "# test_data = pd.read_csv(test_data_path)\n",
    "train_data = pd.read_csv(default_train_data_path)\n",
    "valid_data = pd.read_csv(default_valid_data_path)\n",
    "test_data = pd.read_csv(default_test_data_path)\n"
   ]
  },
  {
   "cell_type": "code",
   "execution_count": 4,
   "metadata": {},
   "outputs": [
    {
     "name": "stdout",
     "output_type": "stream",
     "text": [
      "no_stopwords (50, 7) (10, 7) (10, 7)\n"
     ]
    }
   ],
   "source": [
    "print(preprocessing_strategy,train_data.shape, valid_data.shape, test_data.shape)"
   ]
  },
  {
   "cell_type": "code",
   "execution_count": null,
   "metadata": {},
   "outputs": [],
   "source": []
  },
  {
   "cell_type": "code",
   "execution_count": 5,
   "metadata": {},
   "outputs": [
    {
     "name": "stdout",
     "output_type": "stream",
     "text": [
      "KPrNbMnO₆ (Cubic) Perovskite-derived structured crystallizes cubic F̅43m space group. K¹⁺ bonded equivalent O²⁻ atoms form KO₁₂ cuboctahedra share corners equivalent KO₁₂ cuboctahedra, six equivalent PrO₁₂ cuboctahedra, four equivalent NbO₆ octahedra, four equivalent MnO₆ octahedra. K–O bond lengths 2.83 Å. Pr³⁺ bonded equivalent O²⁻ atoms form PrO₁₂ cuboctahedra share corners equivalent PrO₁₂ cuboctahedra, six equivalent KO₁₂ cuboctahedra, four equivalent NbO₆ octahedra, four equivalent MnO₆ octahedra. Pr–O bond lengths 2.83 Å. Nb⁵⁺ bonded six equivalent O²⁻ atoms form NbO₆ octahedra share corners six equivalent MnO₆ octahedra, four equivalent KO₁₂ cuboctahedra, four equivalent PrO₁₂ cuboctahedra. corner-sharing octahedra tilted. Nb–O bond lengths 2.00 Å. Mn³⁺ bonded six equivalent O²⁻ atoms form MnO₆ octahedra share corners six equivalent NbO₆ octahedra, four equivalent KO₁₂ cuboctahedra, four equivalent PrO₁₂ cuboctahedra. corner-sharing octahedra tilted. Mn–O bond lengths 2.01 Å. O²⁻ bonded distorted linear geometry two equivalent K¹⁺, two equivalent Pr³⁺, one Nb⁵⁺, one Mn³⁺ atom.\n",
      "--------------------------------------------------\n"
     ]
    }
   ],
   "source": [
    "# check property type to determine the task name (whether it is regression or classification)\n",
    "if test_data[property].dtype == 'bool':\n",
    "    task_name = 'classification'\n",
    "\n",
    "    #converting True->1.0 and False->0.0\n",
    "    train_data[property] = train_data[property].astype(float)\n",
    "    test_data[property] = test_data[property].astype(float)\n",
    "else:\n",
    "    task_name = 'regression'\n",
    "\n",
    "train_labels_array = np.array(train_data[property])\n",
    "train_labels_mean = torch.mean(torch.tensor(train_labels_array))\n",
    "train_labels_std = torch.std(torch.tensor(train_labels_array))\n",
    "train_labels_min = torch.min(torch.tensor(train_labels_array))\n",
    "train_labels_max = torch.max(torch.tensor(train_labels_array))\n",
    "\n",
    "if preprocessing_strategy == \"none\":\n",
    "    test_data = test_data\n",
    "    print(test_data['description'][0])\n",
    "    print('-'*50)\n",
    "\n",
    "elif preprocessing_strategy == \"bond_lengths_replaced_with_num\":\n",
    "    test_data['description'] = test_data['description'].apply(replace_bond_lengths_with_num)\n",
    "    print(test_data['description'][0])\n",
    "    print('-'*50)\n",
    "\n",
    "elif preprocessing_strategy == \"bond_angles_replaced_with_ang\":\n",
    "    test_data['description'] = test_data['description'].apply(replace_bond_angles_with_ang) \n",
    "    print(test_data['description'][0])\n",
    "    print('-'*50)\n",
    "\n",
    "elif preprocessing_strategy == \"no_stopwords\":\n",
    "    stopwords = get_cleaned_stopwords()\n",
    "    test_data['description'] = test_data['description'].apply(remove_mat_stopwords)\n",
    "    print(test_data['description'][0])\n",
    "    print('-'*50)\n",
    "\n",
    "elif preprocessing_strategy == \"no_stopwords_and_lengths_and_angles_replaced\":\n",
    "    print('in the right place')\n",
    "    stopwords = get_cleaned_stopwords()\n",
    "    test_data['description'] = test_data['description'].apply(remove_mat_stopwords)\n",
    "    test_data['description'] = test_data['description'].apply(replace_bond_lengths_with_num)\n",
    "    test_data['description'] = test_data['description'].apply(replace_bond_angles_with_ang)\n",
    "    print(test_data['description'][0])\n",
    "    print('-'*50) \n",
    "\n",
    "# define loss functions\n",
    "# mae_loss_function = nn.L1Loss()"
   ]
  },
  {
   "cell_type": "code",
   "execution_count": 6,
   "metadata": {},
   "outputs": [],
   "source": [
    "# test_data.to_csv('data/train_no_stopwords.csv', index=False)"
   ]
  },
  {
   "cell_type": "markdown",
   "metadata": {},
   "source": [
    "## Extracting Numerical tokens"
   ]
  },
  {
   "cell_type": "code",
   "execution_count": 7,
   "metadata": {},
   "outputs": [
    {
     "name": "stdout",
     "output_type": "stream",
     "text": [
      "(11531, 7) (11531, 7) (125098, 7) (9945, 7)\n"
     ]
    }
   ],
   "source": [
    "pp_test = pd.read_csv('data/test_no_stopwords_and_lengths_and_angles_replaced.csv')\n",
    "np_test = pd.read_csv('data/test_no_stopwords.csv')\n",
    "np_train = pd.read_csv('data/train_no_stopwords.csv')\n",
    "np_valid = pd.read_csv('data/validation_no_stopwords.csv')\n",
    "print(pp_test.shape, np_test.shape, np_train.shape, np_valid.shape)"
   ]
  },
  {
   "cell_type": "code",
   "execution_count": 8,
   "metadata": {},
   "outputs": [],
   "source": [
    "def extract_bond_lengths_max(sentence, padding = 3): \n",
    "    \"extract at most X= padding  bond lengths from the s`entence\"\n",
    "    \"If ranges, take the upper value\"\n",
    "    num_tokens = re.findall(r\"\\d+(?:\\.\\d+)?\\s*Å\",sentence)\n",
    "    num_tokens = [float(num.split(\" Å\")[0]) for num in num_tokens][:3]\n",
    "    if len(num_tokens) < padding:\n",
    "        num_tokens += [0.0] * (padding - len(num_tokens))\n",
    "    return num_tokens\n",
    "\n",
    "def extract_bond_lengths(sentence, padding = 3):\n",
    "    \"extract at most X= padding  bond lengths from the sentence\"\n",
    "    \"If ranges, take the upper value\"\n",
    "    matches = re.findall(r\"\\d+(?:\\.\\d+)?(?:–\\d+(?:\\.\\d+)?)?\\s*Å\",sentence)\n",
    "    final_tokens = []\n",
    "    for match in matches[:padding]:\n",
    "        if '–' not in match:\n",
    "            final_tokens.append(float(match.split(' ')[0]))\n",
    "        else:\n",
    "            numbers = re.findall(r\"\\d+(?:\\.\\d+)?\",match)\n",
    "            if len(numbers) == 2:\n",
    "                a,b = float(numbers[0]),float(numbers[1])\n",
    "                final_tokens.append(round((a+b)/2,2))\n",
    "            else:\n",
    "                continue\n",
    "\n",
    "    if len(final_tokens) < padding:\n",
    "        final_tokens += [0.0] * (padding - len(final_tokens))\n",
    "    return final_tokens\n",
    "\n",
    "def extract_angles(sentence, padding_rad =3,padding_degree =1):\n",
    "    final_tokens = []\n",
    "    rad_tokens = re.findall(r\"\\d+(?:\\.\\d+)?(?:–\\d+(?:\\.\\d+)?)?(?=\\s*°)\", sentence) #not getting the ° token, nor the space\n",
    "    degree_tokens = re.findall(r\"\\d+(?:\\.\\d+)?(?:–\\d+(?:\\.\\d+)?)?(?=\\s*degrees)\", sentence) #not getting the degree token, nor the space\n",
    "\n",
    "    #getting the rad tokens and average the ranges\n",
    "    for match in rad_tokens[:padding_rad]:\n",
    "        if '–' not in match:\n",
    "            final_tokens.append(float(match))\n",
    "        else:\n",
    "            numbers = re.findall(r\"\\d+(?:\\.\\d+)?\",match)\n",
    "            if len(numbers) == 2:\n",
    "                a,b = float(numbers[0]),float(numbers[1])\n",
    "                final_tokens.append(round((a+b)/2,2))\n",
    "            else:\n",
    "                continue\n",
    "    #padding to padding_rad\n",
    "    if len(final_tokens) < padding_rad:\n",
    "        final_tokens += [0.0] * (padding_rad - len(final_tokens))\n",
    "\n",
    "    #getting the degree tokens and average the ranges\n",
    "    for match in degree_tokens[:padding_degree]:\n",
    "        if '–' not in match:\n",
    "            final_tokens.append(float(match))\n",
    "        else:\n",
    "            numbers = re.findall(r\"\\d+(?:\\.\\d+)?\",match)\n",
    "            if len(numbers) == 2:\n",
    "                a,b = float(numbers[0]),float(numbers[1])\n",
    "                final_tokens.append(round((a+b)/2,2))\n",
    "            else:\n",
    "                continue\n",
    "    #padding to padding_degree\n",
    "    if len(final_tokens) < padding_rad + padding_degree:\n",
    "        final_tokens += [0.0] * (padding_degree +padding_rad - len(final_tokens))\n",
    "\n",
    "    assert(len(final_tokens) == padding_rad + padding_degree)\n",
    "\n",
    "    return final_tokens"
   ]
  },
  {
   "cell_type": "code",
   "execution_count": 9,
   "metadata": {},
   "outputs": [],
   "source": [
    "def mini_wrapper(sentence,padding=3, padding_rad =3,padding_degree =1):\n",
    "    \"wrapper function to extract bond lengths and angles\"\n",
    "    bond_lengths = extract_bond_lengths(sentence, padding)\n",
    "    angles = extract_angles(sentence, padding_rad, padding_degree)\n",
    "    return bond_lengths + angles"
   ]
  },
  {
   "cell_type": "code",
   "execution_count": 10,
   "metadata": {},
   "outputs": [],
   "source": [
    "def numerical_token_wrapper(df,padding=3, padding_rad =3,padding_degree =1):\n",
    "    \"wrapper function to apply the extract bond lengths and angles to the dataframe\"\n",
    "    new_df = df['description'].apply(lambda x :mini_wrapper(x,padding=padding,padding_rad=padding_rad,padding_degree=padding_degree)).apply(pd.Series)\n",
    "\n",
    "    bond_labels = [f'bond_length_{i}' for i in range(1,padding+1)]\n",
    "    angle_rad_labels = [f'angle_rad_{i}' for i in range(1,padding_rad+1)]\n",
    "    angle_degree_labels = [f'angle_degree_{i}' for i in range(1,padding_degree+1)]\n",
    "    labels = bond_labels + angle_rad_labels + angle_degree_labels\n",
    "    # labels = ['bond_length_1','bond_length_2','bond_length_3','angle_rad_1','angle_rad_2','angle_rad_3','angle_degree_1']\n",
    "    new_df.columns = labels\n",
    "    return new_df\n",
    "    "
   ]
  },
  {
   "cell_type": "code",
   "execution_count": 11,
   "metadata": {},
   "outputs": [
    {
     "name": "stdout",
     "output_type": "stream",
     "text": [
      "done with train\n",
      "done with valid\n",
      "done with test\n",
      "Done\n"
     ]
    }
   ],
   "source": [
    "#Actually tokenizing our data\n",
    "padding  = 5\n",
    "padding_rad = 3\n",
    "padding_degree = 1\n",
    "\n",
    "train_numerical_tokens  = numerical_token_wrapper(np_train,padding=padding,padding_rad=padding_rad,padding_degree=padding_degree)\n",
    "print(\"done with train\")\n",
    "valid_numerical_tokens  = numerical_token_wrapper(np_valid,padding=padding,padding_rad=padding_rad,padding_degree=padding_degree)\n",
    "print(\"done with valid\")\n",
    "test_numerical_tokens  = numerical_token_wrapper(np_test,padding=padding,padding_rad=padding_rad,padding_degree=padding_degree)\n",
    "print(\"done with test\")\n",
    "\n",
    "#saving\n",
    "train_numerical_tokens.to_csv(f'data/train_numerical_tokens_{padding}_{padding_rad}_{padding_degree}.csv',index=False)\n",
    "valid_numerical_tokens.to_csv(f'data/valid_numerical_tokens_{padding}_{padding_rad}_{padding_degree}.csv',index=False)\n",
    "test_numerical_tokens.to_csv(f'data/test_numerical_tokens_{padding}_{padding_rad}_{padding_degree}.csv',index=False)\n",
    "print(\"Done\")\n",
    "\n"
   ]
  },
  {
   "cell_type": "code",
   "execution_count": 173,
   "metadata": {},
   "outputs": [
    {
     "name": "stdout",
     "output_type": "stream",
     "text": [
      "(125098, 9) (9945, 9) (11531, 9)\n"
     ]
    }
   ],
   "source": [
    "print(train_numerical_tokens.shape,valid_numerical_tokens.shape,test_numerical_tokens.shape)"
   ]
  },
  {
   "cell_type": "code",
   "execution_count": null,
   "metadata": {},
   "outputs": [],
   "source": []
  },
  {
   "cell_type": "markdown",
   "metadata": {},
   "source": [
    "testing"
   ]
  },
  {
   "cell_type": "code",
   "execution_count": 162,
   "metadata": {},
   "outputs": [
    {
     "data": {
      "text/html": [
       "<div>\n",
       "<style scoped>\n",
       "    .dataframe tbody tr th:only-of-type {\n",
       "        vertical-align: middle;\n",
       "    }\n",
       "\n",
       "    .dataframe tbody tr th {\n",
       "        vertical-align: top;\n",
       "    }\n",
       "\n",
       "    .dataframe thead th {\n",
       "        text-align: right;\n",
       "    }\n",
       "</style>\n",
       "<table border=\"1\" class=\"dataframe\">\n",
       "  <thead>\n",
       "    <tr style=\"text-align: right;\">\n",
       "      <th></th>\n",
       "      <th>material_id</th>\n",
       "      <th>formula</th>\n",
       "      <th>cif_structure</th>\n",
       "      <th>description</th>\n",
       "      <th>band_gap</th>\n",
       "      <th>volume</th>\n",
       "      <th>is_gap_direct</th>\n",
       "    </tr>\n",
       "  </thead>\n",
       "  <tbody>\n",
       "    <tr>\n",
       "      <th>0</th>\n",
       "      <td>mp-759684</td>\n",
       "      <td>Na3Bi(P2O7)2</td>\n",
       "      <td># generated using pymatgen\\ndata_Na3Bi(P2O7)2\\...</td>\n",
       "      <td>Na₃Bi(P₂O₇)₂ crystallizes triclinic P̅1 space ...</td>\n",
       "      <td>0.0</td>\n",
       "      <td>633.18183</td>\n",
       "      <td>False</td>\n",
       "    </tr>\n",
       "    <tr>\n",
       "      <th>1</th>\n",
       "      <td>mp-1247592</td>\n",
       "      <td>SrCa7Ti2Mn6O23</td>\n",
       "      <td># generated using pymatgen\\ndata_SrCa7Ti2Mn6O2...</td>\n",
       "      <td>SrCa₇Ti₂Mn₆O₂₃ crystallizes triclinic P1 space...</td>\n",
       "      <td>0.0</td>\n",
       "      <td>454.97270</td>\n",
       "      <td>False</td>\n",
       "    </tr>\n",
       "  </tbody>\n",
       "</table>\n",
       "</div>"
      ],
      "text/plain": [
       "  material_id         formula   \n",
       "0   mp-759684    Na3Bi(P2O7)2  \\\n",
       "1  mp-1247592  SrCa7Ti2Mn6O23   \n",
       "\n",
       "                                       cif_structure   \n",
       "0  # generated using pymatgen\\ndata_Na3Bi(P2O7)2\\...  \\\n",
       "1  # generated using pymatgen\\ndata_SrCa7Ti2Mn6O2...   \n",
       "\n",
       "                                         description  band_gap     volume   \n",
       "0  Na₃Bi(P₂O₇)₂ crystallizes triclinic P̅1 space ...       0.0  633.18183  \\\n",
       "1  SrCa₇Ti₂Mn₆O₂₃ crystallizes triclinic P1 space...       0.0  454.97270   \n",
       "\n",
       "  is_gap_direct  \n",
       "0         False  \n",
       "1         False  "
      ]
     },
     "execution_count": 162,
     "metadata": {},
     "output_type": "execute_result"
    }
   ],
   "source": [
    "len(np_train)\n",
    "np_train.head(2)"
   ]
  },
  {
   "cell_type": "code",
   "execution_count": 163,
   "metadata": {},
   "outputs": [
    {
     "name": "stdout",
     "output_type": "stream",
     "text": [
      "[2.2, 2.06, 1.27]\n",
      "[52.5, 0.0, 0.0, 120.0]\n",
      "--------------------------------------------------\n",
      "[3.02, 2.5, 0.0]\n",
      "[0.0, 0.0, 0.0, 0.0]\n",
      "--------------------------------------------------\n",
      "[1.8, 1.81, 1.81]\n",
      "[0.0, 0.0, 0.0, 0.0]\n",
      "--------------------------------------------------\n",
      "[2.0, 2.05, 0.0]\n",
      "[28.0, 28.0, 0.0, 150.0]\n",
      "--------------------------------------------------\n",
      "[2.01, 2.08, 2.01]\n",
      "[59.0, 0.0, 0.0, 0.0]\n",
      "--------------------------------------------------\n",
      "[1.72, 1.75, 0.0]\n",
      "[0.0, 0.0, 0.0, 120.0]\n",
      "--------------------------------------------------\n",
      "[2.46, 2.47, 2.43]\n",
      "[0.0, 0.0, 0.0, 0.0]\n",
      "--------------------------------------------------\n",
      "[3.94, 2.75, 2.91]\n",
      "[0.0, 0.0, 0.0, 0.0]\n",
      "--------------------------------------------------\n",
      "[1.84, 1.99, 1.4]\n",
      "[40.5, 0.0, 0.0, 150.0]\n",
      "--------------------------------------------------\n",
      "[3.23, 3.19, 2.95]\n",
      "[0.0, 0.0, 0.0, 0.0]\n",
      "--------------------------------------------------\n",
      "[2.15, 2.17, 0.0]\n",
      "[0.0, 0.0, 0.0, 0.0]\n",
      "--------------------------------------------------\n"
     ]
    }
   ],
   "source": [
    "\n",
    "for i in range(len(np_valid)):\n",
    "    np_sentence = np_valid['description'][i]\n",
    "    # print(np_sentence)\n",
    "    print(extract_bond_lengths(np_sentence))\n",
    "    print(extract_angles(np_sentence))\n",
    "    print('-'*50)\n",
    "    if i==10:\n",
    "        break\n",
    "    # print(pp_test['description'][i])\n",
    "    # print(extract_bond_lengths(pp_test['description'][i]))\n",
    "    # print(extract_bond_lengths(np_test['description'][i]))\n",
    "    # print('-'*50)"
   ]
  },
  {
   "cell_type": "code",
   "execution_count": 164,
   "metadata": {},
   "outputs": [
    {
     "data": {
      "text/html": [
       "<div>\n",
       "<style scoped>\n",
       "    .dataframe tbody tr th:only-of-type {\n",
       "        vertical-align: middle;\n",
       "    }\n",
       "\n",
       "    .dataframe tbody tr th {\n",
       "        vertical-align: top;\n",
       "    }\n",
       "\n",
       "    .dataframe thead th {\n",
       "        text-align: right;\n",
       "    }\n",
       "</style>\n",
       "<table border=\"1\" class=\"dataframe\">\n",
       "  <thead>\n",
       "    <tr style=\"text-align: right;\">\n",
       "      <th></th>\n",
       "      <th>bond_length_1</th>\n",
       "      <th>bond_length_2</th>\n",
       "      <th>bond_length_3</th>\n",
       "      <th>angle_rad_1</th>\n",
       "      <th>angle_rad_2</th>\n",
       "      <th>angle_rad_3</th>\n",
       "      <th>angle_degree_1</th>\n",
       "    </tr>\n",
       "  </thead>\n",
       "  <tbody>\n",
       "    <tr>\n",
       "      <th>0</th>\n",
       "      <td>2.20</td>\n",
       "      <td>2.06</td>\n",
       "      <td>1.27</td>\n",
       "      <td>52.5</td>\n",
       "      <td>0.0</td>\n",
       "      <td>0.0</td>\n",
       "      <td>120.0</td>\n",
       "    </tr>\n",
       "    <tr>\n",
       "      <th>1</th>\n",
       "      <td>3.02</td>\n",
       "      <td>2.50</td>\n",
       "      <td>0.00</td>\n",
       "      <td>0.0</td>\n",
       "      <td>0.0</td>\n",
       "      <td>0.0</td>\n",
       "      <td>0.0</td>\n",
       "    </tr>\n",
       "    <tr>\n",
       "      <th>2</th>\n",
       "      <td>1.80</td>\n",
       "      <td>1.81</td>\n",
       "      <td>1.81</td>\n",
       "      <td>0.0</td>\n",
       "      <td>0.0</td>\n",
       "      <td>0.0</td>\n",
       "      <td>0.0</td>\n",
       "    </tr>\n",
       "    <tr>\n",
       "      <th>3</th>\n",
       "      <td>2.00</td>\n",
       "      <td>2.05</td>\n",
       "      <td>0.00</td>\n",
       "      <td>28.0</td>\n",
       "      <td>28.0</td>\n",
       "      <td>0.0</td>\n",
       "      <td>150.0</td>\n",
       "    </tr>\n",
       "    <tr>\n",
       "      <th>4</th>\n",
       "      <td>2.01</td>\n",
       "      <td>2.08</td>\n",
       "      <td>2.01</td>\n",
       "      <td>59.0</td>\n",
       "      <td>0.0</td>\n",
       "      <td>0.0</td>\n",
       "      <td>0.0</td>\n",
       "    </tr>\n",
       "    <tr>\n",
       "      <th>...</th>\n",
       "      <td>...</td>\n",
       "      <td>...</td>\n",
       "      <td>...</td>\n",
       "      <td>...</td>\n",
       "      <td>...</td>\n",
       "      <td>...</td>\n",
       "      <td>...</td>\n",
       "    </tr>\n",
       "    <tr>\n",
       "      <th>9940</th>\n",
       "      <td>2.75</td>\n",
       "      <td>2.90</td>\n",
       "      <td>2.66</td>\n",
       "      <td>5.0</td>\n",
       "      <td>0.0</td>\n",
       "      <td>0.0</td>\n",
       "      <td>0.0</td>\n",
       "    </tr>\n",
       "    <tr>\n",
       "      <th>9941</th>\n",
       "      <td>2.98</td>\n",
       "      <td>3.17</td>\n",
       "      <td>2.61</td>\n",
       "      <td>0.0</td>\n",
       "      <td>0.0</td>\n",
       "      <td>0.0</td>\n",
       "      <td>0.0</td>\n",
       "    </tr>\n",
       "    <tr>\n",
       "      <th>9942</th>\n",
       "      <td>2.51</td>\n",
       "      <td>2.52</td>\n",
       "      <td>2.52</td>\n",
       "      <td>0.0</td>\n",
       "      <td>0.0</td>\n",
       "      <td>0.0</td>\n",
       "      <td>0.0</td>\n",
       "    </tr>\n",
       "    <tr>\n",
       "      <th>9943</th>\n",
       "      <td>2.37</td>\n",
       "      <td>1.32</td>\n",
       "      <td>1.10</td>\n",
       "      <td>0.0</td>\n",
       "      <td>0.0</td>\n",
       "      <td>0.0</td>\n",
       "      <td>120.0</td>\n",
       "    </tr>\n",
       "    <tr>\n",
       "      <th>9944</th>\n",
       "      <td>2.84</td>\n",
       "      <td>2.84</td>\n",
       "      <td>2.04</td>\n",
       "      <td>0.0</td>\n",
       "      <td>0.0</td>\n",
       "      <td>0.0</td>\n",
       "      <td>0.0</td>\n",
       "    </tr>\n",
       "  </tbody>\n",
       "</table>\n",
       "<p>9945 rows × 7 columns</p>\n",
       "</div>"
      ],
      "text/plain": [
       "      bond_length_1  bond_length_2  bond_length_3  angle_rad_1  angle_rad_2   \n",
       "0              2.20           2.06           1.27         52.5          0.0  \\\n",
       "1              3.02           2.50           0.00          0.0          0.0   \n",
       "2              1.80           1.81           1.81          0.0          0.0   \n",
       "3              2.00           2.05           0.00         28.0         28.0   \n",
       "4              2.01           2.08           2.01         59.0          0.0   \n",
       "...             ...            ...            ...          ...          ...   \n",
       "9940           2.75           2.90           2.66          5.0          0.0   \n",
       "9941           2.98           3.17           2.61          0.0          0.0   \n",
       "9942           2.51           2.52           2.52          0.0          0.0   \n",
       "9943           2.37           1.32           1.10          0.0          0.0   \n",
       "9944           2.84           2.84           2.04          0.0          0.0   \n",
       "\n",
       "      angle_rad_3  angle_degree_1  \n",
       "0             0.0           120.0  \n",
       "1             0.0             0.0  \n",
       "2             0.0             0.0  \n",
       "3             0.0           150.0  \n",
       "4             0.0             0.0  \n",
       "...           ...             ...  \n",
       "9940          0.0             0.0  \n",
       "9941          0.0             0.0  \n",
       "9942          0.0             0.0  \n",
       "9943          0.0           120.0  \n",
       "9944          0.0             0.0  \n",
       "\n",
       "[9945 rows x 7 columns]"
      ]
     },
     "execution_count": 164,
     "metadata": {},
     "output_type": "execute_result"
    }
   ],
   "source": [
    "new_valid"
   ]
  },
  {
   "cell_type": "code",
   "execution_count": 120,
   "metadata": {},
   "outputs": [
    {
     "name": "stdout",
     "output_type": "stream",
     "text": [
      "K₂MgWO₂(PO₄)₂ crystallizes triclinic P1 space group. eight inequivalent K¹⁺ sites. K¹⁺ site, K¹⁺ bonded 5-coordinate geometry five O²⁻ atoms. spread K–O bond distances ranging 2.65–2.86 Å. K¹⁺ site, K¹⁺ bonded 8-coordinate geometry eight O²⁻ atoms. spread K–O bond distances ranging 2.70–3.35 Å. K¹⁺ site, K¹⁺ bonded 8-coordinate geometry eight O²⁻ atoms. spread K–O bond distances ranging 2.68–3.28 Å. K¹⁺ site, K¹⁺ bonded 7-coordinate geometry seven O²⁻ atoms. spread K–O bond distances ranging 2.68–3.41 Å. K¹⁺ site, K¹⁺ bonded eight O²⁻ atoms form distorted KO₈ hexagonal bipyramids share cornercorner one MgO₆ octahedra, cornercorner one WO₆ octahedra, corners two PO₄ tetrahedra, edgeedge one WO₆ octahedra, edges two PO₄ tetrahedra, two MgO₆ octahedra. corner-sharing octahedral tilt angles range 54–58°. spread K–O bond distances ranging 2.64–3.12 Å. K¹⁺ site, K¹⁺ bonded 8-coordinate geometry eight O²⁻ atoms. spread K–O bond distances ranging 2.62–3.28 Å. K¹⁺ site, K¹⁺ bonded 8-coordinate geometry eight O²⁻ atoms. spread K–O bond distances ranging 2.65–3.25 Å. K¹⁺ site, K¹⁺ bonded 8-coordinate geometry eight O²⁻ atoms. spread K–O bond distances ranging 2.69–3.10 Å. four inequivalent Mg²⁺ sites. Mg²⁺ site, Mg²⁺ bonded six O²⁻ atoms form MgO₆ octahedra share corners two WO₆ octahedra, corners four PO₄ tetrahedra, faceface one KO₈ hexagonal bipyramid. corner-sharing octahedral tilt angles range 45–47°. spread Mg–O bond distances ranging 2.03–2.21 Å. Mg²⁺ site, Mg²⁺ bonded six O²⁻ atoms form MgO₆ octahedra share cornercorner one KO₈ hexagonal bipyramid, corners two WO₆ octahedra, corners four PO₄ tetrahedra. corner-sharing octahedral tilt angles range 44–45°. spread Mg–O bond distances ranging 2.08–2.13 Å. Mg²⁺ site, Mg²⁺ bonded six O²⁻ atoms form MgO₆ octahedra share corners two WO₆ octahedra corners four PO₄ tetrahedra. corner-sharing octahedral tilt angles range 44–46°. spread Mg–O bond distances ranging 2.06–2.17 Å. Mg²⁺ site, Mg²⁺ bonded six O²⁻ atoms form MgO₆ octahedra share corners two WO₆ octahedra, corners four PO₄ tetrahedra, faceface one KO₈ hexagonal bipyramid. corner-sharing octahedral tilt angles range 46–48°. spread Mg–O bond distances ranging 2.02–2.20 Å. four inequivalent W⁶⁺ sites. W⁶⁺ site, W⁶⁺ bonded six O²⁻ atoms form WO₆ octahedra share cornercorner one KO₈ hexagonal bipyramid, corners two MgO₆ octahedra, corners four PO₄ tetrahedra. corner-sharing octahedral tilt angles range 45–46°. spread W–O bond distances ranging 1.80–2.09 Å. W⁶⁺ site, W⁶⁺ bonded six O²⁻ atoms form WO₆ octahedra share corners two MgO₆ octahedra corners four PO₄ tetrahedra. corner-sharing octahedral tilt angles range 45–46°. spread W–O bond distances ranging 1.80–2.12 Å. W⁶⁺ site, W⁶⁺ bonded six O²⁻ atoms form WO₆ octahedra share corners two MgO₆ octahedra corners four PO₄ tetrahedra. corner-sharing octahedral tilt angles range 44–47°. spread W–O bond distances ranging 1.80–2.11 Å. W⁶⁺ site, W⁶⁺ bonded six O²⁻ atoms form WO₆ octahedra share corners two MgO₆ octahedra, corners four PO₄ tetrahedra, edgeedge one KO₈ hexagonal bipyramid. corner-sharing octahedral tilt angles range 44–48°. spread W–O bond distances ranging 1.80–2.12 Å. eight inequivalent P⁵⁺ sites. P⁵⁺ site, P⁵⁺ bonded four O²⁻ atoms form PO₄ tetrahedra share cornercorner one KO₈ hexagonal bipyramid, corners two MgO₆ octahedra, corners two WO₆ octahedra. corner-sharing octahedral tilt angles range 45–52°. spread P–O bond distances ranging 1.51–1.60 Å. P⁵⁺ site, P⁵⁺ bonded four O²⁻ atoms form PO₄ tetrahedra share corners two MgO₆ octahedra corners two WO₆ octahedra. corner-sharing octahedral tilt angles range 38–52°. spread P–O bond distances ranging 1.52–1.60 Å. P⁵⁺ site, P⁵⁺ bonded four O²⁻ atoms form PO₄ tetrahedra share cornercorner one KO₈ hexagonal bipyramid, corners two MgO₆ octahedra, corners two WO₆ octahedra. corner-sharing octahedral tilt angles range 40–50°. spread P–O bond distances ranging 1.52–1.60 Å. P⁵⁺ site, P⁵⁺ bonded four O²⁻ atoms form PO₄ tetrahedra share corners two MgO₆ octahedra corners two WO₆ octahedra. corner-sharing octahedral tilt angles range 44–51°. spread P–O bond distances ranging 1.51–1.60 Å. P⁵⁺ site, P⁵⁺ bonded four O²⁻ atoms form PO₄ tetrahedra share corners two MgO₆ octahedra, corners two WO₆ octahedra, edgeedge one KO₈ hexagonal bipyramid. corner-sharing octahedral tilt angles range 40–53°. spread P–O bond distances ranging 1.52–1.60 Å. P⁵⁺ site, P⁵⁺ bonded four O²⁻ atoms form PO₄ tetrahedra share corners two MgO₆ octahedra corners two WO₆ octahedra. corner-sharing octahedral tilt angles range 43–51°. spread P–O bond distances ranging 1.52–1.61 Å. P⁵⁺ site, P⁵⁺ bonded four O²⁻ atoms form PO₄ tetrahedra share corners two MgO₆ octahedra corners two WO₆ octahedra. corner-sharing octahedral tilt angles range 46–50°. spread P–O bond distances ranging 1.52–1.60 Å. P⁵⁺ site, P⁵⁺ bonded four O²⁻ atoms form PO₄ tetrahedra share corners two MgO₆ octahedra, corners two WO₆ octahedra, edgeedge one KO₈ hexagonal bipyramid. corner-sharing octahedral tilt angles range 44–53°. spread P–O bond distances ranging 1.52–1.60 Å. inequivalent O²⁻ sites. O²⁻ site, O²⁻ bonded 2-coordinate geometry one K¹⁺, one Mg²⁺, one W⁶⁺ atom. O²⁻ site, O²⁻ bonded distorted bent 120 degrees geometry two K¹⁺, one Mg²⁺, one P⁵⁺ atom. O²⁻ site, O²⁻ bonded 3-coordinate geometry one K¹⁺, one Mg²⁺, one P⁵⁺ atom. O²⁻ site, O²⁻ bonded 2-coordinate geometry two K¹⁺, one Mg²⁺, one P⁵⁺ atom. O²⁻ site, O²⁻ bonded 1-coordinate geometry two K¹⁺, one W⁶⁺, one P⁵⁺ atom. O²⁻ site, O²⁻ bonded distorted bent 120 degrees geometry three K¹⁺, one Mg²⁺, one P⁵⁺ atom. O²⁻ site, O²⁻ bonded 1-coordinate geometry two K¹⁺, one W⁶⁺, one P⁵⁺ atom. O²⁻ site, O²⁻ bonded 2-coordinate geometry one K¹⁺, one W⁶⁺, one P⁵⁺ atom. O²⁻ site, O²⁻ bonded 3-coordinate geometry one K¹⁺, one Mg²⁺, one W⁶⁺ atom. O²⁻ site, O²⁻ bonded 2-coordinate geometry one K¹⁺, one W⁶⁺, one P⁵⁺ atom. O²⁻ site, O²⁻ bonded 2-coordinate geometry one K¹⁺, one W⁶⁺, one P⁵⁺ atom. twelfth O²⁻ site, O²⁻ bonded 4-coordinate geometry two K¹⁺, one Mg²⁺, one P⁵⁺ atom. thirteenth O²⁻ site, O²⁻ bonded 2-coordinate geometry two K¹⁺, one W⁶⁺, one P⁵⁺ atom. fourteenth O²⁻ site, O²⁻ bonded 1-coordinate geometry two K¹⁺, one W⁶⁺, one P⁵⁺ atom. fifteenth O²⁻ site, O²⁻ bonded 3-coordinate geometry one K¹⁺, one Mg²⁺, one P⁵⁺ atom. sixteenth O²⁻ site, O²⁻ bonded distorted bent 150 degrees geometry one K¹⁺, one W⁶⁺, one P⁵⁺ atom. seventeenth O²⁻ site, O²⁻ bonded 3-coordinate geometry one K¹⁺, one W⁶⁺, one P⁵⁺ atom. eighteenth O²⁻ site, O²⁻ bonded 3-coordinate geometry one K¹⁺, one W⁶⁺, one P⁵⁺ atom. nineteenth O²⁻ site, O²⁻ bonded 2-coordinate geometry one K¹⁺, one Mg²⁺, one P⁵⁺ atom. twentieth O²⁻ site, O²⁻ bonded 2-coordinate geometry one K¹⁺, one W⁶⁺, one P⁵⁺ atom. twenty-first O²⁻ site, O²⁻ bonded 3-coordinate geometry one K¹⁺, one Mg²⁺, one W⁶⁺ atom. twenty-second O²⁻ site, O²⁻ bonded 3-coordinate geometry one K¹⁺, one Mg²⁺, one W⁶⁺ atom. twenty-third O²⁻ site, O²⁻ bonded 1-coordinate geometry two K¹⁺, one W⁶⁺, one P⁵⁺ atom. twenty-fourth O²⁻ site, O²⁻ bonded 2-coordinate geometry one K¹⁺, one Mg²⁺, one W⁶⁺ atom. twenty-fifth O²⁻ site, O²⁻ bonded 3-coordinate geometry one K¹⁺, one Mg²⁺, one P⁵⁺ atom. twenty-sixth O²⁻ site, O²⁻ bonded 3-coordinate geometry one K¹⁺, one W⁶⁺, one P⁵⁺ atom. twenty-seventh O²⁻ site, O²⁻ bonded 4-coordinate geometry two K¹⁺, one Mg²⁺, one P⁵⁺ atom. twenty-eighth O²⁻ site, O²⁻ bonded 2-coordinate geometry two K¹⁺, one Mg²⁺, one P⁵⁺ atom. twenty-ninth O²⁻ site, O²⁻ bonded 4-coordinate geometry two K¹⁺, one Mg²⁺, one P⁵⁺ atom. thirtieth O²⁻ site, O²⁻ bonded 2-coordinate geometry two K¹⁺, one Mg²⁺, one W⁶⁺ atom. thirty-first O²⁻ site, O²⁻ bonded 1-coordinate geometry two K¹⁺, one W⁶⁺, one P⁵⁺ atom. thirty-second O²⁻ site, O²⁻ bonded 2-coordinate geometry two K¹⁺, one Mg²⁺, one P⁵⁺ atom. thirty-third O²⁻ site, O²⁻ bonded 2-coordinate geometry one K¹⁺, one Mg²⁺, one W⁶⁺ atom. thirty-fourth O²⁻ site, O²⁻ bonded 3-coordinate geometry one K¹⁺, one Mg²⁺, one P⁵⁺ atom. thirty-fifth O²⁻ site, O²⁻ bonded 2-coordinate geometry two K¹⁺, one Mg²⁺, one P⁵⁺ atom. thirty-sixth O²⁻ site, O²⁻ bonded 2-coordinate geometry two K¹⁺, one Mg²⁺, one P⁵⁺ atom. thirty-seventh O²⁻ site, O²⁻ bonded 3-coordinate geometry one K¹⁺, one Mg²⁺, one W⁶⁺ atom. thirty-eighth O²⁻ site, O²⁻ bonded 3-coordinate geometry one K¹⁺, one W⁶⁺, one P⁵⁺ atom. thirty-ninth O²⁻ site, O²⁻ bonded 1-coordinate geometry two K¹⁺, one W⁶⁺, one P⁵⁺ atom. fortieth O²⁻ site, O²⁻ bonded 2-coordinate geometry two K¹⁺, one Mg²⁺, one P⁵⁺ atom.\n",
      "K₂MgWO₂(PO₄)₂ crystallizes triclinic P1 space group. eight inequivalent K¹⁺ sites. K¹⁺ site, K¹⁺ bonded 5-coordinate geometry five O²⁻ atoms. spread K–O bond distances ranging 2.65–2.86 Å. K¹⁺ site, K¹⁺ bonded 8-coordinate geometry eight O²⁻ atoms. spread K–O bond distances ranging 2.70–3.35 Å. K¹⁺ site, K¹⁺ bonded 8-coordinate geometry eight O²⁻ atoms. spread K–O bond distances ranging 2.68–3.28 Å. K¹⁺ site, K¹⁺ bonded 7-coordinate geometry seven O²⁻ atoms. spread K–O bond distances ranging 2.68–3.41 Å. K¹⁺ site, K¹⁺ bonded eight O²⁻ atoms form distorted KO₈ hexagonal bipyramids share cornercorner one MgO₆ octahedra, cornercorner one WO₆ octahedra, corners two PO₄ tetrahedra, edgeedge one WO₆ octahedra, edges two PO₄ tetrahedra, two MgO₆ octahedra. corner-sharing octahedral tilt angles range [ANG]. spread K–O bond distances ranging 2.64–3.12 Å. K¹⁺ site, K¹⁺ bonded 8-coordinate geometry eight O²⁻ atoms. spread K–O bond distances ranging 2.62–3.28 Å. K¹⁺ site, K¹⁺ bonded 8-coordinate geometry eight O²⁻ atoms. spread K–O bond distances ranging 2.65–3.25 Å. K¹⁺ site, K¹⁺ bonded 8-coordinate geometry eight O²⁻ atoms. spread K–O bond distances ranging 2.69–3.10 Å. four inequivalent Mg²⁺ sites. Mg²⁺ site, Mg²⁺ bonded six O²⁻ atoms form MgO₆ octahedra share corners two WO₆ octahedra, corners four PO₄ tetrahedra, faceface one KO₈ hexagonal bipyramid. corner-sharing octahedral tilt angles range [ANG]. spread Mg–O bond distances ranging 2.03–2.21 Å. Mg²⁺ site, Mg²⁺ bonded six O²⁻ atoms form MgO₆ octahedra share cornercorner one KO₈ hexagonal bipyramid, corners two WO₆ octahedra, corners four PO₄ tetrahedra. corner-sharing octahedral tilt angles range [ANG]. spread Mg–O bond distances ranging 2.08–2.13 Å. Mg²⁺ site, Mg²⁺ bonded six O²⁻ atoms form MgO₆ octahedra share corners two WO₆ octahedra corners four PO₄ tetrahedra. corner-sharing octahedral tilt angles range [ANG]. spread Mg–O bond distances ranging 2.06–2.17 Å. Mg²⁺ site, Mg²⁺ bonded six O²⁻ atoms form MgO₆ octahedra share corners two WO₆ octahedra, corners four PO₄ tetrahedra, faceface one KO₈ hexagonal bipyramid. corner-sharing octahedral tilt angles range [ANG]. spread Mg–O bond distances ranging 2.02–2.20 Å. four inequivalent W⁶⁺ sites. W⁶⁺ site, W⁶⁺ bonded six O²⁻ atoms form WO₆ octahedra share cornercorner one KO₈ hexagonal bipyramid, corners two MgO₆ octahedra, corners four PO₄ tetrahedra. corner-sharing octahedral tilt angles range [ANG]. spread W–O bond distances ranging 1.80–2.09 Å. W⁶⁺ site, W⁶⁺ bonded six O²⁻ atoms form WO₆ octahedra share corners two MgO₆ octahedra corners four PO₄ tetrahedra. corner-sharing octahedral tilt angles range [ANG]. spread W–O bond distances ranging 1.80–2.12 Å. W⁶⁺ site, W⁶⁺ bonded six O²⁻ atoms form WO₆ octahedra share corners two MgO₆ octahedra corners four PO₄ tetrahedra. corner-sharing octahedral tilt angles range [ANG]. spread W–O bond distances ranging 1.80–2.11 Å. W⁶⁺ site, W⁶⁺ bonded six O²⁻ atoms form WO₆ octahedra share corners two MgO₆ octahedra, corners four PO₄ tetrahedra, edgeedge one KO₈ hexagonal bipyramid. corner-sharing octahedral tilt angles range [ANG]. spread W–O bond distances ranging 1.80–2.12 Å. eight inequivalent P⁵⁺ sites. P⁵⁺ site, P⁵⁺ bonded four O²⁻ atoms form PO₄ tetrahedra share cornercorner one KO₈ hexagonal bipyramid, corners two MgO₆ octahedra, corners two WO₆ octahedra. corner-sharing octahedral tilt angles range [ANG]. spread P–O bond distances ranging 1.51–1.60 Å. P⁵⁺ site, P⁵⁺ bonded four O²⁻ atoms form PO₄ tetrahedra share corners two MgO₆ octahedra corners two WO₆ octahedra. corner-sharing octahedral tilt angles range [ANG]. spread P–O bond distances ranging 1.52–1.60 Å. P⁵⁺ site, P⁵⁺ bonded four O²⁻ atoms form PO₄ tetrahedra share cornercorner one KO₈ hexagonal bipyramid, corners two MgO₆ octahedra, corners two WO₆ octahedra. corner-sharing octahedral tilt angles range [ANG]. spread P–O bond distances ranging 1.52–1.60 Å. P⁵⁺ site, P⁵⁺ bonded four O²⁻ atoms form PO₄ tetrahedra share corners two MgO₆ octahedra corners two WO₆ octahedra. corner-sharing octahedral tilt angles range [ANG]. spread P–O bond distances ranging 1.51–1.60 Å. P⁵⁺ site, P⁵⁺ bonded four O²⁻ atoms form PO₄ tetrahedra share corners two MgO₆ octahedra, corners two WO₆ octahedra, edgeedge one KO₈ hexagonal bipyramid. corner-sharing octahedral tilt angles range [ANG]. spread P–O bond distances ranging 1.52–1.60 Å. P⁵⁺ site, P⁵⁺ bonded four O²⁻ atoms form PO₄ tetrahedra share corners two MgO₆ octahedra corners two WO₆ octahedra. corner-sharing octahedral tilt angles range [ANG]. spread P–O bond distances ranging 1.52–1.61 Å. P⁵⁺ site, P⁵⁺ bonded four O²⁻ atoms form PO₄ tetrahedra share corners two MgO₆ octahedra corners two WO₆ octahedra. corner-sharing octahedral tilt angles range [ANG]. spread P–O bond distances ranging 1.52–1.60 Å. P⁵⁺ site, P⁵⁺ bonded four O²⁻ atoms form PO₄ tetrahedra share corners two MgO₆ octahedra, corners two WO₆ octahedra, edgeedge one KO₈ hexagonal bipyramid. corner-sharing octahedral tilt angles range [ANG]. spread P–O bond distances ranging 1.52–1.60 Å. inequivalent O²⁻ sites. O²⁻ site, O²⁻ bonded 2-coordinate geometry one K¹⁺, one Mg²⁺, one W⁶⁺ atom. O²⁻ site, O²⁻ bonded distorted bent [ANG] geometry two K¹⁺, one Mg²⁺, one P⁵⁺ atom. O²⁻ site, O²⁻ bonded 3-coordinate geometry one K¹⁺, one Mg²⁺, one P⁵⁺ atom. O²⁻ site, O²⁻ bonded 2-coordinate geometry two K¹⁺, one Mg²⁺, one P⁵⁺ atom. O²⁻ site, O²⁻ bonded 1-coordinate geometry two K¹⁺, one W⁶⁺, one P⁵⁺ atom. O²⁻ site, O²⁻ bonded distorted bent [ANG] geometry three K¹⁺, one Mg²⁺, one P⁵⁺ atom. O²⁻ site, O²⁻ bonded 1-coordinate geometry two K¹⁺, one W⁶⁺, one P⁵⁺ atom. O²⁻ site, O²⁻ bonded 2-coordinate geometry one K¹⁺, one W⁶⁺, one P⁵⁺ atom. O²⁻ site, O²⁻ bonded 3-coordinate geometry one K¹⁺, one Mg²⁺, one W⁶⁺ atom. O²⁻ site, O²⁻ bonded 2-coordinate geometry one K¹⁺, one W⁶⁺, one P⁵⁺ atom. O²⁻ site, O²⁻ bonded 2-coordinate geometry one K¹⁺, one W⁶⁺, one P⁵⁺ atom. twelfth O²⁻ site, O²⁻ bonded 4-coordinate geometry two K¹⁺, one Mg²⁺, one P⁵⁺ atom. thirteenth O²⁻ site, O²⁻ bonded 2-coordinate geometry two K¹⁺, one W⁶⁺, one P⁵⁺ atom. fourteenth O²⁻ site, O²⁻ bonded 1-coordinate geometry two K¹⁺, one W⁶⁺, one P⁵⁺ atom. fifteenth O²⁻ site, O²⁻ bonded 3-coordinate geometry one K¹⁺, one Mg²⁺, one P⁵⁺ atom. sixteenth O²⁻ site, O²⁻ bonded distorted bent [ANG] geometry one K¹⁺, one W⁶⁺, one P⁵⁺ atom. seventeenth O²⁻ site, O²⁻ bonded 3-coordinate geometry one K¹⁺, one W⁶⁺, one P⁵⁺ atom. eighteenth O²⁻ site, O²⁻ bonded 3-coordinate geometry one K¹⁺, one W⁶⁺, one P⁵⁺ atom. nineteenth O²⁻ site, O²⁻ bonded 2-coordinate geometry one K¹⁺, one Mg²⁺, one P⁵⁺ atom. twentieth O²⁻ site, O²⁻ bonded 2-coordinate geometry one K¹⁺, one W⁶⁺, one P⁵⁺ atom. twenty-first O²⁻ site, O²⁻ bonded 3-coordinate geometry one K¹⁺, one Mg²⁺, one W⁶⁺ atom. twenty-second O²⁻ site, O²⁻ bonded 3-coordinate geometry one K¹⁺, one Mg²⁺, one W⁶⁺ atom. twenty-third O²⁻ site, O²⁻ bonded 1-coordinate geometry two K¹⁺, one W⁶⁺, one P⁵⁺ atom. twenty-fourth O²⁻ site, O²⁻ bonded 2-coordinate geometry one K¹⁺, one Mg²⁺, one W⁶⁺ atom. twenty-fifth O²⁻ site, O²⁻ bonded 3-coordinate geometry one K¹⁺, one Mg²⁺, one P⁵⁺ atom. twenty-sixth O²⁻ site, O²⁻ bonded 3-coordinate geometry one K¹⁺, one W⁶⁺, one P⁵⁺ atom. twenty-seventh O²⁻ site, O²⁻ bonded 4-coordinate geometry two K¹⁺, one Mg²⁺, one P⁵⁺ atom. twenty-eighth O²⁻ site, O²⁻ bonded 2-coordinate geometry two K¹⁺, one Mg²⁺, one P⁵⁺ atom. twenty-ninth O²⁻ site, O²⁻ bonded 4-coordinate geometry two K¹⁺, one Mg²⁺, one P⁵⁺ atom. thirtieth O²⁻ site, O²⁻ bonded 2-coordinate geometry two K¹⁺, one Mg²⁺, one W⁶⁺ atom. thirty-first O²⁻ site, O²⁻ bonded 1-coordinate geometry two K¹⁺, one W⁶⁺, one P⁵⁺ atom. thirty-second O²⁻ site, O²⁻ bonded 2-coordinate geometry two K¹⁺, one Mg²⁺, one P⁵⁺ atom. thirty-third O²⁻ site, O²⁻ bonded 2-coordinate geometry one K¹⁺, one Mg²⁺, one W⁶⁺ atom. thirty-fourth O²⁻ site, O²⁻ bonded 3-coordinate geometry one K¹⁺, one Mg²⁺, one P⁵⁺ atom. thirty-fifth O²⁻ site, O²⁻ bonded 2-coordinate geometry two K¹⁺, one Mg²⁺, one P⁵⁺ atom. thirty-sixth O²⁻ site, O²⁻ bonded 2-coordinate geometry two K¹⁺, one Mg²⁺, one P⁵⁺ atom. thirty-seventh O²⁻ site, O²⁻ bonded 3-coordinate geometry one K¹⁺, one Mg²⁺, one W⁶⁺ atom. thirty-eighth O²⁻ site, O²⁻ bonded 3-coordinate geometry one K¹⁺, one W⁶⁺, one P⁵⁺ atom. thirty-ninth O²⁻ site, O²⁻ bonded 1-coordinate geometry two K¹⁺, one W⁶⁺, one P⁵⁺ atom. fortieth O²⁻ site, O²⁻ bonded 2-coordinate geometry two K¹⁺, one Mg²⁺, one P⁵⁺ atom.\n",
      "[('', ''), ('', ''), ('', ''), ('', ''), ('', ''), ('', ''), ('', ''), ('', ''), ('', ''), ('', ''), ('', ''), ('', ''), ('', ''), ('', ''), ('', ''), ('', ''), ('', '')]\n",
      "[('', ''), ('', ''), ('', '')]\n",
      "['54–58°', '45–47°', '44–45°', '44–46°', '46–48°', '45–46°', '45–46°', '44–47°', '44–48°', '45–52°', '38–52°', '40–50°', '44–51°', '40–53°', '43–51°', '46–50°', '44–53°']\n",
      "['120 degrees', '120 degrees', '150 degrees']\n"
     ]
    }
   ],
   "source": [
    "\n",
    "print(np_sentence)\n",
    "mnp = re.sub(r\"\\d+(\\.\\d+)?(?:–\\d+(\\.\\d+)?)?\\s*°\", \"[ANG]\", np_sentence)\n",
    "mnp = re.sub(r\"\\d+(\\.\\d+)?(?:–\\d+(\\.\\d+)?)?\\s*degrees\", \"[ANG]\", mnp)\n",
    "print(mnp)\n",
    "\n",
    "rad = re.findall(r\"\\d+(\\.\\d+)?(?:–\\d+(\\.\\d+)?)?\\s*°\",np_sentence)\n",
    "print(rad)\n",
    "degrees = re.findall(r\"\\d+(\\.\\d+)?(?:–\\d+(\\.\\d+)?)?\\s*degrees\",np_sentence)\n",
    "print(degrees)\n",
    "dr  = re.findall(r\"\\d+(?:\\.\\d+)?(?:–\\d+(?:\\.\\d+)?)?\\s*°\", np_sentence)\n",
    "print(dr)\n",
    "dd  = re.findall(r\"\\d+(?:\\.\\d+)?(?:–\\d+(?:\\.\\d+)?)?\\s*degrees\", np_sentence)\n",
    "print(dd)"
   ]
  },
  {
   "cell_type": "code",
   "execution_count": null,
   "metadata": {},
   "outputs": [],
   "source": [
    "def extract_bond_lengths(sentence, padding = 3):\n",
    "    \"extract at most X= padding  bond lengths from the sentence\"\n",
    "    \"If ranges, take the upper value\"\n",
    "    matches = re.findall(r\"\\d+(?:\\.\\d+)?(?:–\\d+(?:\\.\\d+)?)?\\s*Å\",sentence)\n",
    "    final_tokens = []\n",
    "    for match in matches[:padding]:\n",
    "        if '–' not in match:\n",
    "            final_tokens.append(float(match.split(' ')[0]))\n",
    "        else:\n",
    "            numbers = re.findall(r\"\\d+(?:\\.\\d+)?\",match)\n",
    "            if len(numbers) == 2:\n",
    "                a,b = float(numbers[0]),float(numbers[1])\n",
    "                final_tokens.append(round((a+b)/2,2))\n",
    "            else:\n",
    "                continue\n",
    "\n",
    "    if len(final_tokens) < padding:\n",
    "        final_tokens += [0.0] * (padding - len(final_tokens))\n",
    "    return final_tokens"
   ]
  },
  {
   "cell_type": "code",
   "execution_count": 130,
   "metadata": {},
   "outputs": [
    {
     "name": "stdout",
     "output_type": "stream",
     "text": [
      "K₂MgWO₂(PO₄)₂ crystallizes triclinic P1 space group. eight inequivalent K¹⁺ sites. K¹⁺ site, K¹⁺ bonded 5-coordinate geometry five O²⁻ atoms. spread K–O bond distances ranging 2.65–2.86 Å. K¹⁺ site, K¹⁺ bonded 8-coordinate geometry eight O²⁻ atoms. spread K–O bond distances ranging 2.70–3.35 Å. K¹⁺ site, K¹⁺ bonded 8-coordinate geometry eight O²⁻ atoms. spread K–O bond distances ranging 2.68–3.28 Å. K¹⁺ site, K¹⁺ bonded 7-coordinate geometry seven O²⁻ atoms. spread K–O bond distances ranging 2.68–3.41 Å. K¹⁺ site, K¹⁺ bonded eight O²⁻ atoms form distorted KO₈ hexagonal bipyramids share cornercorner one MgO₆ octahedra, cornercorner one WO₆ octahedra, corners two PO₄ tetrahedra, edgeedge one WO₆ octahedra, edges two PO₄ tetrahedra, two MgO₆ octahedra. corner-sharing octahedral tilt angles range 54–58°. spread K–O bond distances ranging 2.64–3.12 Å. K¹⁺ site, K¹⁺ bonded 8-coordinate geometry eight O²⁻ atoms. spread K–O bond distances ranging 2.62–3.28 Å. K¹⁺ site, K¹⁺ bonded 8-coordinate geometry eight O²⁻ atoms. spread K–O bond distances ranging 2.65–3.25 Å. K¹⁺ site, K¹⁺ bonded 8-coordinate geometry eight O²⁻ atoms. spread K–O bond distances ranging 2.69–3.10 Å. four inequivalent Mg²⁺ sites. Mg²⁺ site, Mg²⁺ bonded six O²⁻ atoms form MgO₆ octahedra share corners two WO₆ octahedra, corners four PO₄ tetrahedra, faceface one KO₈ hexagonal bipyramid. corner-sharing octahedral tilt angles range 45–47°. spread Mg–O bond distances ranging 2.03–2.21 Å. Mg²⁺ site, Mg²⁺ bonded six O²⁻ atoms form MgO₆ octahedra share cornercorner one KO₈ hexagonal bipyramid, corners two WO₆ octahedra, corners four PO₄ tetrahedra. corner-sharing octahedral tilt angles range 44–45°. spread Mg–O bond distances ranging 2.08–2.13 Å. Mg²⁺ site, Mg²⁺ bonded six O²⁻ atoms form MgO₆ octahedra share corners two WO₆ octahedra corners four PO₄ tetrahedra. corner-sharing octahedral tilt angles range 44–46°. spread Mg–O bond distances ranging 2.06–2.17 Å. Mg²⁺ site, Mg²⁺ bonded six O²⁻ atoms form MgO₆ octahedra share corners two WO₆ octahedra, corners four PO₄ tetrahedra, faceface one KO₈ hexagonal bipyramid. corner-sharing octahedral tilt angles range 46–48°. spread Mg–O bond distances ranging 2.02–2.20 Å. four inequivalent W⁶⁺ sites. W⁶⁺ site, W⁶⁺ bonded six O²⁻ atoms form WO₆ octahedra share cornercorner one KO₈ hexagonal bipyramid, corners two MgO₆ octahedra, corners four PO₄ tetrahedra. corner-sharing octahedral tilt angles range 45–46°. spread W–O bond distances ranging 1.80–2.09 Å. W⁶⁺ site, W⁶⁺ bonded six O²⁻ atoms form WO₆ octahedra share corners two MgO₆ octahedra corners four PO₄ tetrahedra. corner-sharing octahedral tilt angles range 45–46°. spread W–O bond distances ranging 1.80–2.12 Å. W⁶⁺ site, W⁶⁺ bonded six O²⁻ atoms form WO₆ octahedra share corners two MgO₆ octahedra corners four PO₄ tetrahedra. corner-sharing octahedral tilt angles range 44–47°. spread W–O bond distances ranging 1.80–2.11 Å. W⁶⁺ site, W⁶⁺ bonded six O²⁻ atoms form WO₆ octahedra share corners two MgO₆ octahedra, corners four PO₄ tetrahedra, edgeedge one KO₈ hexagonal bipyramid. corner-sharing octahedral tilt angles range 44–48°. spread W–O bond distances ranging 1.80–2.12 Å. eight inequivalent P⁵⁺ sites. P⁵⁺ site, P⁵⁺ bonded four O²⁻ atoms form PO₄ tetrahedra share cornercorner one KO₈ hexagonal bipyramid, corners two MgO₆ octahedra, corners two WO₆ octahedra. corner-sharing octahedral tilt angles range 45–52°. spread P–O bond distances ranging 1.51–1.60 Å. P⁵⁺ site, P⁵⁺ bonded four O²⁻ atoms form PO₄ tetrahedra share corners two MgO₆ octahedra corners two WO₆ octahedra. corner-sharing octahedral tilt angles range 38–52°. spread P–O bond distances ranging 1.52–1.60 Å. P⁵⁺ site, P⁵⁺ bonded four O²⁻ atoms form PO₄ tetrahedra share cornercorner one KO₈ hexagonal bipyramid, corners two MgO₆ octahedra, corners two WO₆ octahedra. corner-sharing octahedral tilt angles range 40–50°. spread P–O bond distances ranging 1.52–1.60 Å. P⁵⁺ site, P⁵⁺ bonded four O²⁻ atoms form PO₄ tetrahedra share corners two MgO₆ octahedra corners two WO₆ octahedra. corner-sharing octahedral tilt angles range 44–51°. spread P–O bond distances ranging 1.51–1.60 Å. P⁵⁺ site, P⁵⁺ bonded four O²⁻ atoms form PO₄ tetrahedra share corners two MgO₆ octahedra, corners two WO₆ octahedra, edgeedge one KO₈ hexagonal bipyramid. corner-sharing octahedral tilt angles range 40–53°. spread P–O bond distances ranging 1.52–1.60 Å. P⁵⁺ site, P⁵⁺ bonded four O²⁻ atoms form PO₄ tetrahedra share corners two MgO₆ octahedra corners two WO₆ octahedra. corner-sharing octahedral tilt angles range 43–51°. spread P–O bond distances ranging 1.52–1.61 Å. P⁵⁺ site, P⁵⁺ bonded four O²⁻ atoms form PO₄ tetrahedra share corners two MgO₆ octahedra corners two WO₆ octahedra. corner-sharing octahedral tilt angles range 46–50°. spread P–O bond distances ranging 1.52–1.60 Å. P⁵⁺ site, P⁵⁺ bonded four O²⁻ atoms form PO₄ tetrahedra share corners two MgO₆ octahedra, corners two WO₆ octahedra, edgeedge one KO₈ hexagonal bipyramid. corner-sharing octahedral tilt angles range 44–53°. spread P–O bond distances ranging 1.52–1.60 Å. inequivalent O²⁻ sites. O²⁻ site, O²⁻ bonded 2-coordinate geometry one K¹⁺, one Mg²⁺, one W⁶⁺ atom. O²⁻ site, O²⁻ bonded distorted bent 120 degrees geometry two K¹⁺, one Mg²⁺, one P⁵⁺ atom. O²⁻ site, O²⁻ bonded 3-coordinate geometry one K¹⁺, one Mg²⁺, one P⁵⁺ atom. O²⁻ site, O²⁻ bonded 2-coordinate geometry two K¹⁺, one Mg²⁺, one P⁵⁺ atom. O²⁻ site, O²⁻ bonded 1-coordinate geometry two K¹⁺, one W⁶⁺, one P⁵⁺ atom. O²⁻ site, O²⁻ bonded distorted bent 120 degrees geometry three K¹⁺, one Mg²⁺, one P⁵⁺ atom. O²⁻ site, O²⁻ bonded 1-coordinate geometry two K¹⁺, one W⁶⁺, one P⁵⁺ atom. O²⁻ site, O²⁻ bonded 2-coordinate geometry one K¹⁺, one W⁶⁺, one P⁵⁺ atom. O²⁻ site, O²⁻ bonded 3-coordinate geometry one K¹⁺, one Mg²⁺, one W⁶⁺ atom. O²⁻ site, O²⁻ bonded 2-coordinate geometry one K¹⁺, one W⁶⁺, one P⁵⁺ atom. O²⁻ site, O²⁻ bonded 2-coordinate geometry one K¹⁺, one W⁶⁺, one P⁵⁺ atom. twelfth O²⁻ site, O²⁻ bonded 4-coordinate geometry two K¹⁺, one Mg²⁺, one P⁵⁺ atom. thirteenth O²⁻ site, O²⁻ bonded 2-coordinate geometry two K¹⁺, one W⁶⁺, one P⁵⁺ atom. fourteenth O²⁻ site, O²⁻ bonded 1-coordinate geometry two K¹⁺, one W⁶⁺, one P⁵⁺ atom. fifteenth O²⁻ site, O²⁻ bonded 3-coordinate geometry one K¹⁺, one Mg²⁺, one P⁵⁺ atom. sixteenth O²⁻ site, O²⁻ bonded distorted bent 150 degrees geometry one K¹⁺, one W⁶⁺, one P⁵⁺ atom. seventeenth O²⁻ site, O²⁻ bonded 3-coordinate geometry one K¹⁺, one W⁶⁺, one P⁵⁺ atom. eighteenth O²⁻ site, O²⁻ bonded 3-coordinate geometry one K¹⁺, one W⁶⁺, one P⁵⁺ atom. nineteenth O²⁻ site, O²⁻ bonded 2-coordinate geometry one K¹⁺, one Mg²⁺, one P⁵⁺ atom. twentieth O²⁻ site, O²⁻ bonded 2-coordinate geometry one K¹⁺, one W⁶⁺, one P⁵⁺ atom. twenty-first O²⁻ site, O²⁻ bonded 3-coordinate geometry one K¹⁺, one Mg²⁺, one W⁶⁺ atom. twenty-second O²⁻ site, O²⁻ bonded 3-coordinate geometry one K¹⁺, one Mg²⁺, one W⁶⁺ atom. twenty-third O²⁻ site, O²⁻ bonded 1-coordinate geometry two K¹⁺, one W⁶⁺, one P⁵⁺ atom. twenty-fourth O²⁻ site, O²⁻ bonded 2-coordinate geometry one K¹⁺, one Mg²⁺, one W⁶⁺ atom. twenty-fifth O²⁻ site, O²⁻ bonded 3-coordinate geometry one K¹⁺, one Mg²⁺, one P⁵⁺ atom. twenty-sixth O²⁻ site, O²⁻ bonded 3-coordinate geometry one K¹⁺, one W⁶⁺, one P⁵⁺ atom. twenty-seventh O²⁻ site, O²⁻ bonded 4-coordinate geometry two K¹⁺, one Mg²⁺, one P⁵⁺ atom. twenty-eighth O²⁻ site, O²⁻ bonded 2-coordinate geometry two K¹⁺, one Mg²⁺, one P⁵⁺ atom. twenty-ninth O²⁻ site, O²⁻ bonded 4-coordinate geometry two K¹⁺, one Mg²⁺, one P⁵⁺ atom. thirtieth O²⁻ site, O²⁻ bonded 2-coordinate geometry two K¹⁺, one Mg²⁺, one W⁶⁺ atom. thirty-first O²⁻ site, O²⁻ bonded 1-coordinate geometry two K¹⁺, one W⁶⁺, one P⁵⁺ atom. thirty-second O²⁻ site, O²⁻ bonded 2-coordinate geometry two K¹⁺, one Mg²⁺, one P⁵⁺ atom. thirty-third O²⁻ site, O²⁻ bonded 2-coordinate geometry one K¹⁺, one Mg²⁺, one W⁶⁺ atom. thirty-fourth O²⁻ site, O²⁻ bonded 3-coordinate geometry one K¹⁺, one Mg²⁺, one P⁵⁺ atom. thirty-fifth O²⁻ site, O²⁻ bonded 2-coordinate geometry two K¹⁺, one Mg²⁺, one P⁵⁺ atom. thirty-sixth O²⁻ site, O²⁻ bonded 2-coordinate geometry two K¹⁺, one Mg²⁺, one P⁵⁺ atom. thirty-seventh O²⁻ site, O²⁻ bonded 3-coordinate geometry one K¹⁺, one Mg²⁺, one W⁶⁺ atom. thirty-eighth O²⁻ site, O²⁻ bonded 3-coordinate geometry one K¹⁺, one W⁶⁺, one P⁵⁺ atom. thirty-ninth O²⁻ site, O²⁻ bonded 1-coordinate geometry two K¹⁺, one W⁶⁺, one P⁵⁺ atom. fortieth O²⁻ site, O²⁻ bonded 2-coordinate geometry two K¹⁺, one Mg²⁺, one P⁵⁺ atom.\n",
      "['54–58', '45–47', '44–45', '44–46', '46–48', '45–46', '45–46', '44–47', '44–48', '45–52', '38–52', '40–50', '44–51', '40–53', '43–51', '46–50', '44–53']\n",
      "['120', '120', '150']\n",
      "[56.0, 46.0, 44.5]\n",
      "[56.0, 46.0, 44.5, 120.0]\n"
     ]
    }
   ],
   "source": [
    "print(np_sentence)\n",
    "padding_rad,padding_degree  = 3,1\n",
    "final_tokens = []\n",
    "# rad_tokens = re.findall(r\"\\d+(?:\\.\\d+)?(?:–\\d+(?:\\.\\d+)?)?\\s*°\", np_sentence)\n",
    "rad_tokens = re.findall(r\"\\d+(?:\\.\\d+)?(?:–\\d+(?:\\.\\d+)?)?(?=\\s*°)\", np_sentence) #not getting the ° token, nor the space\n",
    "# rad_tokens= re.findall(r\"\\d+(?:\\.\\d+)?(?=\\s*°)\", np_sentence)\n",
    "# degree_tokens = re.findall(r\"\\d+(?:\\.\\d+)?(?:–\\d+(?:\\.\\d+)?)?\\s*degrees\", np_sentence)\n",
    "degree_tokens = re.findall(r\"\\d+(?:\\.\\d+)?(?:–\\d+(?:\\.\\d+)?)?(?=\\s*degrees)\", np_sentence) #not getting the degree token, nor the space\n",
    "print(rad_tokens)\n",
    "print(degree_tokens)\n",
    "for match in rad_tokens[:padding_rad]:\n",
    "    if '–' not in match:\n",
    "        final_tokens.append(float(match))\n",
    "    else:\n",
    "        numbers = re.findall(r\"\\d+(?:\\.\\d+)?\",match)\n",
    "        if len(numbers) == 2:\n",
    "            a,b = float(numbers[0]),float(numbers[1])\n",
    "            final_tokens.append(round((a+b)/2,2))\n",
    "        else:\n",
    "            continue\n",
    "#padding to padding_rad\n",
    "if len(final_tokens) < padding_rad:\n",
    "    final_tokens += [0.0] * (padding_rad - len(final_tokens))\n",
    "print(final_tokens)\n",
    "\n",
    "for match in degree_tokens[:padding_degree]:\n",
    "    if '–' not in match:\n",
    "        final_tokens.append(float(match))\n",
    "    else:\n",
    "        numbers = re.findall(r\"\\d+(?:\\.\\d+)?\",match)\n",
    "        if len(numbers) == 2:\n",
    "            a,b = float(numbers[0]),float(numbers[1])\n",
    "            final_tokens.append(round((a+b)/2,2))\n",
    "        else:\n",
    "            continue\n",
    "#padding to padding_degree\n",
    "if len(final_tokens) < padding_rad + padding_degree:\n",
    "    final_tokens += [0.0] * (padding_degree +padding_rad - len(final_tokens))\n",
    "\n",
    "print(final_tokens)"
   ]
  },
  {
   "cell_type": "code",
   "execution_count": 82,
   "metadata": {},
   "outputs": [
    {
     "name": "stdout",
     "output_type": "stream",
     "text": [
      "2.05 2.16\n",
      "2.12 2.15\n"
     ]
    },
    {
     "data": {
      "text/plain": [
       "[2.1, 2.1, 2.14, 2.12, 2.14, 2.06, 2.15, 2.13]"
      ]
     },
     "execution_count": 82,
     "metadata": {},
     "output_type": "execute_result"
    }
   ],
   "source": [
    "# re.sub(r\"\\d+(\\.\\d+)?(?:–\\d+(\\.\\d+)?)?\\s*Å\",\"[NUM]\",sentence)\n",
    "padding  = 8\n",
    "matches = re.findall(r\"\\d+(?:\\.\\d+)?(?:–\\d+(?:\\.\\d+)?)?\\s*Å\",np_sentence)\n",
    "final_tokens = []\n",
    "for match in matches:\n",
    "    if '–' not in match:\n",
    "        final_tokens.append(float(match.split(' ')[0]))\n",
    "        if len(final_tokens) == padding:\n",
    "            break\n",
    "    else:\n",
    "        numbers = re.findall(r\"\\d+(?:\\.\\d+)?\",match)\n",
    "        if len(numbers) == 2:\n",
    "            a,b = float(numbers[0]),float(numbers[1])\n",
    "            print(a,b)\n",
    "            final_tokens.append(round((a+b)/2,2))\n",
    "            # final_tokens += ([float(num) for num in numbers])\n",
    "            if len(final_tokens) == padding:\n",
    "                break\n",
    "        else:\n",
    "            continue\n",
    "\n",
    "if len(final_tokens) < padding:\n",
    "    final_tokens += [0.0] * (padding - len(final_tokens))\n",
    "final_tokens"
   ]
  },
  {
   "cell_type": "code",
   "execution_count": 65,
   "metadata": {},
   "outputs": [],
   "source": [
    "def replace_bond_lengths_and_angles_with_num_and_ang(sentence):\n",
    "    sentence = re.sub(r\"\\d+(\\.\\d+)?(?:–\\d+(\\.\\d+)?)?\\s*Å\", \"[NUM]\", sentence) # Regex pattern to match bond lengths and units\n",
    "    sentence = re.sub(r\"\\d+(\\.\\d+)?(?:–\\d+(\\.\\d+)?)?\\s*°\", \"[ANG]\", sentence) # Regex pattern to match angles and units\n",
    "    sentence = re.sub(r\"\\d+(\\.\\d+)?(?:–\\d+(\\.\\d+)?)?\\s*degrees\", \"[ANG]\", sentence) # Regex pattern to match angles and units\n",
    "    return sentence.strip()"
   ]
  },
  {
   "cell_type": "code",
   "execution_count": null,
   "metadata": {},
   "outputs": [],
   "source": []
  },
  {
   "cell_type": "code",
   "execution_count": 31,
   "metadata": {},
   "outputs": [
    {
     "data": {
      "text/html": [
       "<div>\n",
       "<style scoped>\n",
       "    .dataframe tbody tr th:only-of-type {\n",
       "        vertical-align: middle;\n",
       "    }\n",
       "\n",
       "    .dataframe tbody tr th {\n",
       "        vertical-align: top;\n",
       "    }\n",
       "\n",
       "    .dataframe thead th {\n",
       "        text-align: right;\n",
       "    }\n",
       "</style>\n",
       "<table border=\"1\" class=\"dataframe\">\n",
       "  <thead>\n",
       "    <tr style=\"text-align: right;\">\n",
       "      <th></th>\n",
       "      <th>material_id</th>\n",
       "      <th>formula</th>\n",
       "      <th>cif_structure</th>\n",
       "      <th>description</th>\n",
       "      <th>band_gap</th>\n",
       "      <th>volume</th>\n",
       "      <th>is_gap_direct</th>\n",
       "    </tr>\n",
       "  </thead>\n",
       "  <tbody>\n",
       "    <tr>\n",
       "      <th>0</th>\n",
       "      <td>mp-1519998</td>\n",
       "      <td>KPrMnNbO6</td>\n",
       "      <td># generated using pymatgen\\ndata_KPrMnNbO6\\n_s...</td>\n",
       "      <td>KPrNbMnO₆ (Cubic) Perovskite-derived structure...</td>\n",
       "      <td>0.0000</td>\n",
       "      <td>128.624052</td>\n",
       "      <td>False</td>\n",
       "    </tr>\n",
       "    <tr>\n",
       "      <th>1</th>\n",
       "      <td>mp-1038035</td>\n",
       "      <td>Mg30MnSiO32</td>\n",
       "      <td># generated using pymatgen\\ndata_Mg30MnSiO32\\n...</td>\n",
       "      <td>Mg₃₀MnSiO₃₂ alpha Po-derived structured crysta...</td>\n",
       "      <td>1.9765</td>\n",
       "      <td>624.296565</td>\n",
       "      <td>False</td>\n",
       "    </tr>\n",
       "    <tr>\n",
       "      <th>2</th>\n",
       "      <td>mp-1206636</td>\n",
       "      <td>SrTl3</td>\n",
       "      <td># generated using pymatgen\\ndata_SrTl3\\n_symme...</td>\n",
       "      <td>SrTl₃ Uranium Silicide structured crystallizes...</td>\n",
       "      <td>0.0000</td>\n",
       "      <td>120.860598</td>\n",
       "      <td>False</td>\n",
       "    </tr>\n",
       "    <tr>\n",
       "      <th>3</th>\n",
       "      <td>mp-555398</td>\n",
       "      <td>K2MgP2WO10</td>\n",
       "      <td># generated using pymatgen\\ndata_K2MgP2WO10\\n_...</td>\n",
       "      <td>K₂MgWO₂(PO₄)₂ crystallizes triclinic P1 space ...</td>\n",
       "      <td>3.4571</td>\n",
       "      <td>942.118297</td>\n",
       "      <td>False</td>\n",
       "    </tr>\n",
       "    <tr>\n",
       "      <th>4</th>\n",
       "      <td>mp-642803</td>\n",
       "      <td>Zr2HBr2</td>\n",
       "      <td># generated using pymatgen\\ndata_Zr2HBr2\\n_sym...</td>\n",
       "      <td>Zr₂HBr₂ crystallizes monoclinic C2/m space gro...</td>\n",
       "      <td>0.0000</td>\n",
       "      <td>212.606592</td>\n",
       "      <td>False</td>\n",
       "    </tr>\n",
       "    <tr>\n",
       "      <th>...</th>\n",
       "      <td>...</td>\n",
       "      <td>...</td>\n",
       "      <td>...</td>\n",
       "      <td>...</td>\n",
       "      <td>...</td>\n",
       "      <td>...</td>\n",
       "      <td>...</td>\n",
       "    </tr>\n",
       "    <tr>\n",
       "      <th>95</th>\n",
       "      <td>mp-1221849</td>\n",
       "      <td>Mn4P6SN12</td>\n",
       "      <td># generated using pymatgen\\ndata_Mn4P6SN12\\n_s...</td>\n",
       "      <td>Mn₄P₆N₁₂S crystallizes tetragonal I̅42m space ...</td>\n",
       "      <td>0.0000</td>\n",
       "      <td>233.783450</td>\n",
       "      <td>False</td>\n",
       "    </tr>\n",
       "    <tr>\n",
       "      <th>96</th>\n",
       "      <td>mp-684427</td>\n",
       "      <td>LiSb(PO3)4</td>\n",
       "      <td># generated using pymatgen\\ndata_LiSb(PO3)4\\n_...</td>\n",
       "      <td>LiSb(PO₃)₄ crystallizes monoclinic P2₁/c space...</td>\n",
       "      <td>4.5327</td>\n",
       "      <td>945.706367</td>\n",
       "      <td>False</td>\n",
       "    </tr>\n",
       "    <tr>\n",
       "      <th>97</th>\n",
       "      <td>mp-1193049</td>\n",
       "      <td>Cs2Sn(HO2)6</td>\n",
       "      <td># generated using pymatgen\\ndata_Cs2Sn(HO2)6\\n...</td>\n",
       "      <td>Cs₂Sn(HO₂)₆ crystallizes trigonal P̅3 space gr...</td>\n",
       "      <td>2.5642</td>\n",
       "      <td>273.022836</td>\n",
       "      <td>False</td>\n",
       "    </tr>\n",
       "    <tr>\n",
       "      <th>98</th>\n",
       "      <td>mp-9732</td>\n",
       "      <td>BaNaP</td>\n",
       "      <td># generated using pymatgen\\ndata_BaNaP\\n_symme...</td>\n",
       "      <td>NaBaP crystallizes hexagonal P̅62m space group...</td>\n",
       "      <td>0.8555</td>\n",
       "      <td>258.402162</td>\n",
       "      <td>True</td>\n",
       "    </tr>\n",
       "    <tr>\n",
       "      <th>99</th>\n",
       "      <td>mp-1046947</td>\n",
       "      <td>MgSi2SnO6</td>\n",
       "      <td># generated using pymatgen\\ndata_MgSi2SnO6\\n_s...</td>\n",
       "      <td>MgSnSi₂O₆ crystallizes monoclinic C2/c space g...</td>\n",
       "      <td>2.9969</td>\n",
       "      <td>275.354318</td>\n",
       "      <td>False</td>\n",
       "    </tr>\n",
       "  </tbody>\n",
       "</table>\n",
       "<p>100 rows × 7 columns</p>\n",
       "</div>"
      ],
      "text/plain": [
       "   material_id      formula   \n",
       "0   mp-1519998    KPrMnNbO6  \\\n",
       "1   mp-1038035  Mg30MnSiO32   \n",
       "2   mp-1206636        SrTl3   \n",
       "3    mp-555398   K2MgP2WO10   \n",
       "4    mp-642803      Zr2HBr2   \n",
       "..         ...          ...   \n",
       "95  mp-1221849    Mn4P6SN12   \n",
       "96   mp-684427   LiSb(PO3)4   \n",
       "97  mp-1193049  Cs2Sn(HO2)6   \n",
       "98     mp-9732        BaNaP   \n",
       "99  mp-1046947    MgSi2SnO6   \n",
       "\n",
       "                                        cif_structure   \n",
       "0   # generated using pymatgen\\ndata_KPrMnNbO6\\n_s...  \\\n",
       "1   # generated using pymatgen\\ndata_Mg30MnSiO32\\n...   \n",
       "2   # generated using pymatgen\\ndata_SrTl3\\n_symme...   \n",
       "3   # generated using pymatgen\\ndata_K2MgP2WO10\\n_...   \n",
       "4   # generated using pymatgen\\ndata_Zr2HBr2\\n_sym...   \n",
       "..                                                ...   \n",
       "95  # generated using pymatgen\\ndata_Mn4P6SN12\\n_s...   \n",
       "96  # generated using pymatgen\\ndata_LiSb(PO3)4\\n_...   \n",
       "97  # generated using pymatgen\\ndata_Cs2Sn(HO2)6\\n...   \n",
       "98  # generated using pymatgen\\ndata_BaNaP\\n_symme...   \n",
       "99  # generated using pymatgen\\ndata_MgSi2SnO6\\n_s...   \n",
       "\n",
       "                                          description  band_gap      volume   \n",
       "0   KPrNbMnO₆ (Cubic) Perovskite-derived structure...    0.0000  128.624052  \\\n",
       "1   Mg₃₀MnSiO₃₂ alpha Po-derived structured crysta...    1.9765  624.296565   \n",
       "2   SrTl₃ Uranium Silicide structured crystallizes...    0.0000  120.860598   \n",
       "3   K₂MgWO₂(PO₄)₂ crystallizes triclinic P1 space ...    3.4571  942.118297   \n",
       "4   Zr₂HBr₂ crystallizes monoclinic C2/m space gro...    0.0000  212.606592   \n",
       "..                                                ...       ...         ...   \n",
       "95  Mn₄P₆N₁₂S crystallizes tetragonal I̅42m space ...    0.0000  233.783450   \n",
       "96  LiSb(PO₃)₄ crystallizes monoclinic P2₁/c space...    4.5327  945.706367   \n",
       "97  Cs₂Sn(HO₂)₆ crystallizes trigonal P̅3 space gr...    2.5642  273.022836   \n",
       "98  NaBaP crystallizes hexagonal P̅62m space group...    0.8555  258.402162   \n",
       "99  MgSnSi₂O₆ crystallizes monoclinic C2/c space g...    2.9969  275.354318   \n",
       "\n",
       "   is_gap_direct  \n",
       "0          False  \n",
       "1          False  \n",
       "2          False  \n",
       "3          False  \n",
       "4          False  \n",
       "..           ...  \n",
       "95         False  \n",
       "96         False  \n",
       "97         False  \n",
       "98          True  \n",
       "99         False  \n",
       "\n",
       "[100 rows x 7 columns]"
      ]
     },
     "execution_count": 31,
     "metadata": {},
     "output_type": "execute_result"
    }
   ],
   "source": [
    "test_data"
   ]
  },
  {
   "cell_type": "code",
   "execution_count": null,
   "metadata": {},
   "outputs": [
    {
     "data": {
      "text/plain": [
       "'no_stopwords_and_lengths_and_angles_replaced'"
      ]
     },
     "execution_count": 29,
     "metadata": {},
     "output_type": "execute_result"
    }
   ],
   "source": []
  },
  {
   "cell_type": "markdown",
   "metadata": {},
   "source": [
    "## Making smaller dataframes"
   ]
  },
  {
   "cell_type": "code",
   "execution_count": 1,
   "metadata": {},
   "outputs": [],
   "source": [
    "import pandas as pd"
   ]
  },
  {
   "cell_type": "code",
   "execution_count": 2,
   "metadata": {},
   "outputs": [
    {
     "name": "stdout",
     "output_type": "stream",
     "text": [
      "train shape: (125098, 7)\n",
      "val shape: (9945, 7)\n",
      "test shape: (11531, 7)\n"
     ]
    }
   ],
   "source": [
    "train = pd.read_csv('data/train_no_stopwords_and_lengths_and_angles_replaced.csv')\n",
    "val = pd.read_csv('data/validation_no_stopwords_and_lengths_and_angles_replaced.csv')\n",
    "test = pd.read_csv('data/test_no_stopwords_and_lengths_and_angles_replaced.csv')\n",
    "\n",
    "#print all shapes\n",
    "print('train shape:', train.shape)\n",
    "print('val shape:', val.shape)\n",
    "print('test shape:', test.shape)\n"
   ]
  },
  {
   "cell_type": "code",
   "execution_count": 3,
   "metadata": {},
   "outputs": [
    {
     "name": "stdout",
     "output_type": "stream",
     "text": [
      "(50, 7) (50, 7) (50, 7)\n",
      "50 done\n",
      "(100, 7) (100, 7) (100, 7)\n",
      "100 done\n",
      "(500, 7) (500, 7) (500, 7)\n",
      "500 done\n",
      "(1000, 7) (1000, 7) (1000, 7)\n",
      "1000 done\n",
      "(5000, 7) (5000, 7) (5000, 7)\n",
      "5000 done\n"
     ]
    }
   ],
   "source": [
    "\n",
    "# for i, limit in enumerate([50,100,500,1000]):\n",
    "for i, limit in enumerate([50,100,500,1000,5000]):\n",
    "    train2 = train[:limit]\n",
    "    val2 = val[:limit]\n",
    "    test2 = test[:limit]\n",
    "    print(train2.shape, val2.shape, test2.shape)\n",
    "    train2.to_csv(f'data/train_pp_{limit}.csv', index=False)\n",
    "    val2.to_csv(f'data/val_pp_{limit}.csv', index=False)\n",
    "    test2.to_csv(f'data/test_pp_{limit}.csv', index=False)\n",
    "    print(f'{limit} done')"
   ]
  },
  {
   "cell_type": "code",
   "execution_count": 4,
   "metadata": {},
   "outputs": [],
   "source": [
    "tv = pd.read_csv('data/val_pp_500.csv')\n",
    "tr = pd.read_csv('data/train_pp_500.csv')\n",
    "tt = pd.read_csv('data/test_pp_500.csv')"
   ]
  },
  {
   "cell_type": "markdown",
   "metadata": {},
   "source": [
    "Just the training set"
   ]
  },
  {
   "cell_type": "code",
   "execution_count": null,
   "metadata": {},
   "outputs": [],
   "source": [
    "train = pd.read_csv('data/train_no_stopwords_and_lengths_and_angles_replaced.csv')\n"
   ]
  },
  {
   "cell_type": "code",
   "execution_count": 3,
   "metadata": {},
   "outputs": [
    {
     "name": "stdout",
     "output_type": "stream",
     "text": [
      "train shape: (125098, 7)\n",
      "train2 shape: (15000, 7)\n"
     ]
    }
   ],
   "source": [
    "newlimit= 15000\n",
    "print('train shape:', train.shape)\n",
    "train2 = train[:newlimit]\n",
    "print('train2 shape:', train2.shape)\n"
   ]
  },
  {
   "cell_type": "code",
   "execution_count": 4,
   "metadata": {},
   "outputs": [],
   "source": [
    "train2.to_csv(f'data/train_pp_{newlimit}.csv', index=False)"
   ]
  },
  {
   "cell_type": "markdown",
   "metadata": {},
   "source": [
    "## E5 Embeddings "
   ]
  },
  {
   "cell_type": "code",
   "execution_count": 2,
   "metadata": {},
   "outputs": [],
   "source": [
    "import torch\n",
    "from transformers import AutoTokenizer, AutoModel\n",
    "import numpy as np\n",
    "from tqdm import tqdm\n"
   ]
  },
  {
   "cell_type": "code",
   "execution_count": 3,
   "metadata": {},
   "outputs": [
    {
     "data": {
      "application/vnd.jupyter.widget-view+json": {
       "model_id": "c2679ca97ef647889044d3d724a012f6",
       "version_major": 2,
       "version_minor": 0
      },
      "text/plain": [
       "tokenizer_config.json:   0%|          | 0.00/314 [00:00<?, ?B/s]"
      ]
     },
     "metadata": {},
     "output_type": "display_data"
    },
    {
     "data": {
      "application/vnd.jupyter.widget-view+json": {
       "model_id": "1844a4d418df4e9c9f0be4d2666b3c61",
       "version_major": 2,
       "version_minor": 0
      },
      "text/plain": [
       "vocab.txt:   0%|          | 0.00/232k [00:00<?, ?B/s]"
      ]
     },
     "metadata": {},
     "output_type": "display_data"
    },
    {
     "data": {
      "application/vnd.jupyter.widget-view+json": {
       "model_id": "8ea13056f7604b24b38c8a509f0ec382",
       "version_major": 2,
       "version_minor": 0
      },
      "text/plain": [
       "tokenizer.json:   0%|          | 0.00/711k [00:00<?, ?B/s]"
      ]
     },
     "metadata": {},
     "output_type": "display_data"
    },
    {
     "data": {
      "application/vnd.jupyter.widget-view+json": {
       "model_id": "89ef551c9fa648dbb1d2474c3a466b91",
       "version_major": 2,
       "version_minor": 0
      },
      "text/plain": [
       "special_tokens_map.json:   0%|          | 0.00/125 [00:00<?, ?B/s]"
      ]
     },
     "metadata": {},
     "output_type": "display_data"
    },
    {
     "data": {
      "application/vnd.jupyter.widget-view+json": {
       "model_id": "6a084893a66c443faba29f0d221d0951",
       "version_major": 2,
       "version_minor": 0
      },
      "text/plain": [
       "config.json:   0%|          | 0.00/616 [00:00<?, ?B/s]"
      ]
     },
     "metadata": {},
     "output_type": "display_data"
    },
    {
     "data": {
      "application/vnd.jupyter.widget-view+json": {
       "model_id": "cb57c7b895124ebf936944a6cb7ce236",
       "version_major": 2,
       "version_minor": 0
      },
      "text/plain": [
       "model.safetensors:   0%|          | 0.00/1.34G [00:00<?, ?B/s]"
      ]
     },
     "metadata": {},
     "output_type": "display_data"
    }
   ],
   "source": [
    "model_name = \"intfloat/e5-large-v2\"\n",
    "tokenizer = AutoTokenizer.from_pretrained(model_name)\n",
    "model = AutoModel.from_pretrained(model_name)"
   ]
  },
  {
   "cell_type": "code",
   "execution_count": 4,
   "metadata": {},
   "outputs": [
    {
     "data": {
      "text/plain": [
       "BertModel(\n",
       "  (embeddings): BertEmbeddings(\n",
       "    (word_embeddings): Embedding(30522, 1024, padding_idx=0)\n",
       "    (position_embeddings): Embedding(512, 1024)\n",
       "    (token_type_embeddings): Embedding(2, 1024)\n",
       "    (LayerNorm): LayerNorm((1024,), eps=1e-12, elementwise_affine=True)\n",
       "    (dropout): Dropout(p=0.1, inplace=False)\n",
       "  )\n",
       "  (encoder): BertEncoder(\n",
       "    (layer): ModuleList(\n",
       "      (0-23): 24 x BertLayer(\n",
       "        (attention): BertAttention(\n",
       "          (self): BertSdpaSelfAttention(\n",
       "            (query): Linear(in_features=1024, out_features=1024, bias=True)\n",
       "            (key): Linear(in_features=1024, out_features=1024, bias=True)\n",
       "            (value): Linear(in_features=1024, out_features=1024, bias=True)\n",
       "            (dropout): Dropout(p=0.1, inplace=False)\n",
       "          )\n",
       "          (output): BertSelfOutput(\n",
       "            (dense): Linear(in_features=1024, out_features=1024, bias=True)\n",
       "            (LayerNorm): LayerNorm((1024,), eps=1e-12, elementwise_affine=True)\n",
       "            (dropout): Dropout(p=0.1, inplace=False)\n",
       "          )\n",
       "        )\n",
       "        (intermediate): BertIntermediate(\n",
       "          (dense): Linear(in_features=1024, out_features=4096, bias=True)\n",
       "          (intermediate_act_fn): GELUActivation()\n",
       "        )\n",
       "        (output): BertOutput(\n",
       "          (dense): Linear(in_features=4096, out_features=1024, bias=True)\n",
       "          (LayerNorm): LayerNorm((1024,), eps=1e-12, elementwise_affine=True)\n",
       "          (dropout): Dropout(p=0.1, inplace=False)\n",
       "        )\n",
       "      )\n",
       "    )\n",
       "  )\n",
       "  (pooler): BertPooler(\n",
       "    (dense): Linear(in_features=1024, out_features=1024, bias=True)\n",
       "    (activation): Tanh()\n",
       "  )\n",
       ")"
      ]
     },
     "execution_count": 4,
     "metadata": {},
     "output_type": "execute_result"
    }
   ],
   "source": [
    "device = \"cuda\" if torch.cuda.is_available() else \"cpu\"\n",
    "model.to(device)\n",
    "model.eval()"
   ]
  },
  {
   "cell_type": "code",
   "execution_count": 5,
   "metadata": {},
   "outputs": [],
   "source": [
    "np_test = pd.read_csv('data/test_no_stopwords.csv')\n",
    "np_train = pd.read_csv('data/train_no_stopwords.csv')\n",
    "np_valid = pd.read_csv('data/validation_no_stopwords.csv')"
   ]
  },
  {
   "cell_type": "code",
   "execution_count": 6,
   "metadata": {},
   "outputs": [
    {
     "name": "stdout",
     "output_type": "stream",
     "text": [
      "(11531, 7) (125098, 7) (9945, 7)\n"
     ]
    }
   ],
   "source": [
    "#print the shapes\n",
    "print(np_test.shape, np_train.shape, np_valid.shape)"
   ]
  },
  {
   "cell_type": "code",
   "execution_count": 7,
   "metadata": {},
   "outputs": [],
   "source": [
    "def get_sentence_embedding(text):\n",
    "    \"\"\"Convert text to numerical embeddings.\"\"\"\n",
    "    inputs = tokenizer(text, return_tensors=\"pt\", truncation=True, padding=True, max_length=512)\n",
    "    inputs = {key: value.to(device) for key, value in inputs.items()}\n",
    "    \n",
    "    with torch.no_grad():\n",
    "        outputs = model(**inputs)\n",
    "    \n",
    "    # Mean pooling of last hidden state\n",
    "    embeddings = outputs.last_hidden_state.mean(dim=1).cpu().numpy()\n",
    "    return embeddings\n",
    "\n",
    "def embed_batch(text_list):\n",
    "    inputs = tokenizer(text_list, return_tensors=\"pt\", truncation=True, padding=True, max_length=512)\n",
    "    inputs = {key: value.to(device) for key, value in inputs.items()}\n",
    "    #print the values of the inputs\n",
    "    with torch.no_grad():\n",
    "        outputs = model(**inputs)\n",
    "    \n",
    "    embeddings = outputs.last_hidden_state.mean(dim=1).cpu().numpy()\n",
    "    return embeddings\n"
   ]
  },
  {
   "cell_type": "code",
   "execution_count": 8,
   "metadata": {},
   "outputs": [
    {
     "data": {
      "text/plain": [
       "(1, 1024)"
      ]
     },
     "execution_count": 8,
     "metadata": {},
     "output_type": "execute_result"
    }
   ],
   "source": [
    "sentence   = np_test['description'][0]\n",
    "embeddings = get_sentence_embedding(sentence)\n",
    "embeddings.shape"
   ]
  },
  {
   "cell_type": "code",
   "execution_count": 9,
   "metadata": {},
   "outputs": [
    {
     "name": "stdout",
     "output_type": "stream",
     "text": [
      "64\n"
     ]
    },
    {
     "name": "stderr",
     "output_type": "stream",
     "text": [
      "  0%|          | 0/2 [00:00<?, ?it/s]"
     ]
    },
    {
     "name": "stderr",
     "output_type": "stream",
     "text": [
      "100%|██████████| 2/2 [00:37<00:00, 18.79s/it]\n"
     ]
    },
    {
     "data": {
      "text/plain": [
       "(100, 1024)"
      ]
     },
     "execution_count": 9,
     "metadata": {},
     "output_type": "execute_result"
    }
   ],
   "source": [
    "sentences = np_test['description'][:100].tolist()\n",
    "batch_size = 128  if device ==  \"cuda\" else 64\n",
    "print(batch_size)\n",
    "all_embeddings = []\n",
    "\n",
    "for i in tqdm(range(0, len(sentences), batch_size)):\n",
    "    batch = sentences[i:i+batch_size]\n",
    "    embeddings = embed_batch(batch)\n",
    "    all_embeddings.append(embeddings)\n",
    "\n",
    "all_embeddings = np.vstack(all_embeddings)\n",
    "\n",
    "all_embeddings.shape\n"
   ]
  },
  {
   "cell_type": "markdown",
   "metadata": {},
   "source": []
  },
  {
   "cell_type": "code",
   "execution_count": null,
   "metadata": {},
   "outputs": [],
   "source": []
  }
 ],
 "metadata": {
  "kernelspec": {
   "display_name": "Python 3",
   "language": "python",
   "name": "python3"
  },
  "language_info": {
   "codemirror_mode": {
    "name": "ipython",
    "version": 3
   },
   "file_extension": ".py",
   "mimetype": "text/x-python",
   "name": "python",
   "nbconvert_exporter": "python",
   "pygments_lexer": "ipython3",
   "version": "3.10.8"
  }
 },
 "nbformat": 4,
 "nbformat_minor": 2
}
