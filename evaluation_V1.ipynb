{
 "cells": [
  {
   "cell_type": "markdown",
   "metadata": {},
   "source": [
    "#### Credits\n",
    "Adapted from Rubungo et al. Llm-prop: Predicting physical and electronic properties of crystalline solids from their text descriptions, 2023. <br> \n",
    "Vertaix. Llm-prop: A repository for property prediction using large language models. https: //github.com/vertaix/LLM-Prop/tree/main, 2025\n",
    "\n",
    "Copyright (c) 2024 Vertaix\n",
    "MIT License\n",
    "\n",
    "Permission is hereby granted, free of charge, to any person obtaining a copy\n",
    "of this software and associated documentation files (the \"Software\"), to deal\n",
    "in the Software without restriction, including without limitation the rights\n",
    "to use, copy, modify, merge, publish, distribute, sublicense, and/or sell\n",
    "copies of the Software, and to permit persons to whom the Software is\n",
    "furnished to do so, subject to the following conditions:\n",
    "\n",
    "The above copyright notice and this permission notice shall be included in all\n",
    "copies or substantial portions of the Software.\n",
    "\n",
    "THE SOFTWARE IS PROVIDED \"AS IS\", WITHOUT WARRANTY OF ANY KIND, EXPRESS OR\n",
    "IMPLIED, INCLUDING BUT NOT LIMITED TO THE WARRANTIES OF MERCHANTABILITY,\n",
    "FITNESS FOR A PARTICULAR PURPOSE AND NONINFRINGEMENT. IN NO EVENT SHALL THE\n",
    "AUTHORS OR COPYRIGHT HOLDERS BE LIABLE FOR ANY CLAIM, DAMAGES OR OTHER\n",
    "LIABILITY, WHETHER IN AN ACTION OF CONTRACT, TORT OR OTHERWISE, ARISING FROM,\n",
    "OUT OF OR IN CONNECTION WITH THE SOFTWARE OR THE USE OR OTHER DEALINGS IN THE\n",
    "SOFTWARE."
   ]
  },
  {
   "cell_type": "code",
   "execution_count": 1,
   "metadata": {
    "colab": {
     "base_uri": "https://localhost:8080/"
    },
    "executionInfo": {
     "elapsed": 24948,
     "status": "ok",
     "timestamp": 1740168493863,
     "user": {
      "displayName": "Alexis Geslin",
      "userId": "05368027719046732967"
     },
     "user_tz": 480
    },
    "id": "eEdEDf3FD0Y4",
    "outputId": "dc868107-063e-47e2-8cda-ab576817f006"
   },
   "outputs": [
    {
     "name": "stdout",
     "output_type": "stream",
     "text": [
      "Mounted at /content/drive\n"
     ]
    }
   ],
   "source": [
    "from google.colab import drive\n",
    "drive.mount('/content/drive')"
   ]
  },
  {
   "cell_type": "code",
   "execution_count": 2,
   "metadata": {
    "colab": {
     "base_uri": "https://localhost:8080/"
    },
    "executionInfo": {
     "elapsed": 988,
     "status": "ok",
     "timestamp": 1740168494850,
     "user": {
      "displayName": "Alexis Geslin",
      "userId": "05368027719046732967"
     },
     "user_tz": 480
    },
    "id": "ftryaCqOD-nh",
    "outputId": "0d837710-42f0-452a-fc2e-3ffb107c2630"
   },
   "outputs": [
    {
     "name": "stdout",
     "output_type": "stream",
     "text": [
      "/content/drive/MyDrive/cours/cs224n/project/LLM-Prop\n",
      "checkpoints  LICENSE\t\t     llmprop_model.py\t  __pycache__\t    scripts\n",
      "data\t     llmprop_args_parser.py  llmprop_train.py\t  README.md\t    statistics\n",
      "embeddings   llmprop_dataset.py      llmprop_utils_OG.py  requirements.txt  stopwords\n",
      "figures      llmprop_evaluate.py     llmprop_utils.py\t  savings\t    tokenizers\n"
     ]
    }
   ],
   "source": [
    "%cd drive/MyDrive/cours/cs224n/project/LLM-Prop/\n",
    "! ls"
   ]
  },
  {
   "cell_type": "code",
   "execution_count": null,
   "metadata": {
    "id": "pMoHsnXwlmir"
   },
   "outputs": [],
   "source": [
    "import re\n",
    "import time\n",
    "import glob\n",
    "import torch\n",
    "import torch.nn as nn\n",
    "import pandas as pd\n",
    "import numpy as np\n",
    "import argparse\n",
    "\n",
    "from transformers import AutoTokenizer, T5EncoderModel, T5Tokenizer\n",
    "\n",
    "from statistics import stdev\n",
    "\n",
    "# pre-defined functions\n",
    "from llmprop_utils import *\n",
    "from llmprop_dataset import *\n",
    "from llmprop_args_parser import *\n",
    "from llmprop_train import evaluate\n",
    "from llmprop_model import T5Predictor"
   ]
  },
  {
   "cell_type": "code",
   "execution_count": null,
   "metadata": {
    "colab": {
     "base_uri": "https://localhost:8080/"
    },
    "executionInfo": {
     "elapsed": 29,
     "status": "ok",
     "timestamp": 1740155647236,
     "user": {
      "displayName": "Alexis Geslin",
      "userId": "05368027719046732967"
     },
     "user_tz": 480
    },
    "id": "Whrje6Sx0ra1",
    "outputId": "bb335eae-6749-402a-e036-0c3784ad9129"
   },
   "outputs": [
    {
     "name": "stdout",
     "output_type": "stream",
     "text": [
      "Number of available devices: 1\n",
      "Current device is: 0\n",
      "Testing on 1 GPUs!\n",
      "--------------------------------------------------\n"
     ]
    }
   ],
   "source": [
    "if torch.cuda.is_available():\n",
    "    device = torch.device(\"cuda\")\n",
    "    print(f'Number of available devices: {torch.cuda.device_count()}')\n",
    "    print(f'Current device is: {torch.cuda.current_device()}')\n",
    "    print(\"Testing on\", torch.cuda.device_count(), \"GPUs!\")\n",
    "    print('-'*50)\n",
    "else:\n",
    "    print(\"No GPU available, please connect to the GPU first or continue to use CPU instead\")\n",
    "    print('-'*50)\n",
    "    device = torch.device(\"cpu\")"
   ]
  },
  {
   "cell_type": "code",
   "execution_count": null,
   "metadata": {
    "id": "LCyq7e0ynZX7"
   },
   "outputs": [],
   "source": [
    "parser = argparse.ArgumentParser(description='LLM-Prop')\n",
    "parser.add_argument('--epochs',\n",
    "                    help='Number of epochs',\n",
    "                    type=int,\n",
    "                    default=200)\n",
    "parser.add_argument('--bs',\n",
    "                    help='Batch size',\n",
    "                    type=int,\n",
    "                    default=64)\n",
    "parser.add_argument('--lr',\n",
    "                    help='Learning rate',\n",
    "                    type=float,\n",
    "                    default=0.001)\n",
    "parser.add_argument('--max_len',\n",
    "                    help='Max input sequence length',\n",
    "                    type=int,\n",
    "                    default=888)\n",
    "parser.add_argument('--dr',\n",
    "                    help='Drop rate',\n",
    "                    type=float,\n",
    "                    default=0.2)\n",
    "parser.add_argument('--warmup_steps',\n",
    "                    help='Warmpup steps',\n",
    "                    type=int,\n",
    "                    default=30000)\n",
    "parser.add_argument('--preprocessing_strategy',\n",
    "                    help='Data preprocessing technique: \"none\", \"bond_lengths_replaced_with_num\", \"bond_angles_replaced_with_ang\", \"no_stopwords\", or \"no_stopwords_and_lengths_and_angles_replaced\"',\n",
    "                    type=str,\n",
    "                    default=\"no_stopwords_and_lengths_and_angles_replaced\")\n",
    "parser.add_argument('--tokenizer',\n",
    "                    help='Tokenizer name: \"t5_tokenizer\" or \"modified\"',\n",
    "                    type=str,\n",
    "                    default=\"modified\")\n",
    "parser.add_argument('--pooling',\n",
    "                    help='Pooling method. \"cls\" or \"mean\"',\n",
    "                    type=str,\n",
    "                      default=\"cls\")\n",
    "parser.add_argument('--normalizer',\n",
    "                      help='Labels scaling technique. \"z_norm\", \"mm_norm\", or \"ls_norm\"',\n",
    "                      type=str,\n",
    "                    default=\"z_norm\")\n",
    "parser.add_argument('--scheduler',\n",
    "                    help='Learning rate scheduling technique. \"linear\", \"onecycle\", \"step\", or \"lambda\" (no scheduling))',\n",
    "                    type=str,\n",
    "                    default=\"onecycle\")\n",
    "parser.add_argument('--property_name',\n",
    "                      help='The name of the property to predict. \"band_gap\", \"volume\", or \"is_gap_direct\"',\n",
    "                      type=str,\n",
    "                      default=\"band_gap\")\n",
    "parser.add_argument('--optimizer',\n",
    "                    help='Optimizer type. \"adamw\" or \"sgd\"',\n",
    "                    type=str,\n",
    "                    default=\"adamw\")\n",
    "parser.add_argument('--task_name',\n",
    "                    help='the name of the task: \"regression\" if propert_name is band_gap or volume or \"classification\" if property_name is is_gap_direct',\n",
    "                    type=str,\n",
    "                    default=\"regression\")\n",
    "parser.add_argument('--train_data_path',\n",
    "                    help=\"the path to the training data\",\n",
    "                    type=str,\n",
    "                    default=\"data/samples/textedge_prop_mp22_train.csv\")\n",
    "parser.add_argument('--valid_data_path',\n",
    "                    help=\"the path to the valid data\",\n",
    "                    type=str,\n",
    "                    default=\"data/samples/textedge_prop_mp22_valid.csv\")\n",
    "parser.add_argument('--test_data_path',\n",
    "                    help=\"the path to the test data\",\n",
    "                    type=str,\n",
    "                    default=\"data/samples/textedge_prop_mp22_test.csv\")\n",
    "parser.add_argument('--checkpoint',\n",
    "                      help=\"the path to the the best checkpoint for evaluation\",\n",
    "                      type=str,\n",
    "                      default=\"\")\n",
    "args = parser.parse_args([])\n",
    "args_dict = vars(args)\n",
    "\n",
    "# Load them into variables and use the correct variable names:\n",
    "globals().update(args_dict)\n",
    "\n",
    "# set parameters\n",
    "batch_size = bs\n",
    "drop_rate = dr\n",
    "max_length = max_len\n",
    "tokenizer_name = tokenizer\n",
    "normalizer_type = normalizer\n",
    "best_model_path = checkpoint\n",
    "property = property_name\n",
    "\n",
    "#set specific variables not default\n",
    "# best_model_path = f\"checkpoints/llmprop_best_checkpoint_for_band_gap_regression_description.tar.gz\"\n",
    "default_best_model_path = \"checkpoints/samples/regression/best_checkpoint_for_band_gap.tar.gz\"\n",
    "best_model_path =\"checkpoints/checkpoint_train50_200epoch.pt\"\n",
    "\n",
    "#define train and tests\n",
    "default_test_data_path =\"data/samples/textedge_prop_mp22_test.csv\"\n",
    "test_data_path = \"data/test_no_stopwords_and_lengths_and_angles_replaced.csv\"\n"
   ]
  },
  {
   "cell_type": "code",
   "execution_count": null,
   "metadata": {
    "id": "5IV7xrSznjTO"
   },
   "outputs": [],
   "source": [
    "train_data = pd.read_csv(train_data_path)\n",
    "test_data = pd.read_csv(default_test_data_path)\n",
    "test_data = pd.read_csv(test_data_path)"
   ]
  },
  {
   "cell_type": "code",
   "execution_count": null,
   "metadata": {
    "colab": {
     "base_uri": "https://localhost:8080/"
    },
    "executionInfo": {
     "elapsed": 9,
     "status": "ok",
     "timestamp": 1740157360797,
     "user": {
      "displayName": "Alexis Geslin",
      "userId": "05368027719046732967"
     },
     "user_tz": 480
    },
    "id": "3JxNFo6Bot6R",
    "outputId": "4963db57-6476-4265-80e0-92273d8cf1e6"
   },
   "outputs": [
    {
     "name": "stdout",
     "output_type": "stream",
     "text": [
      "(11531, 7)\n",
      "(11531, 7)\n"
     ]
    }
   ],
   "source": [
    "print(test_data.shape)\n",
    "# test_data =test_data.iloc[:100]\n",
    "print(test_data.shape)"
   ]
  },
  {
   "cell_type": "code",
   "execution_count": null,
   "metadata": {
    "id": "SDr3GPpwoYkL"
   },
   "outputs": [],
   "source": [
    "# check property type to determine the task name (whether it is regression or classification)\n",
    "if test_data[property].dtype == 'bool':\n",
    "    task_name = 'classification'\n",
    "\n",
    "    #converting True->1.0 and False->0.0\n",
    "    train_data[property] = train_data[property].astype(float)\n",
    "    test_data[property] = test_data[property].astype(float)\n",
    "else:\n",
    "    task_name = 'regression'\n",
    "\n",
    "train_labels_array = np.array(train_data[property])\n",
    "train_labels_mean = torch.mean(torch.tensor(train_labels_array))\n",
    "train_labels_std = torch.std(torch.tensor(train_labels_array))\n",
    "train_labels_min = torch.min(torch.tensor(train_labels_array))\n",
    "train_labels_max = torch.max(torch.tensor(train_labels_array))\n"
   ]
  },
  {
   "cell_type": "code",
   "execution_count": null,
   "metadata": {
    "id": "thNUEtspyZa6"
   },
   "outputs": [],
   "source": [
    "### ONLY IF NOT DEALING WITH NON-PREPROCESSED DATA\n",
    "\n",
    "# if preprocessing_strategy == \"none\":\n",
    "#     test_data = test_data\n",
    "#     print(test_data['description'][0])\n",
    "#     print('-'*50)\n",
    "\n",
    "# elif preprocessing_strategy == \"bond_lengths_replaced_with_num\":\n",
    "#     test_data['description'] = test_data['description'].apply(replace_bond_lengths_with_num)\n",
    "#     print(test_data['description'][0])\n",
    "#     print('-'*50)\n",
    "\n",
    "# elif preprocessing_strategy == \"bond_angles_replaced_with_ang\":\n",
    "#     test_data['description'] = test_data['description'].apply(replace_bond_angles_with_ang)\n",
    "#     print(test_data['description'][0])\n",
    "#     print('-'*50)\n",
    "\n",
    "# elif preprocessing_strategy == \"no_stopwords\":\n",
    "#     stopwords = get_cleaned_stopwords()\n",
    "#     test_data['description'] = test_data['description'].apply(remove_mat_stopwords)\n",
    "#     print(test_data['description'][0])\n",
    "#     print('-'*50)\n",
    "\n",
    "# elif preprocessing_strategy == \"no_stopwords_and_lengths_and_angles_replaced\":\n",
    "#     stopwords = get_cleaned_stopwords()\n",
    "#     test_data['description'] = test_data['description'].apply(remove_mat_stopwords)\n",
    "#     test_data['description'] = test_data['description'].apply(replace_bond_lengths_with_num)\n",
    "#     test_data['description'] = test_data['description'].apply(replace_bond_angles_with_ang)\n",
    "#     print(test_data['description'][0])\n",
    "#     print('-'*50)"
   ]
  },
  {
   "cell_type": "code",
   "execution_count": null,
   "metadata": {
    "colab": {
     "base_uri": "https://localhost:8080/"
    },
    "executionInfo": {
     "elapsed": 13661,
     "status": "ok",
     "timestamp": 1740157384644,
     "user": {
      "displayName": "Alexis Geslin",
      "userId": "05368027719046732967"
     },
     "user_tz": 480
    },
    "id": "HfCkHtSEoZSM",
    "outputId": "3cf48b73-1b35-4ded-e5c5-801d90b2c712"
   },
   "outputs": [
    {
     "name": "stderr",
     "output_type": "stream",
     "text": [
      "Token indices sequence length is longer than the specified maximum sequence length for this model (890 > 512). Running this sequence through the model will result in indexing errors\n"
     ]
    },
    {
     "name": "stdout",
     "output_type": "stream",
     "text": [
      "test data = 11531 samples\n",
      "--------------------------------------------------\n",
      "testing on 90.32174139276732% samples with whole sequence\n",
      "--------------------------------------------------\n",
      "labels statistics on training set:\n",
      "Mean: tensor(0.9767, dtype=torch.float64)\n",
      "Standard deviation: tensor(1.4387, dtype=torch.float64)\n",
      "Max: tensor(4.9055, dtype=torch.float64)\n",
      "Min: tensor(0., dtype=torch.float64)\n",
      "--------------------------------------------------\n"
     ]
    }
   ],
   "source": [
    "mae_loss_function = nn.L1Loss()\n",
    "\n",
    "# define the tokenizer\n",
    "if tokenizer_name == 't5_tokenizer':\n",
    "    tokenizer = AutoTokenizer.from_pretrained(\"t5-small\")\n",
    "\n",
    "elif tokenizer_name == 'modified':\n",
    "    tokenizer = AutoTokenizer.from_pretrained(\"tokenizers/t5_tokenizer_trained_on_modified_part_of_C4_and_textedge\")\n",
    "\n",
    "# add defined special tokens to the tokenizer\n",
    "if pooling == 'cls':\n",
    "    tokenizer.add_tokens([\"[CLS]\"])\n",
    "\n",
    "if preprocessing_strategy == \"bond_lengths_replaced_with_num\":\n",
    "    tokenizer.add_tokens([\"[NUM]\"]) # special token to replace bond lengths\n",
    "\n",
    "elif preprocessing_strategy == \"bond_angles_replaced_with_ang\":\n",
    "    tokenizer.add_tokens([\"[ANG]\"]) # special token to replace bond angles\n",
    "\n",
    "elif preprocessing_strategy == \"no_stopwords_and_lengths_and_angles_replaced\":\n",
    "    tokenizer.add_tokens([\"[NUM]\"])\n",
    "    tokenizer.add_tokens([\"[ANG]\"])\n",
    "\n",
    "print(f\"test data = {len(test_data)} samples\")\n",
    "print('-'*50)\n",
    "print(f\"testing on {get_sequence_len_stats(test_data, tokenizer, max_length)}% samples with whole sequence\")\n",
    "print('-'*50)\n",
    "\n",
    "print(\"labels statistics on training set:\")\n",
    "print(\"Mean:\", train_labels_mean)\n",
    "print(\"Standard deviation:\", train_labels_std)\n",
    "print(\"Max:\", train_labels_max)\n",
    "print(\"Min:\", train_labels_min)\n",
    "print(\"-\"*50)"
   ]
  },
  {
   "cell_type": "code",
   "execution_count": null,
   "metadata": {
    "colab": {
     "base_uri": "https://localhost:8080/",
     "height": 35
    },
    "executionInfo": {
     "elapsed": 11,
     "status": "ok",
     "timestamp": 1740157389097,
     "user": {
      "displayName": "Alexis Geslin",
      "userId": "05368027719046732967"
     },
     "user_tz": 480
    },
    "id": "JYefxEPLbDOT",
    "outputId": "2562b535-0c54-46b6-9e6f-151d60e2d664"
   },
   "outputs": [
    {
     "data": {
      "application/vnd.google.colaboratory.intrinsic+json": {
       "type": "string"
      },
      "text/plain": [
       "'checkpoints/checkpoint_train50_200epoch.pt'"
      ]
     },
     "execution_count": 67,
     "metadata": {},
     "output_type": "execute_result"
    }
   ],
   "source": [
    "# best_model_path = f\"checkpoints/llmprop_best_checkpoint_for_band_gap_regression_cif_structure.pt\"\n",
    "# best_model_path =default_best_model_path\n",
    "best_model_path"
   ]
  },
  {
   "cell_type": "code",
   "execution_count": null,
   "metadata": {
    "id": "PGnmlI-voZPr"
   },
   "outputs": [],
   "source": [
    "base_model = T5EncoderModel.from_pretrained(\"google/t5-v1_1-small\")\n",
    "base_model_output_size = 512\n",
    "base_model.resize_token_embeddings(len(tokenizer))\n",
    "\n",
    "if \"tar.gz\" in best_model_path:\n",
    "  print(\"decompressing checkpoint\")\n",
    "  decompressTarCheckpoints(best_model_path)\n",
    "  best_model_path = best_model_path[0:-7] + \".pt\""
   ]
  },
  {
   "cell_type": "code",
   "execution_count": null,
   "metadata": {
    "colab": {
     "base_uri": "https://localhost:8080/"
    },
    "executionInfo": {
     "elapsed": 235,
     "status": "ok",
     "timestamp": 1740157399902,
     "user": {
      "displayName": "Alexis Geslin",
      "userId": "05368027719046732967"
     },
     "user_tz": 480
    },
    "id": "X4uhauXMoZNA",
    "outputId": "0fd3eedd-d32f-44af-f831-027612fbe975"
   },
   "outputs": [
    {
     "name": "stdout",
     "output_type": "stream",
     "text": [
      "here\n"
     ]
    },
    {
     "name": "stderr",
     "output_type": "stream",
     "text": [
      "<ipython-input-69-51f78d87c8b8>:10: FutureWarning: You are using `torch.load` with `weights_only=False` (the current default value), which uses the default pickle module implicitly. It is possible to construct malicious pickle data which will execute arbitrary code during unpickling (See https://github.com/pytorch/pytorch/blob/main/SECURITY.md#untrusted-models for more details). In a future release, the default value for `weights_only` will be flipped to `True`. This limits the functions that could be executed during unpickling. Arbitrary objects will no longer be allowed to be loaded via this mode unless they are explicitly allowlisted by the user via `torch.serialization.add_safe_globals`. We recommend you start setting `weights_only=True` for any use case where you don't have full control of the loaded file. Please open an issue on GitHub for any issues related to this experimental feature.\n",
      "  best_model.module.load_state_dict(torch.load(best_model_path, map_location=torch.device(device)), strict=False)\n"
     ]
    }
   ],
   "source": [
    "best_model = T5Predictor(base_model, base_model_output_size, drop_rate=drop_rate, pooling=pooling)\n",
    "\n",
    "device_ids = [d for d in range(torch.cuda.device_count())]\n",
    "\n",
    "if torch.cuda.is_available():\n",
    "    best_model = nn.DataParallel(best_model, device_ids=device_ids).cuda()\n",
    "\n",
    "if isinstance(best_model, nn.DataParallel):\n",
    "    print(\"here\")\n",
    "    best_model.module.load_state_dict(torch.load(best_model_path, map_location=torch.device(device)), strict=False)\n",
    "else:\n",
    "    best_model.load_state_dict(torch.load(best_model_path, map_location=torch.device(device)), strict=False)\n",
    "    best_model.to(device)"
   ]
  },
  {
   "cell_type": "code",
   "execution_count": null,
   "metadata": {
    "colab": {
     "base_uri": "https://localhost:8080/"
    },
    "executionInfo": {
     "elapsed": 10,
     "status": "ok",
     "timestamp": 1740157404502,
     "user": {
      "displayName": "Alexis Geslin",
      "userId": "05368027719046732967"
     },
     "user_tz": 480
    },
    "id": "HFTghiqdY96f",
    "outputId": "bf7d9f22-cc10-44d0-85fd-2d54fb110ae3"
   },
   "outputs": [
    {
     "name": "stdout",
     "output_type": "stream",
     "text": [
      "Total parameters = 35322049\n"
     ]
    }
   ],
   "source": [
    "model_trainable_params = sum(p.numel() for p in best_model.parameters() if p.requires_grad)\n",
    "print(f\"Total parameters = {model_trainable_params}\")"
   ]
  },
  {
   "cell_type": "code",
   "execution_count": null,
   "metadata": {
    "id": "zGhttv0E1GEf"
   },
   "outputs": [],
   "source": [
    "test_dataloader = create_dataloaders(\n",
    "    tokenizer,\n",
    "    test_data,\n",
    "    max_length,\n",
    "    batch_size,\n",
    "    property_value=property,\n",
    "    pooling=pooling\n",
    ")"
   ]
  },
  {
   "cell_type": "code",
   "execution_count": null,
   "metadata": {
    "colab": {
     "base_uri": "https://localhost:8080/"
    },
    "executionInfo": {
     "elapsed": 143362,
     "status": "ok",
     "timestamp": 1740157564360,
     "user": {
      "displayName": "Alexis Geslin",
      "userId": "05368027719046732967"
     },
     "user_tz": 480
    },
    "id": "9pMbA7TqoZKm",
    "outputId": "ac69e227-d925-4297-9a4a-21f8107fe153"
   },
   "outputs": [
    {
     "name": "stdout",
     "output_type": "stream",
     "text": [
      "\n",
      " The mae error achieved on test set for predicting band_gap is 0.9316902916325275\n",
      "testing took 0:02:23 \n",
      "\n"
     ]
    }
   ],
   "source": [
    "predictions_list, performance = evaluate(best_model, mae_loss_function, test_dataloader, train_labels_mean, train_labels_std, train_labels_min, train_labels_max, property, device, task_name, normalizer=normalizer_type)"
   ]
  },
  {
   "cell_type": "code",
   "execution_count": null,
   "metadata": {
    "id": "50VveFQbc87s"
   },
   "outputs": [],
   "source": []
  },
  {
   "cell_type": "code",
   "execution_count": null,
   "metadata": {
    "id": "Icw2JngNc8yI"
   },
   "outputs": [],
   "source": []
  },
  {
   "cell_type": "code",
   "execution_count": null,
   "metadata": {
    "colab": {
     "base_uri": "https://localhost:8080/",
     "height": 423
    },
    "executionInfo": {
     "elapsed": 66,
     "status": "ok",
     "timestamp": 1740157565437,
     "user": {
      "displayName": "Alexis Geslin",
      "userId": "05368027719046732967"
     },
     "user_tz": 480
    },
    "id": "L8sBKyFpoZIH",
    "outputId": "a297ff36-5149-4578-9aca-0b3b444b3ac5"
   },
   "outputs": [
    {
     "data": {
      "application/vnd.google.colaboratory.intrinsic+json": {
       "summary": "{\n  \"name\": \"test_results\",\n  \"rows\": 11531,\n  \"fields\": [\n    {\n      \"column\": \"prediction\",\n      \"properties\": {\n        \"dtype\": \"number\",\n        \"std\": 1.055094851129371,\n        \"min\": -0.21330654621124268,\n        \"max\": 4.41658353805542,\n        \"num_unique_values\": 9878,\n        \"samples\": [\n          0.4603726267814636,\n          1.6500396728515625,\n          0.12136191129684448\n        ],\n        \"semantic_type\": \"\",\n        \"description\": \"\"\n      }\n    },\n    {\n      \"column\": \"label\",\n      \"properties\": {\n        \"dtype\": \"number\",\n        \"std\": 1.4421995032456842,\n        \"min\": 0.0,\n        \"max\": 7.851,\n        \"num_unique_values\": 4954,\n        \"samples\": [\n          0.0296,\n          2.7262000000000004,\n          5.0665\n        ],\n        \"semantic_type\": \"\",\n        \"description\": \"\"\n      }\n    }\n  ]\n}",
       "type": "dataframe",
       "variable_name": "test_results"
      },
      "text/html": [
       "\n",
       "  <div id=\"df-98ce5104-cfb8-4b52-aefe-6bd0ea789dfa\" class=\"colab-df-container\">\n",
       "    <div>\n",
       "<style scoped>\n",
       "    .dataframe tbody tr th:only-of-type {\n",
       "        vertical-align: middle;\n",
       "    }\n",
       "\n",
       "    .dataframe tbody tr th {\n",
       "        vertical-align: top;\n",
       "    }\n",
       "\n",
       "    .dataframe thead th {\n",
       "        text-align: right;\n",
       "    }\n",
       "</style>\n",
       "<table border=\"1\" class=\"dataframe\">\n",
       "  <thead>\n",
       "    <tr style=\"text-align: right;\">\n",
       "      <th></th>\n",
       "      <th>prediction</th>\n",
       "      <th>label</th>\n",
       "    </tr>\n",
       "  </thead>\n",
       "  <tbody>\n",
       "    <tr>\n",
       "      <th>0</th>\n",
       "      <td>-0.085124</td>\n",
       "      <td>0.0000</td>\n",
       "    </tr>\n",
       "    <tr>\n",
       "      <th>1</th>\n",
       "      <td>0.100780</td>\n",
       "      <td>1.9765</td>\n",
       "    </tr>\n",
       "    <tr>\n",
       "      <th>2</th>\n",
       "      <td>-0.131660</td>\n",
       "      <td>0.0000</td>\n",
       "    </tr>\n",
       "    <tr>\n",
       "      <th>3</th>\n",
       "      <td>0.100987</td>\n",
       "      <td>3.4571</td>\n",
       "    </tr>\n",
       "    <tr>\n",
       "      <th>4</th>\n",
       "      <td>0.982250</td>\n",
       "      <td>0.0000</td>\n",
       "    </tr>\n",
       "    <tr>\n",
       "      <th>...</th>\n",
       "      <td>...</td>\n",
       "      <td>...</td>\n",
       "    </tr>\n",
       "    <tr>\n",
       "      <th>11526</th>\n",
       "      <td>1.858977</td>\n",
       "      <td>1.5467</td>\n",
       "    </tr>\n",
       "    <tr>\n",
       "      <th>11527</th>\n",
       "      <td>2.398273</td>\n",
       "      <td>1.8794</td>\n",
       "    </tr>\n",
       "    <tr>\n",
       "      <th>11528</th>\n",
       "      <td>-0.008056</td>\n",
       "      <td>0.0000</td>\n",
       "    </tr>\n",
       "    <tr>\n",
       "      <th>11529</th>\n",
       "      <td>-0.060100</td>\n",
       "      <td>0.0000</td>\n",
       "    </tr>\n",
       "    <tr>\n",
       "      <th>11530</th>\n",
       "      <td>-0.096689</td>\n",
       "      <td>0.0000</td>\n",
       "    </tr>\n",
       "  </tbody>\n",
       "</table>\n",
       "<p>11531 rows × 2 columns</p>\n",
       "</div>\n",
       "    <div class=\"colab-df-buttons\">\n",
       "\n",
       "  <div class=\"colab-df-container\">\n",
       "    <button class=\"colab-df-convert\" onclick=\"convertToInteractive('df-98ce5104-cfb8-4b52-aefe-6bd0ea789dfa')\"\n",
       "            title=\"Convert this dataframe to an interactive table.\"\n",
       "            style=\"display:none;\">\n",
       "\n",
       "  <svg xmlns=\"http://www.w3.org/2000/svg\" height=\"24px\" viewBox=\"0 -960 960 960\">\n",
       "    <path d=\"M120-120v-720h720v720H120Zm60-500h600v-160H180v160Zm220 220h160v-160H400v160Zm0 220h160v-160H400v160ZM180-400h160v-160H180v160Zm440 0h160v-160H620v160ZM180-180h160v-160H180v160Zm440 0h160v-160H620v160Z\"/>\n",
       "  </svg>\n",
       "    </button>\n",
       "\n",
       "  <style>\n",
       "    .colab-df-container {\n",
       "      display:flex;\n",
       "      gap: 12px;\n",
       "    }\n",
       "\n",
       "    .colab-df-convert {\n",
       "      background-color: #E8F0FE;\n",
       "      border: none;\n",
       "      border-radius: 50%;\n",
       "      cursor: pointer;\n",
       "      display: none;\n",
       "      fill: #1967D2;\n",
       "      height: 32px;\n",
       "      padding: 0 0 0 0;\n",
       "      width: 32px;\n",
       "    }\n",
       "\n",
       "    .colab-df-convert:hover {\n",
       "      background-color: #E2EBFA;\n",
       "      box-shadow: 0px 1px 2px rgba(60, 64, 67, 0.3), 0px 1px 3px 1px rgba(60, 64, 67, 0.15);\n",
       "      fill: #174EA6;\n",
       "    }\n",
       "\n",
       "    .colab-df-buttons div {\n",
       "      margin-bottom: 4px;\n",
       "    }\n",
       "\n",
       "    [theme=dark] .colab-df-convert {\n",
       "      background-color: #3B4455;\n",
       "      fill: #D2E3FC;\n",
       "    }\n",
       "\n",
       "    [theme=dark] .colab-df-convert:hover {\n",
       "      background-color: #434B5C;\n",
       "      box-shadow: 0px 1px 3px 1px rgba(0, 0, 0, 0.15);\n",
       "      filter: drop-shadow(0px 1px 2px rgba(0, 0, 0, 0.3));\n",
       "      fill: #FFFFFF;\n",
       "    }\n",
       "  </style>\n",
       "\n",
       "    <script>\n",
       "      const buttonEl =\n",
       "        document.querySelector('#df-98ce5104-cfb8-4b52-aefe-6bd0ea789dfa button.colab-df-convert');\n",
       "      buttonEl.style.display =\n",
       "        google.colab.kernel.accessAllowed ? 'block' : 'none';\n",
       "\n",
       "      async function convertToInteractive(key) {\n",
       "        const element = document.querySelector('#df-98ce5104-cfb8-4b52-aefe-6bd0ea789dfa');\n",
       "        const dataTable =\n",
       "          await google.colab.kernel.invokeFunction('convertToInteractive',\n",
       "                                                    [key], {});\n",
       "        if (!dataTable) return;\n",
       "\n",
       "        const docLinkHtml = 'Like what you see? Visit the ' +\n",
       "          '<a target=\"_blank\" href=https://colab.research.google.com/notebooks/data_table.ipynb>data table notebook</a>'\n",
       "          + ' to learn more about interactive tables.';\n",
       "        element.innerHTML = '';\n",
       "        dataTable['output_type'] = 'display_data';\n",
       "        await google.colab.output.renderOutput(dataTable, element);\n",
       "        const docLink = document.createElement('div');\n",
       "        docLink.innerHTML = docLinkHtml;\n",
       "        element.appendChild(docLink);\n",
       "      }\n",
       "    </script>\n",
       "  </div>\n",
       "\n",
       "\n",
       "<div id=\"df-33f955da-f914-4061-93b2-2b24ea6105f4\">\n",
       "  <button class=\"colab-df-quickchart\" onclick=\"quickchart('df-33f955da-f914-4061-93b2-2b24ea6105f4')\"\n",
       "            title=\"Suggest charts\"\n",
       "            style=\"display:none;\">\n",
       "\n",
       "<svg xmlns=\"http://www.w3.org/2000/svg\" height=\"24px\"viewBox=\"0 0 24 24\"\n",
       "     width=\"24px\">\n",
       "    <g>\n",
       "        <path d=\"M19 3H5c-1.1 0-2 .9-2 2v14c0 1.1.9 2 2 2h14c1.1 0 2-.9 2-2V5c0-1.1-.9-2-2-2zM9 17H7v-7h2v7zm4 0h-2V7h2v10zm4 0h-2v-4h2v4z\"/>\n",
       "    </g>\n",
       "</svg>\n",
       "  </button>\n",
       "\n",
       "<style>\n",
       "  .colab-df-quickchart {\n",
       "      --bg-color: #E8F0FE;\n",
       "      --fill-color: #1967D2;\n",
       "      --hover-bg-color: #E2EBFA;\n",
       "      --hover-fill-color: #174EA6;\n",
       "      --disabled-fill-color: #AAA;\n",
       "      --disabled-bg-color: #DDD;\n",
       "  }\n",
       "\n",
       "  [theme=dark] .colab-df-quickchart {\n",
       "      --bg-color: #3B4455;\n",
       "      --fill-color: #D2E3FC;\n",
       "      --hover-bg-color: #434B5C;\n",
       "      --hover-fill-color: #FFFFFF;\n",
       "      --disabled-bg-color: #3B4455;\n",
       "      --disabled-fill-color: #666;\n",
       "  }\n",
       "\n",
       "  .colab-df-quickchart {\n",
       "    background-color: var(--bg-color);\n",
       "    border: none;\n",
       "    border-radius: 50%;\n",
       "    cursor: pointer;\n",
       "    display: none;\n",
       "    fill: var(--fill-color);\n",
       "    height: 32px;\n",
       "    padding: 0;\n",
       "    width: 32px;\n",
       "  }\n",
       "\n",
       "  .colab-df-quickchart:hover {\n",
       "    background-color: var(--hover-bg-color);\n",
       "    box-shadow: 0 1px 2px rgba(60, 64, 67, 0.3), 0 1px 3px 1px rgba(60, 64, 67, 0.15);\n",
       "    fill: var(--button-hover-fill-color);\n",
       "  }\n",
       "\n",
       "  .colab-df-quickchart-complete:disabled,\n",
       "  .colab-df-quickchart-complete:disabled:hover {\n",
       "    background-color: var(--disabled-bg-color);\n",
       "    fill: var(--disabled-fill-color);\n",
       "    box-shadow: none;\n",
       "  }\n",
       "\n",
       "  .colab-df-spinner {\n",
       "    border: 2px solid var(--fill-color);\n",
       "    border-color: transparent;\n",
       "    border-bottom-color: var(--fill-color);\n",
       "    animation:\n",
       "      spin 1s steps(1) infinite;\n",
       "  }\n",
       "\n",
       "  @keyframes spin {\n",
       "    0% {\n",
       "      border-color: transparent;\n",
       "      border-bottom-color: var(--fill-color);\n",
       "      border-left-color: var(--fill-color);\n",
       "    }\n",
       "    20% {\n",
       "      border-color: transparent;\n",
       "      border-left-color: var(--fill-color);\n",
       "      border-top-color: var(--fill-color);\n",
       "    }\n",
       "    30% {\n",
       "      border-color: transparent;\n",
       "      border-left-color: var(--fill-color);\n",
       "      border-top-color: var(--fill-color);\n",
       "      border-right-color: var(--fill-color);\n",
       "    }\n",
       "    40% {\n",
       "      border-color: transparent;\n",
       "      border-right-color: var(--fill-color);\n",
       "      border-top-color: var(--fill-color);\n",
       "    }\n",
       "    60% {\n",
       "      border-color: transparent;\n",
       "      border-right-color: var(--fill-color);\n",
       "    }\n",
       "    80% {\n",
       "      border-color: transparent;\n",
       "      border-right-color: var(--fill-color);\n",
       "      border-bottom-color: var(--fill-color);\n",
       "    }\n",
       "    90% {\n",
       "      border-color: transparent;\n",
       "      border-bottom-color: var(--fill-color);\n",
       "    }\n",
       "  }\n",
       "</style>\n",
       "\n",
       "  <script>\n",
       "    async function quickchart(key) {\n",
       "      const quickchartButtonEl =\n",
       "        document.querySelector('#' + key + ' button');\n",
       "      quickchartButtonEl.disabled = true;  // To prevent multiple clicks.\n",
       "      quickchartButtonEl.classList.add('colab-df-spinner');\n",
       "      try {\n",
       "        const charts = await google.colab.kernel.invokeFunction(\n",
       "            'suggestCharts', [key], {});\n",
       "      } catch (error) {\n",
       "        console.error('Error during call to suggestCharts:', error);\n",
       "      }\n",
       "      quickchartButtonEl.classList.remove('colab-df-spinner');\n",
       "      quickchartButtonEl.classList.add('colab-df-quickchart-complete');\n",
       "    }\n",
       "    (() => {\n",
       "      let quickchartButtonEl =\n",
       "        document.querySelector('#df-33f955da-f914-4061-93b2-2b24ea6105f4 button');\n",
       "      quickchartButtonEl.style.display =\n",
       "        google.colab.kernel.accessAllowed ? 'block' : 'none';\n",
       "    })();\n",
       "  </script>\n",
       "</div>\n",
       "\n",
       "  <div id=\"id_6d322d21-b68c-4e05-8aa9-587e74b25b3c\">\n",
       "    <style>\n",
       "      .colab-df-generate {\n",
       "        background-color: #E8F0FE;\n",
       "        border: none;\n",
       "        border-radius: 50%;\n",
       "        cursor: pointer;\n",
       "        display: none;\n",
       "        fill: #1967D2;\n",
       "        height: 32px;\n",
       "        padding: 0 0 0 0;\n",
       "        width: 32px;\n",
       "      }\n",
       "\n",
       "      .colab-df-generate:hover {\n",
       "        background-color: #E2EBFA;\n",
       "        box-shadow: 0px 1px 2px rgba(60, 64, 67, 0.3), 0px 1px 3px 1px rgba(60, 64, 67, 0.15);\n",
       "        fill: #174EA6;\n",
       "      }\n",
       "\n",
       "      [theme=dark] .colab-df-generate {\n",
       "        background-color: #3B4455;\n",
       "        fill: #D2E3FC;\n",
       "      }\n",
       "\n",
       "      [theme=dark] .colab-df-generate:hover {\n",
       "        background-color: #434B5C;\n",
       "        box-shadow: 0px 1px 3px 1px rgba(0, 0, 0, 0.15);\n",
       "        filter: drop-shadow(0px 1px 2px rgba(0, 0, 0, 0.3));\n",
       "        fill: #FFFFFF;\n",
       "      }\n",
       "    </style>\n",
       "    <button class=\"colab-df-generate\" onclick=\"generateWithVariable('test_results')\"\n",
       "            title=\"Generate code using this dataframe.\"\n",
       "            style=\"display:none;\">\n",
       "\n",
       "  <svg xmlns=\"http://www.w3.org/2000/svg\" height=\"24px\"viewBox=\"0 0 24 24\"\n",
       "       width=\"24px\">\n",
       "    <path d=\"M7,19H8.4L18.45,9,17,7.55,7,17.6ZM5,21V16.75L18.45,3.32a2,2,0,0,1,2.83,0l1.4,1.43a1.91,1.91,0,0,1,.58,1.4,1.91,1.91,0,0,1-.58,1.4L9.25,21ZM18.45,9,17,7.55Zm-12,3A5.31,5.31,0,0,0,4.9,8.1,5.31,5.31,0,0,0,1,6.5,5.31,5.31,0,0,0,4.9,4.9,5.31,5.31,0,0,0,6.5,1,5.31,5.31,0,0,0,8.1,4.9,5.31,5.31,0,0,0,12,6.5,5.46,5.46,0,0,0,6.5,12Z\"/>\n",
       "  </svg>\n",
       "    </button>\n",
       "    <script>\n",
       "      (() => {\n",
       "      const buttonEl =\n",
       "        document.querySelector('#id_6d322d21-b68c-4e05-8aa9-587e74b25b3c button.colab-df-generate');\n",
       "      buttonEl.style.display =\n",
       "        google.colab.kernel.accessAllowed ? 'block' : 'none';\n",
       "\n",
       "      buttonEl.onclick = () => {\n",
       "        google.colab.notebook.generateWithVariable('test_results');\n",
       "      }\n",
       "      })();\n",
       "    </script>\n",
       "  </div>\n",
       "\n",
       "    </div>\n",
       "  </div>\n"
      ],
      "text/plain": [
       "       prediction   label\n",
       "0       -0.085124  0.0000\n",
       "1        0.100780  1.9765\n",
       "2       -0.131660  0.0000\n",
       "3        0.100987  3.4571\n",
       "4        0.982250  0.0000\n",
       "...           ...     ...\n",
       "11526    1.858977  1.5467\n",
       "11527    2.398273  1.8794\n",
       "11528   -0.008056  0.0000\n",
       "11529   -0.060100  0.0000\n",
       "11530   -0.096689  0.0000\n",
       "\n",
       "[11531 rows x 2 columns]"
      ]
     },
     "execution_count": 73,
     "metadata": {},
     "output_type": "execute_result"
    }
   ],
   "source": [
    "# test_results = pd.DataFrame([predictions_list,test_data[property]],columns = ['a','aa'])\n",
    "test_results = pd.DataFrame(np.array([predictions_list,test_data[property]]).T,columns = ['prediction','label'])\n",
    "test_results"
   ]
  },
  {
   "cell_type": "code",
   "execution_count": null,
   "metadata": {
    "id": "K7G8mvihCjO0"
   },
   "outputs": [],
   "source": [
    "# test_results.to_csv(f'/content/test_results_20250220.csv',index=False)\n",
    "test_results.to_csv(f'savings/test_results_train50_200epoch.csv',index=False)"
   ]
  },
  {
   "cell_type": "code",
   "execution_count": null,
   "metadata": {
    "id": "WmNeKWiOGXDL"
   },
   "outputs": [],
   "source": []
  }
 ],
 "metadata": {
  "accelerator": "GPU",
  "colab": {
   "authorship_tag": "ABX9TyMiqkFZygdR6ZDGHMOwSwDM",
   "gpuType": "L4",
   "machine_shape": "hm",
   "provenance": []
  },
  "kernelspec": {
   "display_name": "Python 3",
   "name": "python3"
  },
  "language_info": {
   "name": "python"
  }
 },
 "nbformat": 4,
 "nbformat_minor": 0
}
